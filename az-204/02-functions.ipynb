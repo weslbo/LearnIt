{
 "cells": [
  {
   "cell_type": "markdown",
   "metadata": {},
   "source": [
    "# AZ-204: Implement Azure Functions"
   ]
  },
  {
   "cell_type": "code",
   "execution_count": 1,
   "metadata": {},
   "outputs": [],
   "source": [
    "import sys\n",
    "sys.path.append('./../utils')\n",
    "import ai"
   ]
  },
  {
   "cell_type": "markdown",
   "metadata": {},
   "source": [
    "➡️ Answers generated using AI, and grounded in the learn module. Mistakes are possible. Check important info."
   ]
  },
  {
   "cell_type": "markdown",
   "metadata": {},
   "source": [
    "## Explore Azure Functions"
   ]
  },
  {
   "cell_type": "code",
   "execution_count": 2,
   "metadata": {},
   "outputs": [
    {
     "name": "stdout",
     "output_type": "stream",
     "text": [
      "https://learn.microsoft.com/en-us/training/modules/explore-azure-functions/1-introduction\n",
      "https://learn.microsoft.com/en-us/training/modules/explore-azure-functions/2-azure-functions-overview\n",
      "https://learn.microsoft.com/en-us/training/modules/explore-azure-functions/3-compare-azure-functions-hosting-options\n",
      "https://learn.microsoft.com/en-us/training/modules/explore-azure-functions/4-scale-azure-functions\n"
     ]
    },
    {
     "data": {
      "text/plain": [
       "('',\n",
       " 'https://learn.microsoft.com/en-us/training/modules/explore-azure-functions/\\n')"
      ]
     },
     "execution_count": 2,
     "metadata": {},
     "output_type": "execute_result"
    }
   ],
   "source": [
    "%%learn\n",
    "https://learn.microsoft.com/en-us/training/modules/explore-azure-functions/"
   ]
  },
  {
   "cell_type": "code",
   "execution_count": 3,
   "metadata": {},
   "outputs": [
    {
     "data": {
      "text/markdown": [
       "**Serverless** means you can run applications without managing the underlying **infrastructure**. Azure Functions allows you to focus on writing **code** while Azure handles the **scaling** and **maintenance** of resources. You only pay for the compute resources when your functions are actually running, which is known as **pay-per-use** pricing."
      ],
      "text/plain": [
       "<IPython.core.display.Markdown object>"
      ]
     },
     "metadata": {},
     "output_type": "display_data"
    }
   ],
   "source": [
    "%%question\n",
    "Azure Functions are serverless, what does that mean?"
   ]
  },
  {
   "cell_type": "code",
   "execution_count": 4,
   "metadata": {},
   "outputs": [
    {
     "data": {
      "text/markdown": [
       "When using the **Consumption Plan** for Azure Functions, you pay for the **compute resources** only when your functions are executing. This includes charges for **execution time** and the number of **executions**.\n",
       "\n",
       "### Example:\n",
       "- If a function executes **1 million times** and each execution takes **1 second**, you pay for **1 million seconds** of execution.\n",
       "- You are also charged for any **memory** used during these executions.\n",
       "\n",
       "This plan is beneficial for applications with **variable** workloads, as it scales automatically based on demand."
      ],
      "text/plain": [
       "<IPython.core.display.Markdown object>"
      ]
     },
     "metadata": {},
     "output_type": "display_data"
    }
   ],
   "source": [
    "%%question\n",
    "What am I paying for, when using Azure Function consumption plan? Can you share an example?"
   ]
  },
  {
   "cell_type": "code",
   "execution_count": 5,
   "metadata": {},
   "outputs": [
    {
     "data": {
      "text/markdown": [
       "Certainly! **Triggers** are ways to start the execution of your Azure Function. Here are a few examples:\n",
       "\n",
       "1. **HTTP Trigger**: Initiates a function via an HTTP request.\n",
       "   - **Scenario**: A REST API endpoint that processes user data submissions.\n",
       "\n",
       "2. **Timer Trigger**: Executes functions on a schedule.\n",
       "   - **Scenario**: A function that sends daily reports at a specific time.\n",
       "\n",
       "3. **Blob Storage Trigger**: Responds to changes in Azure Blob Storage.\n",
       "   - **Scenario**: Automatically process and analyze files uploaded to a storage container.\n",
       "\n",
       "4. **Queue Storage Trigger**: Activated by new messages in Azure Queue Storage.\n",
       "   - **Scenario**: Process orders added to a queue for an e-commerce application.\n",
       "\n",
       "5. **Event Hub Trigger**: Listens to events in Azure Event Hubs.\n",
       "   - **Scenario**: Real-time processing of telemetry data from IoT devices.\n",
       "\n",
       "6. **Service Bus Trigger**: Reacts to messages in Azure Service Bus queues and topics.\n",
       "   - **Scenario**: Handle order fulfillment messages in a distributed system.\n",
       "\n",
       "Each trigger type allows the function to respond to different types of events, enabling a variety of serverless application scenarios."
      ],
      "text/plain": [
       "<IPython.core.display.Markdown object>"
      ]
     },
     "metadata": {},
     "output_type": "display_data"
    }
   ],
   "source": [
    "%%question\n",
    "Azure Functions support triggers. Can you share examples of different triggers with a brief scenario where they could be usefull?"
   ]
  },
  {
   "cell_type": "code",
   "execution_count": 6,
   "metadata": {},
   "outputs": [
    {
     "data": {
      "text/markdown": [
       "Certainly! **Bindings** in Azure Functions provide a way to connect to different data sources without writing complex integration code. Here are some examples:\n",
       "\n",
       "1. **Input Binding**: Brings data into a function.\n",
       "   - **Scenario**: An Azure Table Storage input binding fetches data from a table to be processed by the function.\n",
       "\n",
       "2. **Output Binding**: Sends data from a function to a specified destination.\n",
       "   - **Scenario**: An output binding to Azure Blob Storage allows the function to save processed data as a new file.\n",
       "\n",
       "3. **Queue Storage Binding**: Used for both input and output, enabling interaction with Azure Queue Storage.\n",
       "   - **Scenario**: A function processes incoming queue messages and adds processed messages to another queue for further handling.\n",
       "\n",
       "4. **Cosmos DB Binding**: Facilitates reading from or writing to Azure Cosmos DB.\n",
       "   - **Scenario**: Retrieve documents from a Cosmos DB collection for analysis or insert new processed data into the database.\n",
       "\n",
       "5. **Service Bus Binding**: Allows functions to send or receive messages from Azure Service Bus.\n",
       "   - **Scenario**: A function can push notifications to a Service Bus queue for downstream processing.\n",
       "\n",
       "Bindings simplify the code required to interact with external data sources, making it easier to focus on business logic."
      ],
      "text/plain": [
       "<IPython.core.display.Markdown object>"
      ]
     },
     "metadata": {},
     "output_type": "display_data"
    }
   ],
   "source": [
    "%%question\n",
    "Azure Functions also support bindings. Can you share examples of different bindings with a brief scenario where they could be usefull?"
   ]
  },
  {
   "cell_type": "code",
   "execution_count": 8,
   "metadata": {},
   "outputs": [
    {
     "data": {
      "text/markdown": [
       "Here's a comparison between **triggers** and **bindings** in a table format:\n",
       "\n",
       "| Aspect | **Trigger** | **Binding** |\n",
       "| --- | --- | --- |\n",
       "| **Purpose** | Initiates the function execution | Connects to data sources or destinations |\n",
       "| **Quantity** | One per function | Multiple per function (input/output) |\n",
       "| **Type** | Mandatory | Optional |\n",
       "| **Examples** | HTTP request, Timer, Blob change | Azure Table input, Blob output, Queue storage |\n",
       "| **Role** | Defines when a function runs | Simplifies data access and storage |\n",
       "\n",
       "**Triggers** start the function, while **bindings** manage data interactions within the function."
      ],
      "text/plain": [
       "<IPython.core.display.Markdown object>"
      ]
     },
     "metadata": {},
     "output_type": "display_data"
    }
   ],
   "source": [
    "%%question\n",
    "What is the difference between a trigger and binding? Aren't they the same? Compare in a table format."
   ]
  },
  {
   "cell_type": "code",
   "execution_count": 9,
   "metadata": {},
   "outputs": [
    {
     "data": {
      "text/markdown": [
       "Bindings exist to **simplify** and **streamline** the process of connecting to various services in Azure Functions. Here are a few reasons why bindings are beneficial:\n",
       "\n",
       "1. **Reduced Code Complexity**: Bindings handle the boilerplate code required to connect to services, allowing developers to focus on writing business logic.\n",
       "\n",
       "2. **Increased Productivity**: With bindings, developers can quickly set up connections without delving into the specifics of each service's API.\n",
       "\n",
       "3. **Consistency**: Bindings provide a consistent way to interact with different services, making the codebase easier to understand and maintain.\n",
       "\n",
       "4. **Flexibility**: Bindings support both input and output operations, enabling seamless data flow between functions and services.\n",
       "\n",
       "By using bindings, developers can create more efficient and maintainable serverless applications."
      ],
      "text/plain": [
       "<IPython.core.display.Markdown object>"
      ]
     },
     "metadata": {},
     "output_type": "display_data"
    }
   ],
   "source": [
    "%%question\n",
    "Why do these binding exist? Why not just write code to connect to the service?"
   ]
  },
  {
   "cell_type": "code",
   "execution_count": 10,
   "metadata": {},
   "outputs": [
    {
     "data": {
      "text/markdown": [
       "Sure, here's a comparison of the different **hosting plans** available for Azure Functions:\n",
       "\n",
       "| **Hosting Plan** | **Features** | **Use Cases** |\n",
       "| --- | --- | --- |\n",
       "| **Consumption Plan** | Pay-as-you-go pricing, automatic scaling | Ideal for applications with variable workloads and short execution times |\n",
       "| **Flex Consumption Plan** | High scalability, pay-as-you-go, virtual networking | Suitable for apps requiring reduced cold starts and predefined instance concurrency |\n",
       "| **Premium Plan** | Automatic scaling, prewarmed workers, virtual network integration | For apps needing more control, custom images, or longer execution times |\n",
       "| **Dedicated Plan** | Manual scaling, predictable billing, App Service Environment | Best for long-running tasks and predictable resource needs |\n",
       "| **Container Apps** | Fully managed, containerized deployment, event-driven scaling | Perfect for custom library packaging and high-end processing power |\n",
       "\n",
       "Each plan offers different benefits in terms of **scaling, pricing,** and **networking capabilities**, catering to various application requirements."
      ],
      "text/plain": [
       "<IPython.core.display.Markdown object>"
      ]
     },
     "metadata": {},
     "output_type": "display_data"
    }
   ],
   "source": [
    "%%question\n",
    "Can you compare the different hosting plans available to run Azure Functions on?"
   ]
  },
  {
   "cell_type": "code",
   "execution_count": 12,
   "metadata": {},
   "outputs": [
    {
     "data": {
      "text/markdown": [
       "The **functionTimeout** property duration depends on the hosting plan:\n",
       "\n",
       "- **Consumption Plan**: \n",
       "  - **Default**: 5 minutes\n",
       "  - **Maximum**: 10 minutes\n",
       "\n",
       "- **Flex Consumption Plan**:\n",
       "  - **Default**: 30 minutes\n",
       "  - **Maximum**: Unlimited (platform limitations may apply)\n",
       "\n",
       "- **Premium Plan**:\n",
       "  - **Default**: 30 minutes\n",
       "  - **Maximum**: Unlimited (platform limitations may apply)\n",
       "\n",
       "- **Dedicated Plan**:\n",
       "  - **Default**: 30 minutes\n",
       "  - **Maximum**: Unlimited (platform limitations may apply)\n",
       "\n",
       "- **Container Apps**:\n",
       "  - **Default**: 30 minutes\n",
       "  - **Maximum**: Unlimited (platform limitations may apply)\n",
       "\n",
       "These settings can be adjusted in the *host.json* file, allowing you to tailor the timeout according to your specific needs and plan limitations."
      ],
      "text/plain": [
       "<IPython.core.display.Markdown object>"
      ]
     },
     "metadata": {},
     "output_type": "display_data"
    }
   ],
   "source": [
    "%%question\n",
    "Azure Functions have a functionTimeout property. What is the duration?"
   ]
  },
  {
   "cell_type": "code",
   "execution_count": 13,
   "metadata": {},
   "outputs": [
    {
     "data": {
      "text/markdown": [
       "For an **HTTP Trigger** in Azure Functions, the maximum amount of time the function can take to respond to a request is **230 seconds**, regardless of the **functionTimeout** setting. This is due to the nature of HTTP connections, which typically require faster responses."
      ],
      "text/plain": [
       "<IPython.core.display.Markdown object>"
      ]
     },
     "metadata": {},
     "output_type": "display_data"
    }
   ],
   "source": [
    "%%question\n",
    "If I have an HTTP Trigger, what is the default timeout?"
   ]
  },
  {
   "cell_type": "code",
   "execution_count": 17,
   "metadata": {},
   "outputs": [
    {
     "name": "stdout",
     "output_type": "stream",
     "text": [
      "0:03:50 minutes\n"
     ]
    }
   ],
   "source": [
    "import datetime\n",
    "print(f\"{str(datetime.timedelta(seconds=230))} minutes\")"
   ]
  },
  {
   "cell_type": "code",
   "execution_count": 18,
   "metadata": {},
   "outputs": [
    {
     "data": {
      "text/markdown": [
       "A **cold start** occurs when an Azure Function is invoked for the first time or after being idle, requiring Azure to allocate resources and initialize the function instance. This can lead to a delay in execution.\n",
       "\n",
       "### Consequences:\n",
       "- **Increased Latency**: Initial requests may experience longer response times.\n",
       "- **User Experience Impact**: Can affect applications that require fast response times, impacting user satisfaction.\n",
       "\n",
       "### How to Avoid:\n",
       "- **Use Premium Plan**: Offers prewarmed workers to reduce cold starts.\n",
       "- **Flex Consumption Plan**: Allows for pre-provisioned instances, minimizing cold start occurrences.\n",
       "- **Keep Functions Warm**: Implement techniques to keep functions \"warm\" by triggering them at regular intervals.\n",
       "\n",
       "Choosing the right hosting plan and optimizing your function setup can significantly mitigate cold start issues."
      ],
      "text/plain": [
       "<IPython.core.display.Markdown object>"
      ]
     },
     "metadata": {},
     "output_type": "display_data"
    }
   ],
   "source": [
    "%%question\n",
    "What is a cold start? What are the consequences? How to avoid this?"
   ]
  },
  {
   "cell_type": "markdown",
   "metadata": {},
   "source": [
    "## Develop Azure Functions"
   ]
  },
  {
   "cell_type": "code",
   "execution_count": 19,
   "metadata": {},
   "outputs": [
    {
     "name": "stdout",
     "output_type": "stream",
     "text": [
      "https://learn.microsoft.com/en-us/training/modules/develop-azure-functions/1-introduction\n",
      "https://learn.microsoft.com/en-us/training/modules/develop-azure-functions/2-azure-function-development-overview\n",
      "https://learn.microsoft.com/en-us/training/modules/develop-azure-functions/3-create-triggers-bindings\n",
      "https://learn.microsoft.com/en-us/training/modules/develop-azure-functions/4-connect-azure-services\n",
      "https://learn.microsoft.com/en-us/training/modules/develop-azure-functions/5-create-function-visual-studio-code\n"
     ]
    },
    {
     "data": {
      "text/plain": [
       "('',\n",
       " 'https://learn.microsoft.com/en-us/training/modules/develop-azure-functions/\\n')"
      ]
     },
     "execution_count": 19,
     "metadata": {},
     "output_type": "execute_result"
    }
   ],
   "source": [
    "%%learn\n",
    "https://learn.microsoft.com/en-us/training/modules/develop-azure-functions/"
   ]
  },
  {
   "cell_type": "code",
   "execution_count": 20,
   "metadata": {},
   "outputs": [
    {
     "data": {
      "text/markdown": [
       "Here's an example of an Azure Functions **HTTP Trigger** in Python that performs **screen scraping** on a given URL and returns the content converted to **Markdown**.\n",
       "\n",
       "### Prerequisites:\n",
       "- BeautifulSoup for parsing HTML\n",
       "- Markdownify for converting HTML to Markdown\n",
       "\n",
       "### Code Example:\n",
       "\n",
       "```python\n",
       "import logging\n",
       "import azure.functions as func\n",
       "import requests\n",
       "from bs4 import BeautifulSoup\n",
       "from markdownify import markdownify as md\n",
       "\n",
       "def main(req: func.HttpRequest) -> func.HttpResponse:\n",
       "    logging.info('Python HTTP trigger function processed a request.')\n",
       "\n",
       "    url = req.params.get('url')\n",
       "    if not url:\n",
       "        return func.HttpResponse(\n",
       "             \"Please pass a URL on the query string or in the request body\",\n",
       "             status_code=400\n",
       "        )\n",
       "\n",
       "    try:\n",
       "        # Fetch the content from the URL\n",
       "        response = requests.get(url)\n",
       "        response.raise_for_status()\n",
       "\n",
       "        # Parse HTML content\n",
       "        soup = BeautifulSoup(response.text, 'html.parser')\n",
       "\n",
       "        # Convert to Markdown\n",
       "        markdown_content = md(str(soup))\n",
       "\n",
       "        return func.HttpResponse(markdown_content, mimetype=\"text/markdown\")\n",
       "\n",
       "    except requests.exceptions.RequestException as e:\n",
       "        logging.error(f\"Request failed: {e}\")\n",
       "        return func.HttpResponse(\n",
       "             \"Failed to fetch the URL content\",\n",
       "             status_code=500\n",
       "        )\n",
       "```\n",
       "\n",
       "### Steps:\n",
       "1. **Fetch URL Content**: Uses `requests` to get the HTML content from the provided URL.\n",
       "2. **Parse HTML**: Utilizes `BeautifulSoup` to parse the HTML.\n",
       "3. **Convert to Markdown**: Converts the parsed HTML to Markdown using `markdownify`.\n",
       "4. **Return Response**: Sends the converted Markdown back as the HTTP response.\n",
       "\n",
       "### Important Notes:\n",
       "- Ensure `beautifulsoup4`, `requests`, and `markdownify` packages are installed in your environment.\n",
       "- This code assumes the function app's `requirements.txt` includes these packages.\n",
       "\n",
       "You can test this function locally in Visual Studio Code using the Azure Functions extension before deploying it to Azure."
      ],
      "text/plain": [
       "<IPython.core.display.Markdown object>"
      ]
     },
     "metadata": {},
     "output_type": "display_data"
    }
   ],
   "source": [
    "%%question\n",
    "Generate an example of an Azure Function HTTP Trigger in Python that takes a URL, performs screen scraping and returns the converted markdown content"
   ]
  },
  {
   "cell_type": "code",
   "execution_count": 21,
   "metadata": {},
   "outputs": [
    {
     "data": {
      "text/markdown": [
       "Here's a sample Azure Functions **Timer Trigger** in C# that runs every **5 minutes** and logs the current time into a **Cosmos DB** container named `logging`.\n",
       "\n",
       "### Prerequisites:\n",
       "- Azure Cosmos DB connection setup.\n",
       "- NuGet package for Cosmos DB: `Microsoft.Azure.WebJobs.Extensions.CosmosDB`.\n",
       "\n",
       "### Code Example:\n",
       "\n",
       "```csharp\n",
       "using System;\n",
       "using Microsoft.Azure.WebJobs;\n",
       "using Microsoft.Extensions.Logging;\n",
       "using Microsoft.Azure.Documents.Client;\n",
       "\n",
       "public static class TimerTriggerFunction\n",
       "{\n",
       "    [FunctionName(\"TimerTriggerFunction\")]\n",
       "    public static void Run(\n",
       "        [TimerTrigger(\"0 */5 * * * *\")] TimerInfo myTimer,\n",
       "        [CosmosDB(\n",
       "            databaseName: \"YourDatabaseName\",\n",
       "            collectionName: \"logging\",\n",
       "            ConnectionStringSetting = \"CosmosDBConnection\")] out dynamic document,\n",
       "        ILogger log)\n",
       "    {\n",
       "        log.LogInformation($\"C# Timer trigger function executed at: {DateTime.Now}\");\n",
       "\n",
       "        // Create a log entry\n",
       "        document = new\n",
       "        {\n",
       "            id = Guid.NewGuid().ToString(),\n",
       "            timestamp = DateTime.UtcNow\n",
       "        };\n",
       "    }\n",
       "}\n",
       "```\n",
       "\n",
       "### Steps:\n",
       "1. **Timer Trigger**: Configured to run every 5 minutes using cron expression `\"0 */5 * * * *\"`.\n",
       "2. **Cosmos DB Output Binding**: Automatically connects to the specified Cosmos DB container and adds a new document.\n",
       "3. **Log Current Time**: Logs the current execution time to both the function log and Cosmos DB.\n",
       "\n",
       "### Configuration:\n",
       "- **CosmosDBConnection**: Add the connection string to your `local.settings.json` for local development and to the app settings in Azure when deployed.\n",
       "\n",
       "### Sample `local.settings.json`:\n",
       "```json\n",
       "{\n",
       "  \"IsEncrypted\": false,\n",
       "  \"Values\": {\n",
       "    \"AzureWebJobsStorage\": \"UseDevelopmentStorage=true\",\n",
       "    \"FUNCTIONS_WORKER_RUNTIME\": \"dotnet\",\n",
       "    \"CosmosDBConnection\": \"YourCosmosDBConnectionString\"\n",
       "  }\n",
       "}\n",
       "```\n",
       "\n",
       "Ensure you replace `\"YourDatabaseName\"` and `\"YourCosmosDBConnectionString\"` with your actual Cosmos DB details. This function logs the time every 5 minutes, showcasing the use of both a timer trigger and Cosmos DB binding in Azure Functions with C#."
      ],
      "text/plain": [
       "<IPython.core.display.Markdown object>"
      ]
     },
     "metadata": {},
     "output_type": "display_data"
    }
   ],
   "source": [
    "%%question\n",
    "Generate a sample in C# that uses a Timer Trigger to run a function every 5 minutes. The function should log the current time into a Cosmos DB container named logging"
   ]
  },
  {
   "cell_type": "code",
   "execution_count": 24,
   "metadata": {},
   "outputs": [
    {
     "data": {
      "text/markdown": [
       "**CRON expressions** are used to schedule tasks to run at specific times or intervals. They consist of five or six fields that define the timing and frequency of execution. Here's a breakdown:\n",
       "\n",
       "1. **Minute** (0 - 59)\n",
       "2. **Hour** (0 - 23)\n",
       "3. **Day of the Month** (1 - 31)\n",
       "4. **Month** (1 - 12)\n",
       "5. **Day of the Week** (0 - 6, where 0 is Sunday)\n",
       "6. **(Optional) Year** (1970 - 2099)\n",
       "\n",
       "### Common Examples:\n",
       "- **Every minute**: `* * * * *`\n",
       "- **Every hour**: `0 * * * *`\n",
       "- **Every day at midnight**: `0 0 * * *`\n",
       "- **Every Monday at 8 AM**: `0 8 * * 1`\n",
       "\n",
       "Special characters like `*`, `-`, `/`, and `,` can be used to create more complex schedules. For example, `*/5 * * * *` runs a task every 5 minutes."
      ],
      "text/plain": [
       "<IPython.core.display.Markdown object>"
      ]
     },
     "metadata": {},
     "output_type": "display_data"
    }
   ],
   "source": [
    "%%question\n",
    "Give me a quick introduction to CRON expresssions"
   ]
  },
  {
   "cell_type": "code",
   "execution_count": 23,
   "metadata": {},
   "outputs": [
    {
     "data": {
      "text/markdown": [
       "Sure, here's a sample Azure Function using **JavaScript** that listens for a **Blob** upload, fetches the blob data, and stores the JSON content into a **Cosmos DB** container.\n",
       "\n",
       "### Prerequisites:\n",
       "- Azure Blob Storage setup.\n",
       "- Azure Cosmos DB setup.\n",
       "- Ensure the `@azure/cosmos` package is included in your project dependencies.\n",
       "\n",
       "### Code Example:\n",
       "\n",
       "1. **function.json**: Configures the trigger and output binding.\n",
       "\n",
       "```json\n",
       "{\n",
       "  \"bindings\": [\n",
       "    {\n",
       "      \"name\": \"myBlob\",\n",
       "      \"type\": \"blobTrigger\",\n",
       "      \"direction\": \"in\",\n",
       "      \"path\": \"your-container-name/{name}\",\n",
       "      \"connection\": \"AzureWebJobsStorage\"\n",
       "    },\n",
       "    {\n",
       "      \"name\": \"outputDocument\",\n",
       "      \"type\": \"cosmosDB\",\n",
       "      \"databaseName\": \"YourDatabaseName\",\n",
       "      \"collectionName\": \"YourCollectionName\",\n",
       "      \"createIfNotExists\": true,\n",
       "      \"connectionStringSetting\": \"CosmosDBConnection\",\n",
       "      \"direction\": \"out\"\n",
       "    }\n",
       "  ]\n",
       "}\n",
       "```\n",
       "\n",
       "2. **index.js**: Implements the function logic.\n",
       "\n",
       "```javascript\n",
       "module.exports = async function (context, myBlob) {\n",
       "    context.log(`Blob trigger function processed blob \\n Name: ${context.bindingData.name} \\n Blob Size: ${myBlob.length} Bytes`);\n",
       "\n",
       "    try {\n",
       "        // Assume the blob content is JSON\n",
       "        const jsonContent = JSON.parse(myBlob.toString());\n",
       "\n",
       "        // Prepare the document for Cosmos DB\n",
       "        const document = {\n",
       "            ...jsonContent,\n",
       "            id: context.bindingData.name // Use blob name as ID, or generate a new one\n",
       "        };\n",
       "\n",
       "        // Output document to Cosmos DB\n",
       "        context.bindings.outputDocument = document;\n",
       "        \n",
       "    } catch (error) {\n",
       "        context.log.error(\"Error processing blob:\", error);\n",
       "    }\n",
       "};\n",
       "```\n",
       "\n",
       "### Description:\n",
       "- **Blob Trigger**: Activated when a blob is uploaded to the specified container.\n",
       "- **Parse JSON**: Converts the blob data to JSON format.\n",
       "- **Cosmos DB Output Binding**: Stores the JSON data in the specified Cosmos DB container.\n",
       "\n",
       "### Configuration:\n",
       "- **AzureWebJobsStorage**: Connection string for Azure Blob Storage.\n",
       "- **CosmosDBConnection**: Connection string for Azure Cosmos DB.\n",
       "\n",
       "### Sample `local.settings.json`:\n",
       "```json\n",
       "{\n",
       "  \"IsEncrypted\": false,\n",
       "  \"Values\": {\n",
       "    \"AzureWebJobsStorage\": \"YourBlobStorageConnectionString\",\n",
       "    \"CosmosDBConnection\": \"YourCosmosDBConnectionString\",\n",
       "    \"FUNCTIONS_WORKER_RUNTIME\": \"node\"\n",
       "  }\n",
       "}\n",
       "```\n",
       "\n",
       "Replace `\"your-container-name\"`, `\"YourDatabaseName\"`, `\"YourCollectionName\"`, and connection strings with your actual Azure Blob Storage and Cosmos DB information. This setup will automatically trigger when a blob is uploaded, parsing the JSON content and storing it in Cosmos DB."
      ],
      "text/plain": [
       "<IPython.core.display.Markdown object>"
      ]
     },
     "metadata": {},
     "output_type": "display_data"
    }
   ],
   "source": [
    "%%question\n",
    "Generate a sample that uses JavaScript to listen for blob uploaded, fetch the blob data and store the JSON content into a Cosmos DB container"
   ]
  }
 ],
 "metadata": {
  "kernelspec": {
   "display_name": "Python 3",
   "language": "python",
   "name": "python3"
  },
  "language_info": {
   "codemirror_mode": {
    "name": "ipython",
    "version": 3
   },
   "file_extension": ".py",
   "mimetype": "text/x-python",
   "name": "python",
   "nbconvert_exporter": "python",
   "pygments_lexer": "ipython3",
   "version": "3.11.9"
  }
 },
 "nbformat": 4,
 "nbformat_minor": 2
}
