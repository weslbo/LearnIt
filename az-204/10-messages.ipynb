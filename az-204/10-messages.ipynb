{
 "cells": [
  {
   "cell_type": "markdown",
   "metadata": {},
   "source": [
    "# AZ-204: Develop message-based solutions"
   ]
  },
  {
   "cell_type": "code",
   "execution_count": 1,
   "metadata": {},
   "outputs": [],
   "source": [
    "import sys\n",
    "sys.path.append('./../utils')\n",
    "import ai"
   ]
  },
  {
   "cell_type": "markdown",
   "metadata": {},
   "source": [
    "## Discover Azure message queues"
   ]
  },
  {
   "cell_type": "code",
   "execution_count": 3,
   "metadata": {},
   "outputs": [
    {
     "name": "stdout",
     "output_type": "stream",
     "text": [
      "https://learn.microsoft.com/en-us/training/modules/discover-azure-message-queue/1-introduction\n",
      "https://learn.microsoft.com/en-us/training/modules/discover-azure-message-queue/2-choose-queue-solution\n",
      "https://learn.microsoft.com/en-us/training/modules/discover-azure-message-queue/3-azure-service-bus-overview\n",
      "https://learn.microsoft.com/en-us/training/modules/discover-azure-message-queue/4-queues-topics-subscriptions\n",
      "https://learn.microsoft.com/en-us/training/modules/discover-azure-message-queue/5-messages-payloads-serialization\n",
      "https://learn.microsoft.com/en-us/training/modules/discover-azure-message-queue/6-send-receive-messages-service-bus\n",
      "https://learn.microsoft.com/en-us/training/modules/discover-azure-message-queue/7-azure-queue-storage-overview\n",
      "https://learn.microsoft.com/en-us/training/modules/discover-azure-message-queue/8-queue-storage-code-examples\n"
     ]
    },
    {
     "data": {
      "text/plain": [
       "('',\n",
       " 'https://learn.microsoft.com/en-us/training/modules/discover-azure-message-queue/\\n')"
      ]
     },
     "execution_count": 3,
     "metadata": {},
     "output_type": "execute_result"
    }
   ],
   "source": [
    "%%learn\n",
    "https://learn.microsoft.com/en-us/training/modules/discover-azure-message-queue/"
   ]
  },
  {
   "cell_type": "code",
   "execution_count": 4,
   "metadata": {},
   "outputs": [
    {
     "data": {
      "text/markdown": [
       "In the context of an **enterprise application**, the purpose of **queuing** is to ensure **reliable** and **efficient** handling of **asynchronous** tasks. It helps manage **workloads**, balance system **performance**, and maintain **scalability** by processing tasks in a **controlled** manner."
      ],
      "text/plain": [
       "<IPython.core.display.Markdown object>"
      ]
     },
     "metadata": {},
     "output_type": "display_data"
    }
   ],
   "source": [
    "%%question\n",
    "What is the purpose of queuing (in the context of an enterprise application)?|"
   ]
  },
  {
   "cell_type": "code",
   "execution_count": 6,
   "metadata": {},
   "outputs": [
    {
     "data": {
      "text/markdown": [
       "In an enterprise **Line of Business (LOB)** application, a **queue mechanism** can be used in **order processing**. When customers place orders, each order is added to a queue. This allows the system to process each order sequentially, ensuring that inventory checks, payment processing, and order fulfillment are handled efficiently and without errors, even during peak times."
      ],
      "text/plain": [
       "<IPython.core.display.Markdown object>"
      ]
     },
     "metadata": {},
     "output_type": "display_data"
    }
   ],
   "source": [
    "%%question\n",
    "Provide an example of a scenario where you would use a queue mechanism in an enterprise LOB application?"
   ]
  },
  {
   "cell_type": "code",
   "execution_count": 7,
   "metadata": {},
   "outputs": [
    {
     "data": {
      "text/markdown": [
       "Azure supports two types of queue mechanisms:\n",
       "\n",
       "1. **Azure Storage Queues**: Part of Azure Storage, designed for **simple** message queuing, offering **reliable** and **persistent** messaging.\n",
       "\n",
       "2. **Azure Service Bus Queues**: Part of the Service Bus, designed for more **complex** messaging needs, supporting **advanced** features like **dead-lettering**, **transactions**, and **topic-based publish/subscribe**."
      ],
      "text/plain": [
       "<IPython.core.display.Markdown object>"
      ]
     },
     "metadata": {},
     "output_type": "display_data"
    }
   ],
   "source": [
    "%%question\n",
    "What are the two types of queue mechanisms that Azure Support?"
   ]
  },
  {
   "cell_type": "code",
   "execution_count": 6,
   "metadata": {},
   "outputs": [
    {
     "data": {
      "text/markdown": [
       "Certainly! Here's a comparison of **Service Bus queues** and **Storage queues** in Azure:\n",
       "\n",
       "| Feature | **Service Bus Queues** | **Storage Queues** |\n",
       "| --- | --- | --- |\n",
       "| Infrastructure | Part of Azure messaging infrastructure | Part of Azure Storage infrastructure |\n",
       "| Message Size | Up to 100 MB | Up to 64 KB |\n",
       "| FIFO Support | Guaranteed FIFO | No strict FIFO guarantee |\n",
       "| Message Retention | Supports message deferral | Messages can be stored for up to 7 days (or longer with updates) |\n",
       "| Protocols | Supports AMQP and HTTP/REST | Supports HTTP/HTTPS |\n",
       "| Advanced Features | Supports transactions, sessions, duplicate detection | Basic queuing features |\n",
       "| Access Control | Role-based access control | Simpler access model |\n",
       "| Use Case | Suitable for complex messaging patterns | Suitable for simple queue storage with large message volumes |\n",
       "\n",
       "Each mechanism is suited for different scenarios based on the complexity and requirements of the application."
      ],
      "text/plain": [
       "<IPython.core.display.Markdown object>"
      ]
     },
     "metadata": {},
     "output_type": "display_data"
    }
   ],
   "source": [
    "%%question\n",
    "Can you compare those two types of queue mechanisms in table format?"
   ]
  },
  {
   "cell_type": "code",
   "execution_count": 8,
   "metadata": {},
   "outputs": [
    {
     "data": {
      "text/markdown": [
       "Here's an example of how to use Azure Storage Queues in C# to send and receive messages:\n",
       "\n",
       "### Prerequisites:\n",
       "- Install Azure.Storage.Queues NuGet package.\n",
       "\n",
       "### Code Example:\n",
       "\n",
       "```csharp\n",
       "using System;\n",
       "using System.Threading.Tasks;\n",
       "using Azure.Storage.Queues; // Namespace for Queue storage types\n",
       "using Azure.Storage.Queues.Models; // Namespace for QueueMessage\n",
       "\n",
       "class Program\n",
       "{\n",
       "    private const string connectionString = \"<Your Azure Storage Connection String>\";\n",
       "    private const string queueName = \"myqueue\";\n",
       "\n",
       "    static async Task Main(string[] args)\n",
       "    {\n",
       "        // Create a queue client\n",
       "        QueueClient queueClient = new QueueClient(connectionString, queueName);\n",
       "\n",
       "        // Create the queue if it doesn't already exist\n",
       "        await queueClient.CreateIfNotExistsAsync();\n",
       "\n",
       "        if (queueClient.Exists())\n",
       "        {\n",
       "            Console.WriteLine($\"Queue '{queueName}' created.\");\n",
       "\n",
       "            // Send a message to the queue\n",
       "            string message = \"Hello, Azure Queue!\";\n",
       "            await queueClient.SendMessageAsync(message);\n",
       "            Console.WriteLine($\"Sent: {message}\");\n",
       "\n",
       "            // Receive a message from the queue\n",
       "            QueueMessage[] messages = await queueClient.ReceiveMessagesAsync(maxMessages: 1);\n",
       "            if (messages.Length > 0)\n",
       "            {\n",
       "                Console.WriteLine($\"Received: {messages[0].MessageText}\");\n",
       "\n",
       "                // Delete the message from the queue\n",
       "                await queueClient.DeleteMessageAsync(messages[0].MessageId, messages[0].PopReceipt);\n",
       "                Console.WriteLine(\"Message deleted.\");\n",
       "            }\n",
       "        }\n",
       "    }\n",
       "}\n",
       "```\n",
       "\n",
       "### Steps:\n",
       "1. Replace `\"<Your Azure Storage Connection String>\"` with your actual Azure Storage account connection string.\n",
       "2. The program creates a queue if it doesn't exist, sends a message, receives it, and then deletes it from the queue.\n",
       "3. Run the program, and you should see the message being sent and received.\n",
       "\n",
       "This example demonstrates basic operations with Azure Storage Queues using the Azure.Storage.Queues library in C#."
      ],
      "text/plain": [
       "<IPython.core.display.Markdown object>"
      ]
     },
     "metadata": {},
     "output_type": "display_data"
    }
   ],
   "source": [
    "%%question\n",
    "Provide a C# example of using Azure Storage Queues (both sending and receiving messages)"
   ]
  },
  {
   "cell_type": "code",
   "execution_count": 9,
   "metadata": {},
   "outputs": [
    {
     "data": {
      "text/markdown": [
       "Here’s a table highlighting the differences between the different tiers of **Azure Service Bus**:\n",
       "\n",
       "| Feature | **Basic** | **Standard** | **Premium** |\n",
       "| --- | --- | --- | --- |\n",
       "| Throughput | Low | Variable | High |\n",
       "| Performance | Variable | Variable | Predictable |\n",
       "| Pricing | Lower, fixed rate | Pay as you go | Fixed pricing |\n",
       "| Features | Basic messaging | Topics, subscriptions, standard broker features | Advanced features like isolation, Geo-disaster recovery, and more |\n",
       "| Message Size | Up to 256 KB | Up to 256 KB | Up to 100 MB |\n",
       "| Scale | Limited | N/A | Scalable workloads |\n",
       "| Use Case | Simple applications, hobby projects | Medium complexity applications | Mission-critical enterprise applications |\n",
       "\n",
       "Each tier is designed to cater to different use cases, from simple applications using the Basic tier to mission-critical, high-performance applications using the Premium tier."
      ],
      "text/plain": [
       "<IPython.core.display.Markdown object>"
      ]
     },
     "metadata": {},
     "output_type": "display_data"
    }
   ],
   "source": [
    "%%question\n",
    "What are the different tiers of Service Bus? Explain in table format highlighting the differences."
   ]
  },
  {
   "cell_type": "code",
   "execution_count": 8,
   "metadata": {},
   "outputs": [
    {
     "data": {
      "text/markdown": [
       "In Azure **Service Bus**, the two message reception modes are:\n",
       "\n",
       "1. **Receive and Delete**: Messages are **removed** from the queue as soon as they are received. This is a **simpler** approach but risks losing messages if processing fails after receipt.\n",
       "\n",
       "2. **Peek Lock**: Messages are **locked** for processing but remain in the queue. This allows for **safe** processing; if processing fails, the message can be **unlocked** and made available to other receivers."
      ],
      "text/plain": [
       "<IPython.core.display.Markdown object>"
      ]
     },
     "metadata": {},
     "output_type": "display_data"
    }
   ],
   "source": [
    "%%question\n",
    "When receiving messages from Service Bus, there is receive and delete or peek lock. What is this?"
   ]
  },
  {
   "cell_type": "code",
   "execution_count": 11,
   "metadata": {},
   "outputs": [
    {
     "data": {
      "text/markdown": [
       "**Duplicate detection** in Azure **Service Bus** is a feature that helps prevent the processing of duplicate messages, ensuring that each message is processed only once. \n",
       "\n",
       "### How it Works:\n",
       "- **Message Identification**: Each message sent to the Service Bus is assigned a unique **MessageId** by the sender.\n",
       "- **Detection Window**: Service Bus maintains a history of MessageIds for a specified **duplicate detection time window** (up to 7 days).\n",
       "- **Processing**: If a message with the same MessageId is sent within this time window, Service Bus identifies it as a duplicate and does not deliver it to the receiver.\n",
       "- **Configuration**: Duplicate detection is an optional feature that can be enabled when creating a queue or topic, and the time window for detection can be configured.\n",
       "\n",
       "This feature is particularly useful in scenarios where network issues or errors might cause a sender to unintentionally send the same message multiple times."
      ],
      "text/plain": [
       "<IPython.core.display.Markdown object>"
      ]
     },
     "metadata": {},
     "output_type": "display_data"
    }
   ],
   "source": [
    "%%question\n",
    "What is duplicate detection and how does it work in Service Bus?"
   ]
  },
  {
   "cell_type": "code",
   "execution_count": 9,
   "metadata": {},
   "outputs": [
    {
     "data": {
      "text/markdown": [
       "**Dead-lettering** in Azure **Service Bus** is a feature that helps handle messages that cannot be **processed** successfully. When a message cannot be delivered or processed due to errors or exceeds a defined **retry** count, it is moved to a **dead-letter queue**. This allows for **separate analysis** and handling of problematic messages without affecting the main queue."
      ],
      "text/plain": [
       "<IPython.core.display.Markdown object>"
      ]
     },
     "metadata": {},
     "output_type": "display_data"
    }
   ],
   "source": [
    "%%question\n",
    "Service Bus has a feature called dead-lettering. What is this?"
   ]
  },
  {
   "cell_type": "code",
   "execution_count": 15,
   "metadata": {},
   "outputs": [
    {
     "data": {
      "text/markdown": [
       "Azure Service Bus does not provide direct notifications when a message is dead-lettered. However, you can implement a monitoring mechanism to handle this:\n",
       "\n",
       "1. **Polling**: Regularly poll the dead-letter queue to check for new messages.\n",
       "2. **Azure Monitor**: Use Azure Monitor and logging to track message processing and identify when messages are moved to the dead-letter queue.\n",
       "3. **Custom Logic**: Implement custom application logic to send alerts or notifications when a message is dead-lettered.\n",
       "\n",
       "These methods help ensure you are aware of and can respond to messages that have been dead-lettered."
      ],
      "text/plain": [
       "<IPython.core.display.Markdown object>"
      ]
     },
     "metadata": {},
     "output_type": "display_data"
    }
   ],
   "source": [
    "%%question\n",
    "Will I get notified if a message is dead-lettered in Service Bus?"
   ]
  },
  {
   "cell_type": "code",
   "execution_count": 13,
   "metadata": {},
   "outputs": [
    {
     "data": {
      "text/markdown": [
       "No, **Azure Storage Queues** do not have a built-in **dead-letter queue** feature like Azure Service Bus. However, you can implement a similar mechanism manually by:\n",
       "\n",
       "1. **Tracking Message Processing**: Monitor message processing attempts and move messages that fail repeatedly to a separate queue designated as a dead-letter queue.\n",
       "2. **Custom Logic**: Implement custom logic in your application to handle and analyze undeliverable messages.\n",
       "\n",
       "This manual approach can help you manage problematic messages in Azure Storage Queues."
      ],
      "text/plain": [
       "<IPython.core.display.Markdown object>"
      ]
     },
     "metadata": {},
     "output_type": "display_data"
    }
   ],
   "source": [
    "%%question\n",
    "Is this also available in Azure Storage Queues?"
   ]
  },
  {
   "cell_type": "code",
   "execution_count": 10,
   "metadata": {},
   "outputs": [
    {
     "data": {
      "text/markdown": [
       "In Azure **Service Bus**, message **sessions** enable the grouping of related messages for **ordered** processing. By using sessions, messages with the same **session ID** are processed **sequentially** by the same consumer, maintaining the order and allowing **stateful** processing across multiple related messages. This is useful for scenarios where message **order** and **context** need to be preserved."
      ],
      "text/plain": [
       "<IPython.core.display.Markdown object>"
      ]
     },
     "metadata": {},
     "output_type": "display_data"
    }
   ],
   "source": [
    "%%question\n",
    "Service Bus can handle messages with a session. What is this?"
   ]
  }
 ],
 "metadata": {
  "kernelspec": {
   "display_name": "Python 3",
   "language": "python",
   "name": "python3"
  },
  "language_info": {
   "codemirror_mode": {
    "name": "ipython",
    "version": 3
   },
   "file_extension": ".py",
   "mimetype": "text/x-python",
   "name": "python",
   "nbconvert_exporter": "python",
   "pygments_lexer": "ipython3",
   "version": "3.11.9"
  }
 },
 "nbformat": 4,
 "nbformat_minor": 2
}
