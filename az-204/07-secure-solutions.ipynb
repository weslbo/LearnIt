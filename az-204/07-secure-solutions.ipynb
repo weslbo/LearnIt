{
 "cells": [
  {
   "cell_type": "markdown",
   "metadata": {},
   "source": [
    "# AZ-204: Implement secure Azure solutions"
   ]
  },
  {
   "cell_type": "code",
   "execution_count": 1,
   "metadata": {},
   "outputs": [],
   "source": [
    "import sys\n",
    "sys.path.append('./../utils')\n",
    "import ai"
   ]
  },
  {
   "cell_type": "markdown",
   "metadata": {},
   "source": [
    "## Implement Azure Key Vault"
   ]
  },
  {
   "cell_type": "code",
   "execution_count": null,
   "metadata": {},
   "outputs": [],
   "source": [
    "%%learn\n",
    "https://learn.microsoft.com/en-us/training/modules/implement-azure-key-vault/"
   ]
  },
  {
   "cell_type": "code",
   "execution_count": 2,
   "metadata": {},
   "outputs": [
    {
     "data": {
      "text/markdown": [
       "From a development perspective, Azure Key Vault simplifies the management of application secrets by providing a centralized, secure location to store and access them. This reduces the need for embedding secrets in code or configuration files, which can lead to security vulnerabilities.\n",
       "\n",
       "From a security perspective, Azure Key Vault enhances security by offering encryption at rest, access control through Azure Active Directory, and logging of secret access for auditing. It helps protect sensitive information, such as API keys and connection strings, from unauthorized access and exposure."
      ],
      "text/plain": [
       "<IPython.core.display.Markdown object>"
      ]
     },
     "metadata": {},
     "output_type": "display_data"
    }
   ],
   "source": [
    "%%question\n",
    "Why do I need Azure Key Vault to store my secrets? Look at this from a development perspective and a security perspective."
   ]
  },
  {
   "cell_type": "code",
   "execution_count": 3,
   "metadata": {},
   "outputs": [
    {
     "data": {
      "text/markdown": [
       "In the context of Azure Key Vault, keys are cryptographic keys used for encryption and decryption operations. They are used for various purposes such as:\n",
       "\n",
       "1. **Data Encryption/Decryption**: Protect sensitive data by encrypting it before storage and decrypting it when needed.\n",
       "2. **Digital Signatures**: Verify the integrity and authenticity of data or documents.\n",
       "3. **Key Wrapping**: Securely encrypt other keys, thus managing a hierarchy of keys securely.\n",
       "4. **SSL/TLS Certificates**: Manage certificates for secure communications over networks.\n",
       "\n",
       "Azure Key Vault provides secure storage and management of these cryptographic keys, ensuring they are protected from unauthorized access."
      ],
      "text/plain": [
       "<IPython.core.display.Markdown object>"
      ]
     },
     "metadata": {},
     "output_type": "display_data"
    }
   ],
   "source": [
    "%%question\n",
    "What are keys in the context of Azure Key Vault? What are they used for?"
   ]
  },
  {
   "cell_type": "code",
   "execution_count": 4,
   "metadata": {},
   "outputs": [
    {
     "data": {
      "text/markdown": [
       "Certificates in Azure Key Vault are digital documents that verify the identity of a server or user, often used in secure communications. They include a public key and information about the entity, signed by a trusted authority (CA).\n",
       "\n",
       "The key differences are:\n",
       "\n",
       "1. **Purpose**: Certificates are primarily used for identity verification and establishing secure connections (e.g., SSL/TLS), while keys are used for encryption, decryption, and signing.\n",
       "2. **Content**: Certificates contain a public key and identity details, whereas keys are raw cryptographic keys without additional identity information.\n",
       "3. **Management**: Certificates require lifecycle management for renewal and trust chain validation, while keys focus on securing cryptographic operations.\n",
       "\n",
       "Azure Key Vault facilitates secure storage and management of both keys and certificates, but they serve distinct purposes in security practices."
      ],
      "text/plain": [
       "<IPython.core.display.Markdown object>"
      ]
     },
     "metadata": {},
     "output_type": "display_data"
    }
   ],
   "source": [
    "%%question\n",
    "How does this differ from certificates?"
   ]
  },
  {
   "cell_type": "code",
   "execution_count": 5,
   "metadata": {},
   "outputs": [
    {
     "data": {
      "text/markdown": [
       "Not necessarily. Whether you create separate Key Vaults for each application depends on your organizational requirements and security policies. Here are some considerations:\n",
       "\n",
       "1. **Isolation**: If applications have different security requirements or are managed by different teams, separate Key Vaults can provide better isolation and access control.\n",
       "\n",
       "2. **Access Control**: You can manage access to secrets, keys, and certificates more granularly if each application has its own Key Vault.\n",
       "\n",
       "3. **Scalability**: A single Key Vault can be used by multiple applications if they share access to some secrets or if managing a single vault is more convenient.\n",
       "\n",
       "4. **Cost**: Consider the cost implications, as each Key Vault incurs its own charges.\n",
       "\n",
       "Ultimately, the decision depends on your need for isolation, ease of management, and security policies."
      ],
      "text/plain": [
       "<IPython.core.display.Markdown object>"
      ]
     },
     "metadata": {},
     "output_type": "display_data"
    }
   ],
   "source": [
    "%%question\n",
    "If I implement several applications in Azure, do I need to create a separate Key Vault for each application?"
   ]
  },
  {
   "cell_type": "code",
   "execution_count": 6,
   "metadata": {},
   "outputs": [
    {
     "data": {
      "text/markdown": [
       "To access an Azure Key Vault, you can use several authentication methods:\n",
       "\n",
       "1. **Azure Active Directory (Azure AD)**: The primary method, using Azure AD identities for role-based access control. This includes:\n",
       "   - **Managed Identities**: Automatically managed identities for applications running on Azure services.\n",
       "   - **Service Principals**: Custom identities for applications needing access to the Key Vault.\n",
       "\n",
       "2. **Client Certificate Authentication**: Using a client certificate installed on the client machine to authenticate requests.\n",
       "\n",
       "3. **Client Secret Authentication**: Using a client secret (password) associated with a service principal for applications accessing the Key Vault.\n",
       "\n",
       "These methods ensure secure and controlled access to the Key Vault resources."
      ],
      "text/plain": [
       "<IPython.core.display.Markdown object>"
      ]
     },
     "metadata": {},
     "output_type": "display_data"
    }
   ],
   "source": [
    "%%question\n",
    "What are the different authentication methods that can be used to access a Key Vault?"
   ]
  },
  {
   "cell_type": "code",
   "execution_count": 10,
   "metadata": {},
   "outputs": [
    {
     "data": {
      "text/markdown": [
       "Certainly! Here's a comparison table focusing on the differences between Azure Role-Based Access Control (RBAC) at the Key Vault scope and Vault Access Policy:\n",
       "\n",
       "| Feature                   | Azure RBAC (Key Vault Scope)                        | Vault Access Policy                             |\n",
       "|---------------------------|-----------------------------------------------------|-------------------------------------------------|\n",
       "| **Scope**                 | Applied specifically to the Key Vault, but roles can be defined at broader scopes | Specific to each individual Key Vault           |\n",
       "| **Granularity**           | Uses predefined roles that can cover various permissions across Azure resources | Requires explicit definition of permissions for keys, secrets, and certificates |\n",
       "| **Flexibility**           | Flexible with role assignments that can be inherited or scoped | Less flexible; permissions must be set manually for each vault |\n",
       "| **Management Complexity** | Easier management with role inheritance and centralized control | Can become complex due to the need for individual configurations |\n",
       "| **Role Assignment**       | Uses Azure AD roles for managing access, allowing for broad or specific access | Directly assigns permissions within the Key Vault |\n",
       "| **Identity Types**        | Supports users, groups, service principals, and managed identities | Supports user, application, and service principal identities |\n",
       "| **Access Control**        | Centralized management within Azure AD, making it easier to track and audit | Managed directly at the Key Vault level, potentially leading to decentralized control |\n",
       "\n",
       "Azure RBAC at the Key Vault scope is generally recommended for its flexibility and ease of integration within larger Azure environments, while Vault Access Policy might be used for more granular, vault-specific access control when needed."
      ],
      "text/plain": [
       "<IPython.core.display.Markdown object>"
      ]
     },
     "metadata": {},
     "output_type": "display_data"
    }
   ],
   "source": [
    "%%question\n",
    "What is the difference between Azure role-based access control (Key Vault scope) and Vault access policy? Compare this in a table"
   ]
  },
  {
   "cell_type": "markdown",
   "metadata": {},
   "source": [
    "## Implement managed identities"
   ]
  },
  {
   "cell_type": "code",
   "execution_count": null,
   "metadata": {},
   "outputs": [],
   "source": [
    "%%learn\n",
    "https://learn.microsoft.com/en-us/training/modules/implement-managed-identities/"
   ]
  },
  {
   "cell_type": "code",
   "execution_count": 11,
   "metadata": {},
   "outputs": [
    {
     "data": {
      "text/markdown": [
       "Storing credentials in your code is problematic because:\n",
       "\n",
       "1. **Security Risk**: Exposed credentials can be easily accessed by unauthorized individuals, especially if the code is shared or stored in public repositories.\n",
       "2. **Lack of Flexibility**: Hardcoded credentials require code changes for updates, making it difficult to rotate secrets regularly.\n",
       "3. **Scalability Issues**: Managing credentials across multiple environments or applications becomes cumbersome.\n",
       "4. **Audit and Compliance**: It’s challenging to track access and changes to credentials, which can lead to compliance issues.\n",
       "\n",
       "Using secure storage solutions like Azure Key Vault mitigates these risks by providing centralized and controlled access to secrets."
      ],
      "text/plain": [
       "<IPython.core.display.Markdown object>"
      ]
     },
     "metadata": {},
     "output_type": "display_data"
    }
   ],
   "source": [
    "%%question\n",
    "What's wrong with storing credentials in your code?"
   ]
  },
  {
   "cell_type": "code",
   "execution_count": 12,
   "metadata": {},
   "outputs": [
    {
     "data": {
      "text/markdown": [
       "Managed identities help avoid storing credentials in your code by automatically providing an identity for applications running on Azure services. This identity can authenticate to Azure resources without needing to embed credentials in the code. Here's how it works:\n",
       "\n",
       "1. **Automatic Credential Management**: Azure handles the creation and rotation of credentials, so developers don't need to manage them manually.\n",
       "2. **Secure Access**: Applications can securely access Azure resources by using their managed identity, reducing the risk of credential exposure.\n",
       "3. **Seamless Integration**: Managed identities integrate with Azure services like Key Vault, allowing applications to retrieve secrets without hardcoding credentials.\n",
       "\n",
       "This approach enhances security and simplifies credential management across Azure environments."
      ],
      "text/plain": [
       "<IPython.core.display.Markdown object>"
      ]
     },
     "metadata": {},
     "output_type": "display_data"
    }
   ],
   "source": [
    "%%question\n",
    "How does managed identities help you avoid storing credentials in your code?"
   ]
  },
  {
   "cell_type": "code",
   "execution_count": 13,
   "metadata": {},
   "outputs": [
    {
     "data": {
      "text/markdown": [
       "The main differences between system-assigned and user-assigned managed identities are:\n",
       "\n",
       "1. **System-Assigned Managed Identity**:\n",
       "   - **Lifecycle**: Tied to a specific Azure resource. When the resource is deleted, the identity is automatically deleted.\n",
       "   - **Usage**: Best for scenarios where the identity is only needed for the lifetime of a single resource.\n",
       "   - **Management**: Simpler to set up as it's automatically managed by Azure.\n",
       "\n",
       "2. **User-Assigned Managed Identity**:\n",
       "   - **Lifecycle**: Independent of any specific resource. The identity remains even if the resource is deleted.\n",
       "   - **Usage**: Suitable for scenarios where the same identity is needed across multiple resources.\n",
       "   - **Management**: Requires additional management as the identity is created and managed separately.\n",
       "\n",
       "**Choosing Between Them**:\n",
       "- Use **system-assigned** when you want a straightforward setup with an identity tied to a single resource.\n",
       "- Use **user-assigned** when you need a reusable identity across multiple resources or want the identity to persist independently of any resource's lifecycle."
      ],
      "text/plain": [
       "<IPython.core.display.Markdown object>"
      ]
     },
     "metadata": {},
     "output_type": "display_data"
    }
   ],
   "source": [
    "%%question\n",
    "What is the difference between a system-assigned managed identity and a user-assigned managed identity? Why would I chose one over the other?"
   ]
  },
  {
   "cell_type": "code",
   "execution_count": 14,
   "metadata": {},
   "outputs": [
    {
     "data": {
      "text/markdown": [
       "Managed identities are supported by a wide range of Azure resources, including:\n",
       "\n",
       "1. **Azure Virtual Machines (VMs)**\n",
       "2. **Azure App Service (Web Apps, API Apps, and Mobile Apps)**\n",
       "3. **Azure Functions**\n",
       "4. **Azure Logic Apps**\n",
       "5. **Azure Kubernetes Service (AKS)**\n",
       "6. **Azure Container Instances**\n",
       "7. **Azure Data Factory**\n",
       "8. **Azure Synapse Analytics**\n",
       "9. **Azure Stream Analytics**\n",
       "10. **Azure Automation**\n",
       "11. **Azure Batch**\n",
       "12. **Azure Virtual Machine Scale Sets**\n",
       "\n",
       "These resources can use managed identities to securely access Azure services without embedding credentials in the code."
      ],
      "text/plain": [
       "<IPython.core.display.Markdown object>"
      ]
     },
     "metadata": {},
     "output_type": "display_data"
    }
   ],
   "source": [
    "%%question\n",
    "What Azure Resources do support managed identity?"
   ]
  },
  {
   "cell_type": "code",
   "execution_count": 15,
   "metadata": {},
   "outputs": [
    {
     "data": {
      "text/markdown": [
       "When you use a managed identity to access a Key Vault, the following steps occur underneath the platform:\n",
       "\n",
       "1. **Identity Assignment**: A managed identity (either system-assigned or user-assigned) is associated with your Azure resource.\n",
       "\n",
       "2. **Token Request**: When the resource needs to access the Key Vault, it requests an OAuth 2.0 access token from Azure Active Directory (AD) using its managed identity.\n",
       "\n",
       "3. **Token Issuance**: Azure AD authenticates the resource using its managed identity and issues an access token, granting permissions to access the Key Vault.\n",
       "\n",
       "4. **Vault Access**: The resource uses this token to authenticate with Key Vault and perform the allowed operations, such as retrieving secrets, keys, or certificates.\n",
       "\n",
       "5. **Authorization**: Key Vault verifies the token and checks the permissions granted to the managed identity. If the identity has the necessary permissions, the requested operation is allowed.\n",
       "\n",
       "This process eliminates the need to handle credentials directly in your application, enhancing security and simplifying access management."
      ],
      "text/plain": [
       "<IPython.core.display.Markdown object>"
      ]
     },
     "metadata": {},
     "output_type": "display_data"
    }
   ],
   "source": [
    "%%question\n",
    "What happens underneath the platform when I use a managed identity to access a Key Vault?"
   ]
  },
  {
   "cell_type": "code",
   "execution_count": 17,
   "metadata": {},
   "outputs": [
    {
     "data": {
      "text/markdown": [
       "Yes, you can simplify secret retrieval by using Azure App Service's integration with Key Vault references. This allows you to retrieve secrets without writing code to interact with the Key Vault API. Here’s how:\n",
       "\n",
       "1. **Enable Managed Identity**:\n",
       "   - Ensure that the system-assigned managed identity is enabled for your App Service.\n",
       "\n",
       "2. **Set Key Vault Access Policy**:\n",
       "   - In Azure Key Vault, add an access policy that grants the necessary permissions (e.g., Get) for secrets to the App Service's managed identity.\n",
       "\n",
       "3. **Configure Key Vault Reference in App Service**:\n",
       "   - In the Azure portal, go to your App Service and navigate to \"Configuration\" under the \"Settings\" section.\n",
       "   - Add a new application setting with the value set to the Key Vault reference syntax: `@Microsoft.KeyVault(SecretUri=<your-secret-uri>)`.\n",
       "   - The `<your-secret-uri>` should be the URI of the secret in the Key Vault.\n",
       "\n",
       "When your application runs, the App Service platform automatically resolves the Key Vault reference and injects the secret value into the application settings, making it available to your app without additional code."
      ],
      "text/plain": [
       "<IPython.core.display.Markdown object>"
      ]
     },
     "metadata": {},
     "output_type": "display_data"
    }
   ],
   "source": [
    "%%question\n",
    "I have a Azure App Service that needs to retrieve a secret from Key Vault. Is there an easier way to refer to the secret?"
   ]
  },
  {
   "cell_type": "code",
   "execution_count": 18,
   "metadata": {},
   "outputs": [
    {
     "data": {
      "text/markdown": [
       "Yes, you can use the Azure CLI to create a user-assigned managed identity and assign it to a virtual machine (VM). Here's how you can do it:\n",
       "\n",
       "1. **Create a User-Assigned Managed Identity**:\n",
       "   ```bash\n",
       "   az identity create --name <identity-name> --resource-group <resource-group-name> --location <location>\n",
       "   ```\n",
       "\n",
       "2. **Assign the Managed Identity to a VM**:\n",
       "   First, get the resource ID of the managed identity:\n",
       "   ```bash\n",
       "   IDENTITY_ID=$(az identity show --name <identity-name> --resource-group <resource-group-name> --query id --output tsv)\n",
       "   ```\n",
       "\n",
       "   Then, assign the identity to your VM:\n",
       "   ```bash\n",
       "   az vm identity assign --resource-group <vm-resource-group> --name <vm-name> --identities $IDENTITY_ID\n",
       "   ```\n",
       "\n",
       "Replace `<identity-name>`, `<resource-group-name>`, `<location>`, `<vm-resource-group>`, and `<vm-name>` with your specific values. This will create the user-assigned managed identity and associate it with your VM."
      ],
      "text/plain": [
       "<IPython.core.display.Markdown object>"
      ]
     },
     "metadata": {},
     "output_type": "display_data"
    }
   ],
   "source": [
    "%%question\n",
    "Can I use the AZ CLI to create a user-assigned identiy and assign it to a VM?"
   ]
  },
  {
   "cell_type": "code",
   "execution_count": 20,
   "metadata": {},
   "outputs": [
    {
     "data": {
      "text/markdown": [
       "To retrieve an access token using a managed identity and access a secret in Azure Key Vault with C#, you can use the `Azure.Identity` and `Azure.Security.KeyVault.Secrets` libraries. Here’s how you can do it:\n",
       "\n",
       "1. **Install Required Packages**:\n",
       "   Use NuGet to install the necessary packages:\n",
       "   ```\n",
       "   dotnet add package Azure.Identity\n",
       "   dotnet add package Azure.Security.KeyVault.Secrets\n",
       "   ```\n",
       "\n",
       "2. **Write the Code**:\n",
       "   ```csharp\n",
       "   using System;\n",
       "   using Azure.Identity;\n",
       "   using Azure.Security.KeyVault.Secrets;\n",
       "\n",
       "   class Program\n",
       "   {\n",
       "       static void Main(string[] args)\n",
       "       {\n",
       "           // Replace with your Key Vault URL\n",
       "           string keyVaultUrl = \"https://<your-key-vault-name>.vault.azure.net\";\n",
       "\n",
       "           // Obtain a credential using the managed identity\n",
       "           var credential = new DefaultAzureCredential();\n",
       "\n",
       "           // Create a client to access the Key Vault\n",
       "           var secretClient = new SecretClient(new Uri(keyVaultUrl), credential);\n",
       "\n",
       "           // Retrieve the secret\n",
       "           string secretName = \"<your-secret-name>\";\n",
       "           KeyVaultSecret secret = secretClient.GetSecret(secretName);\n",
       "\n",
       "           Console.WriteLine($\"Secret value: {secret.Value}\");\n",
       "       }\n",
       "   }\n",
       "   ```\n",
       "\n",
       "Replace `<your-key-vault-name>` and `<your-secret-name>` with your specific Key Vault name and secret name. This code leverages the `DefaultAzureCredential`, which automatically uses the managed identity if the application is running in an Azure environment."
      ],
      "text/plain": [
       "<IPython.core.display.Markdown object>"
      ]
     },
     "metadata": {},
     "output_type": "display_data"
    }
   ],
   "source": [
    "%%question\n",
    "What c# code should I then write to retrieve an access token from the managed identity and use it to access a secret in Key Vault?"
   ]
  },
  {
   "cell_type": "markdown",
   "metadata": {},
   "source": [
    "## Implement Azure App Configuration"
   ]
  },
  {
   "cell_type": "code",
   "execution_count": 22,
   "metadata": {},
   "outputs": [
    {
     "name": "stdout",
     "output_type": "stream",
     "text": [
      "https://learn.microsoft.com/en-us/training/modules/implement-azure-app-configuration/1-introduction\n",
      "https://learn.microsoft.com/en-us/training/modules/implement-azure-app-configuration/2-app-configuration-overview\n",
      "https://learn.microsoft.com/en-us/training/modules/implement-azure-app-configuration/3-keys-values\n",
      "https://learn.microsoft.com/en-us/training/modules/implement-azure-app-configuration/4-app-configuration-feature-management\n",
      "https://learn.microsoft.com/en-us/training/modules/implement-azure-app-configuration/5-secure-app-configuration-data\n"
     ]
    },
    {
     "data": {
      "text/plain": [
       "('',\n",
       " 'https://learn.microsoft.com/en-us/training/modules/implement-azure-app-configuration/\\n')"
      ]
     },
     "execution_count": 22,
     "metadata": {},
     "output_type": "execute_result"
    }
   ],
   "source": [
    "%%learn\n",
    "https://learn.microsoft.com/en-us/training/modules/implement-azure-app-configuration/"
   ]
  },
  {
   "cell_type": "code",
   "execution_count": 23,
   "metadata": {},
   "outputs": [
    {
     "data": {
      "text/markdown": [
       "Azure App Configuration is used to centrally manage application settings and feature flags across multiple environments and applications. It offers several advantages over using appsettings.json files:\n",
       "\n",
       "1. **Centralized Management**: App Configuration allows you to manage settings centrally rather than distributing appsettings.json files across different services.\n",
       "\n",
       "2. **Dynamic Configuration**: You can change configuration settings dynamically without redeploying or restarting your applications.\n",
       "\n",
       "3. **Feature Flags**: It supports feature management, enabling you to toggle features on and off without code changes.\n",
       "\n",
       "4. **Versioning and Labels**: You can label configurations for different environments and versions, making it easier to manage changes.\n",
       "\n",
       "5. **Enhanced Security**: Integrates with Azure Key Vault for secure storage of sensitive information, and uses managed identities for access control.\n",
       "\n",
       "6. **Point-in-time Replay**: It allows you to retrieve settings as they were at a specific point in time.\n",
       "\n",
       "Using appsettings.json is suitable for simple applications, but Azure App Configuration provides more flexibility, scalability, and security for distributed and enterprise-level applications."
      ],
      "text/plain": [
       "<IPython.core.display.Markdown object>"
      ]
     },
     "metadata": {},
     "output_type": "display_data"
    }
   ],
   "source": [
    "%%question\n",
    "What is Azure App Configuration used for? Why not just use settings in the appsettings.json file?"
   ]
  },
  {
   "cell_type": "code",
   "execution_count": null,
   "metadata": {},
   "outputs": [],
   "source": []
  }
 ],
 "metadata": {
  "kernelspec": {
   "display_name": "Python 3",
   "language": "python",
   "name": "python3"
  },
  "language_info": {
   "codemirror_mode": {
    "name": "ipython",
    "version": 3
   },
   "file_extension": ".py",
   "mimetype": "text/x-python",
   "name": "python",
   "nbconvert_exporter": "python",
   "pygments_lexer": "ipython3",
   "version": "3.11.9"
  }
 },
 "nbformat": 4,
 "nbformat_minor": 2
}
