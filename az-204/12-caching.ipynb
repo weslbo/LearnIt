{
 "cells": [
  {
   "cell_type": "markdown",
   "metadata": {},
   "source": [
    "# AZ-204: Implement caching for solutions"
   ]
  },
  {
   "cell_type": "code",
   "execution_count": 1,
   "metadata": {},
   "outputs": [],
   "source": [
    "import sys\n",
    "sys.path.append('./../utils')\n",
    "import ai"
   ]
  },
  {
   "cell_type": "markdown",
   "metadata": {},
   "source": [
    "➡️ Answers generated using AI, and grounded in the learn module. Mistakes are possible. Check important info."
   ]
  },
  {
   "cell_type": "markdown",
   "metadata": {},
   "source": [
    "## Develop for Azure Cache for Redis"
   ]
  },
  {
   "cell_type": "code",
   "execution_count": 2,
   "metadata": {},
   "outputs": [
    {
     "name": "stdout",
     "output_type": "stream",
     "text": [
      "https://learn.microsoft.com/en-us/training/modules/develop-for-azure-cache-for-redis/1-introduction\n",
      "https://learn.microsoft.com/en-us/training/modules/develop-for-azure-cache-for-redis/2-azure-cache-redis-overview\n",
      "https://learn.microsoft.com/en-us/training/modules/develop-for-azure-cache-for-redis/3-configure-azure-cache-redis\n",
      "https://learn.microsoft.com/en-us/training/modules/develop-for-azure-cache-for-redis/4-interact-redis-api\n",
      "https://learn.microsoft.com/en-us/training/modules/develop-for-azure-cache-for-redis/5-console-app-azure-cache-redis\n"
     ]
    },
    {
     "data": {
      "text/plain": [
       "('',\n",
       " 'https://learn.microsoft.com/en-us/training/modules/develop-for-azure-cache-for-redis/\\n')"
      ]
     },
     "execution_count": 2,
     "metadata": {},
     "output_type": "execute_result"
    }
   ],
   "source": [
    "%%learn\n",
    "https://learn.microsoft.com/en-us/training/modules/develop-for-azure-cache-for-redis/"
   ]
  },
  {
   "cell_type": "code",
   "execution_count": 3,
   "metadata": {},
   "outputs": [
    {
     "data": {
      "text/markdown": [
       "**Caching** is important because it significantly improves the **performance** and **scalability** of a system by storing frequently accessed data in faster storage closer to the application. This reduces **response times** and offloads the backend data stores, enhancing the overall user experience."
      ],
      "text/plain": [
       "<IPython.core.display.Markdown object>"
      ]
     },
     "metadata": {},
     "output_type": "display_data"
    }
   ],
   "source": [
    "%%question\n",
    "Why is caching important?"
   ]
  },
  {
   "cell_type": "code",
   "execution_count": 4,
   "metadata": {},
   "outputs": [
    {
     "data": {
      "text/markdown": [
       "**Redis** is an **in-memory data store** that is often used as a **cache**, **database**, or **message broker**. It provides **low-latency** and **high-throughput** data storage, making it ideal for applications that require fast access to data. Redis supports various data structures such as strings, hashes, lists, sets, and more."
      ],
      "text/plain": [
       "<IPython.core.display.Markdown object>"
      ]
     },
     "metadata": {},
     "output_type": "display_data"
    }
   ],
   "source": [
    "%%question\n",
    "What is Redis?"
   ]
  },
  {
   "cell_type": "code",
   "execution_count": 6,
   "metadata": {},
   "outputs": [
    {
     "data": {
      "text/markdown": [
       "**Azure Cache for Redis** works by providing an **in-memory data store** that caches frequently accessed data closer to the application. Here's how it functions:\n",
       "\n",
       "1. **Data Storage**: It stores data in-memory, allowing for **fast read and write operations**.\n",
       "2. **Low Latency**: By keeping data in server memory, it ensures **low-latency** access, significantly speeding up data retrieval.\n",
       "3. **Data Access Patterns**: Supports various patterns like **data caching**, **content caching**, **session storage**, and **job queuing** to improve application performance.\n",
       "4. **Service Tiers**: Offers multiple tiers (Basic, Standard, Premium, Enterprise, Enterprise Flash) to match different performance and feature requirements.\n",
       "5. **Integration**: Easily integrates with applications running on or outside of Azure, allowing seamless use of Redis features.\n",
       "\n",
       "Azure manages the infrastructure, providing **scalability**, **security**, and **reliability** for your caching needs."
      ],
      "text/plain": [
       "<IPython.core.display.Markdown object>"
      ]
     },
     "metadata": {},
     "output_type": "display_data"
    }
   ],
   "source": [
    "%%question\n",
    "How does Azure Cache for Redis work?"
   ]
  },
  {
   "cell_type": "code",
   "execution_count": 7,
   "metadata": {},
   "outputs": [
    {
     "data": {
      "text/markdown": [
       "Azure Cache for Redis supports several key **scenarios** to improve application performance:\n",
       "\n",
       "1. **Data Cache**: Uses the **cache-aside** pattern, loading data into the cache only when needed to reduce load on backend databases.\n",
       "\n",
       "2. **Content Cache**: Provides quick access to **static content** like headers and banners, improving web page loading times.\n",
       "\n",
       "3. **Session Store**: Stores user session data (e.g., shopping carts) in-memory for faster access compared to a database.\n",
       "\n",
       "4. **Job and Message Queuing**: Enables **task queuing** for operations that take time, allowing them to be processed sequentially.\n",
       "\n",
       "5. **Distributed Transactions**: Supports executing commands as a single **atomic operation**, ensuring all succeed or none do.\n",
       "\n",
       "These scenarios help enhance response times and manage data effectively within applications."
      ],
      "text/plain": [
       "<IPython.core.display.Markdown object>"
      ]
     },
     "metadata": {},
     "output_type": "display_data"
    }
   ],
   "source": [
    "%%question\n",
    "What scenarios does Azure Cache for Redis provide?"
   ]
  },
  {
   "cell_type": "code",
   "execution_count": 5,
   "metadata": {},
   "outputs": [
    {
     "data": {
      "text/markdown": [
       "Here are the different **service tiers** for **Azure Cache for Redis**, compared in a table format:\n",
       "\n",
       "| **Tier**            | **Description**                                                                                                                                                                  |\n",
       "|---------------------|----------------------------------------------------------------------------------------------------------------------------------------------------------------------------------|\n",
       "| **Basic**           | Single VM, no SLA. Ideal for **development/test** and noncritical workloads.                                                                                                     |\n",
       "| **Standard**        | Two VMs in a **replicated** configuration.                                                                                                                                       |\n",
       "| **Premium**         | High-performance, higher throughput, lower latency, better availability, and more features. Deployed on more powerful VMs. Supports **clustering** and **persistence**.          |\n",
       "| **Enterprise**      | Powered by Redis Labs' **Redis Enterprise** software. Supports Redis modules like **RediSearch**, **RedisBloom**, and **RedisTimeSeries**. Offers even higher availability.       |\n",
       "| **Enterprise Flash**| Cost-effective, powered by Redis Enterprise software. Extends storage to **nonvolatile memory**, reducing per-GB memory cost.                                                    |\n",
       "\n",
       "Each tier offers different levels of performance, features, and costs to suit various application needs."
      ],
      "text/plain": [
       "<IPython.core.display.Markdown object>"
      ]
     },
     "metadata": {},
     "output_type": "display_data"
    }
   ],
   "source": [
    "%%question\n",
    "What are the different service tiers for Azure Cache for Redis? Compare them in a table format"
   ]
  },
  {
   "cell_type": "code",
   "execution_count": 8,
   "metadata": {},
   "outputs": [
    {
     "data": {
      "text/markdown": [
       "With the **Redis command line tool** on Azure Cache for Redis, you can execute a variety of commands, including:\n",
       "\n",
       "- **PING**: Checks connection to the server, returns \"PONG\".\n",
       "- **SET**: Stores a key/value pair.\n",
       "- **GET**: Retrieves the value associated with a key.\n",
       "- **EXISTS**: Checks if a key exists, returns '1' if true, '0' if false.\n",
       "- **TYPE**: Returns the type of data stored at a key.\n",
       "- **INCR**: Increments the value of a key by '1'.\n",
       "- **INCRBY**: Increments the value of a key by a specified amount.\n",
       "- **DEL**: Deletes the value associated with a key.\n",
       "- **FLUSHDB**: Deletes all keys and values in the database.\n",
       "\n",
       "These commands help manage and interact with your cached data efficiently."
      ],
      "text/plain": [
       "<IPython.core.display.Markdown object>"
      ]
     },
     "metadata": {},
     "output_type": "display_data"
    }
   ],
   "source": [
    "%%question\n",
    "What kind of commands can we execute with the Redis command line tool on Azure Cache for Redis?"
   ]
  },
  {
   "cell_type": "code",
   "execution_count": 9,
   "metadata": {},
   "outputs": [
    {
     "data": {
      "text/markdown": [
       "To access Azure Cache for Redis from a **Python** application, you can use the `redis-py` library. Here's a simple example:\n",
       "\n",
       "1. **Install the Redis library**:\n",
       "\n",
       "   ```bash\n",
       "   pip install redis\n",
       "   ```\n",
       "\n",
       "2. **Connect and interact with the cache**:\n",
       "\n",
       "   ```python\n",
       "   import redis\n",
       "\n",
       "   # Set up the connection to the Redis server\n",
       "   redis_client = redis.StrictRedis(\n",
       "       host='your_cache_name.redis.cache.windows.net',  # Replace with your cache's host name\n",
       "       port=6380,\n",
       "       password='your_access_key',                      # Replace with your access key\n",
       "       ssl=True\n",
       "   )\n",
       "\n",
       "   # Set a key-value pair\n",
       "   redis_client.set('mykey', 'Hello, Redis!')\n",
       "\n",
       "   # Retrieve the value\n",
       "   value = redis_client.get('mykey')\n",
       "   print(value.decode('utf-8'))  # Output: Hello, Redis!\n",
       "   ```\n",
       "\n",
       "Replace `'your_cache_name'` and `'your_access_key'` with your Azure Cache for Redis instance's **host name** and **access key**. This example demonstrates basic connection and data interaction."
      ],
      "text/plain": [
       "<IPython.core.display.Markdown object>"
      ]
     },
     "metadata": {},
     "output_type": "display_data"
    }
   ],
   "source": [
    "%%question\n",
    "Share an example on accessing the Azure Cache for Redis from a Python application"
   ]
  },
  {
   "cell_type": "code",
   "execution_count": 10,
   "metadata": {},
   "outputs": [
    {
     "data": {
      "text/markdown": [
       "To access Azure Cache for Redis from a **C#** application, you can use the **StackExchange.Redis** library. Here's a simple example:\n",
       "\n",
       "1. **Add the StackExchange.Redis package**:\n",
       "\n",
       "   Use NuGet Package Manager to install:\n",
       "   ```bash\n",
       "   dotnet add package StackExchange.Redis\n",
       "   ```\n",
       "\n",
       "2. **Connect and interact with the cache**:\n",
       "\n",
       "   ```csharp\n",
       "   using System;\n",
       "   using StackExchange.Redis;\n",
       "\n",
       "   class Program\n",
       "   {\n",
       "       static void Main()\n",
       "       {\n",
       "           // Connection string to your Redis cache\n",
       "           var connectionString = \"your_cache_name.redis.cache.windows.net:6380,password=your_access_key,ssl=True,abortConnect=False\";\n",
       "\n",
       "           // Connect to the cache\n",
       "           ConnectionMultiplexer redis = ConnectionMultiplexer.Connect(connectionString);\n",
       "           IDatabase db = redis.GetDatabase();\n",
       "\n",
       "           // Set a key-value pair\n",
       "           db.StringSet(\"mykey\", \"Hello, Redis!\");\n",
       "\n",
       "           // Retrieve the value\n",
       "           string value = db.StringGet(\"mykey\");\n",
       "           Console.WriteLine(value);  // Output: Hello, Redis!\n",
       "       }\n",
       "   }\n",
       "   ```\n",
       "\n",
       "Replace `'your_cache_name'` and `'your_access_key'` with your Azure Cache for Redis instance's **host name** and **access key**. This example demonstrates basic connection and data interaction in a C# application."
      ],
      "text/plain": [
       "<IPython.core.display.Markdown object>"
      ]
     },
     "metadata": {},
     "output_type": "display_data"
    }
   ],
   "source": [
    "%%question\n",
    "Share an example on accessing the Azure Cache for Redis from a C# application"
   ]
  },
  {
   "cell_type": "code",
   "execution_count": 11,
   "metadata": {},
   "outputs": [
    {
     "data": {
      "text/markdown": [
       "Yes, you can set the **TTL (Time to Live)** when setting a value in Redis. This is done by specifying an expiration time for the key.\n",
       "\n",
       "Here's an example in **C#** using **StackExchange.Redis**:\n",
       "\n",
       "```csharp\n",
       "using StackExchange.Redis;\n",
       "using System;\n",
       "\n",
       "class Program\n",
       "{\n",
       "    static void Main()\n",
       "    {\n",
       "        var connectionString = \"your_cache_name.redis.cache.windows.net:6380,password=your_access_key,ssl=True,abortConnect=False\";\n",
       "        ConnectionMultiplexer redis = ConnectionMultiplexer.Connect(connectionString);\n",
       "        IDatabase db = redis.GetDatabase();\n",
       "\n",
       "        // Set a key-value pair with a TTL of 60 seconds\n",
       "        db.StringSet(\"mykey\", \"Hello, Redis!\", TimeSpan.FromSeconds(60));\n",
       "\n",
       "        // Retrieve the value\n",
       "        string value = db.StringGet(\"mykey\");\n",
       "        Console.WriteLine(value);  // Output: Hello, Redis!\n",
       "    }\n",
       "}\n",
       "```\n",
       "\n",
       "Replace `'your_cache_name'` and `'your_access_key'` with your Azure Cache for Redis instance details. The `TimeSpan.FromSeconds(60)` sets the TTL to 60 seconds."
      ],
      "text/plain": [
       "<IPython.core.display.Markdown object>"
      ]
     },
     "metadata": {},
     "output_type": "display_data"
    }
   ],
   "source": [
    "%%question\n",
    "Can I set the TTL when setting a value?"
   ]
  },
  {
   "cell_type": "markdown",
   "metadata": {},
   "source": [
    "## Develop for storage on CDNs"
   ]
  },
  {
   "cell_type": "code",
   "execution_count": 12,
   "metadata": {},
   "outputs": [
    {
     "name": "stdout",
     "output_type": "stream",
     "text": [
      "https://learn.microsoft.com/en-us/training/modules/develop-for-storage-cdns/1-introduction\n",
      "https://learn.microsoft.com/en-us/training/modules/develop-for-storage-cdns/2-azure-content-delivery-network-overview\n",
      "https://learn.microsoft.com/en-us/training/modules/develop-for-storage-cdns/3-control-cache-behavior\n",
      "https://learn.microsoft.com/en-us/training/modules/develop-for-storage-cdns/4-azure-cdn-libraries-dotnet\n"
     ]
    },
    {
     "data": {
      "text/plain": [
       "('',\n",
       " 'https://learn.microsoft.com/en-us/training/modules/develop-for-storage-cdns/\\n')"
      ]
     },
     "execution_count": 12,
     "metadata": {},
     "output_type": "execute_result"
    }
   ],
   "source": [
    "%%learn\n",
    "https://learn.microsoft.com/en-us/training/modules/develop-for-storage-cdns/"
   ]
  },
  {
   "cell_type": "code",
   "execution_count": 13,
   "metadata": {},
   "outputs": [
    {
     "data": {
      "text/markdown": [
       "Using a **Content Delivery Network (CDN)** can improve your web application's **performance** and **user experience** by:\n",
       "\n",
       "- **Reducing latency**: By caching content on **edge servers** closer to users.\n",
       "- **Increasing scalability**: Handling high traffic loads efficiently.\n",
       "- **Decreasing load on origin servers**: Serving content directly from edge servers."
      ],
      "text/plain": [
       "<IPython.core.display.Markdown object>"
      ]
     },
     "metadata": {},
     "output_type": "display_data"
    }
   ],
   "source": [
    "%%question\n",
    "Why would I use a content delivery network?"
   ]
  },
  {
   "cell_type": "code",
   "execution_count": 14,
   "metadata": {},
   "outputs": [
    {
     "data": {
      "text/markdown": [
       "A **Content Delivery Network (CDN)** works by distributing content across a network of geographically dispersed **edge servers**. Here's how it operates:\n",
       "\n",
       "1. **User Request**: A user requests a file via a URL with a CDN domain.\n",
       "2. **Routing to Closest POP**: DNS routes the request to the nearest Point of Presence (POP) location.\n",
       "3. **Cache Check**: The edge server checks if the file is cached.\n",
       "   - If cached, the file is served directly.\n",
       "   - If not, the file is requested from the **origin server**.\n",
       "4. **Caching**: The file is cached on the edge server with a **Time-to-Live (TTL)**.\n",
       "5. **Subsequent Requests**: Other users can request the same file, which is served from the cache if the TTL hasn't expired."
      ],
      "text/plain": [
       "<IPython.core.display.Markdown object>"
      ]
     },
     "metadata": {},
     "output_type": "display_data"
    }
   ],
   "source": [
    "%%question\n",
    "How does a content delivery network work?"
   ]
  },
  {
   "cell_type": "code",
   "execution_count": 15,
   "metadata": {},
   "outputs": [
    {
     "data": {
      "text/markdown": [
       "Azure provides several types of **CDNs**:\n",
       "\n",
       "- **Azure CDN from Microsoft**: Offers features like dynamic site acceleration and file compression.\n",
       "- **Azure CDN Standard from Edgio**: Provides global and custom caching rules, geo-filtering, and HTTPS custom domain support.\n",
       "- **Azure CDN Premium from Edgio**: Includes advanced rules engine and detailed analytics.\n"
      ],
      "text/plain": [
       "<IPython.core.display.Markdown object>"
      ]
     },
     "metadata": {},
     "output_type": "display_data"
    }
   ],
   "source": [
    "%%question\n",
    "What kind of CDN's are provided in Azure?"
   ]
  },
  {
   "cell_type": "code",
   "execution_count": 16,
   "metadata": {},
   "outputs": [
    {
     "data": {
      "text/markdown": [
       "**Azure Front Door** is a scalable and secure entry point for fast delivery of your global applications. It acts as a content delivery network (CDN) but also provides additional features:\n",
       "\n",
       "- **Load Balancing**: Distributes traffic across multiple backend services.\n",
       "- **Web Application Firewall (WAF)**: Protects against common web vulnerabilities.\n",
       "- **SSL Termination**: Offers secure communication through HTTPS.\n",
       "- **Global Reach**: Ensures low latency and high availability by routing users to the nearest backend server.\n",
       "\n",
       "Azure Front Door complements Azure CDN by offering these additional capabilities for managing and securing web traffic."
      ],
      "text/plain": [
       "<IPython.core.display.Markdown object>"
      ]
     },
     "metadata": {},
     "output_type": "display_data"
    }
   ],
   "source": [
    "%%question\n",
    "What has Azure Frontdoor to do with this?"
   ]
  },
  {
   "cell_type": "code",
   "execution_count": 17,
   "metadata": {},
   "outputs": [
    {
     "data": {
      "text/markdown": [
       "To set up a **Content Delivery Network (CDN) endpoint** linked to an **Azure Storage Account**, follow these steps:\n",
       "\n",
       "1. **Create a CDN Profile**:\n",
       "   - Go to the Azure Portal.\n",
       "   - Search for \"CDN profiles\" and select \"Create\".\n",
       "   - Fill in the necessary details, like subscription, resource group, and pricing tier.\n",
       "\n",
       "2. **Link to Storage Account**:\n",
       "   - In the CDN profile creation, set the **Origin type** to \"Storage\".\n",
       "   - Select your existing Azure **Storage Account** as the origin.\n",
       "\n",
       "3. **Create a CDN Endpoint**:\n",
       "   - After the CDN profile is created, navigate to it.\n",
       "   - Click on \"+ Endpoint\" to create a new CDN endpoint.\n",
       "   - Enter the endpoint name and select the **origin** (your storage account).\n",
       "\n",
       "4. **Configure Caching and Rules**:\n",
       "   - Set up any caching rules or custom domain settings as needed for your application.\n",
       "\n",
       "5. **Deploy and Test**:\n",
       "   - Once the endpoint is created, use the provided CDN URL to access your content and verify it works as expected. \n",
       "\n",
       "These steps will link your Azure Storage Account to a CDN, enabling efficient content delivery."
      ],
      "text/plain": [
       "<IPython.core.display.Markdown object>"
      ]
     },
     "metadata": {},
     "output_type": "display_data"
    }
   ],
   "source": [
    "%%question\n",
    "How do you setup a content delivery endpoint, linked to a Storage Account?"
   ]
  },
  {
   "cell_type": "code",
   "execution_count": 18,
   "metadata": {},
   "outputs": [
    {
     "data": {
      "text/markdown": [
       "To set up a **Content Delivery Network (CDN) endpoint** linked to an **Azure App Service**, follow these steps:\n",
       "\n",
       "1. **Create a CDN Profile**:\n",
       "   - Go to the Azure Portal.\n",
       "   - Search for \"CDN profiles\" and select \"Create\".\n",
       "   - Provide details like subscription, resource group, and pricing tier.\n",
       "\n",
       "2. **Link to Azure App Service**:\n",
       "   - During the CDN profile creation, set the **Origin type** to \"Custom origin\".\n",
       "   - Enter the **URL** of your Azure App Service as the origin.\n",
       "\n",
       "3. **Create a CDN Endpoint**:\n",
       "   - After the CDN profile is created, go to it.\n",
       "   - Click on \"+ Endpoint\" to create a new CDN endpoint.\n",
       "   - Enter the endpoint name and choose the **origin** (your Azure App Service URL).\n",
       "\n",
       "4. **Configure Caching and Rules**:\n",
       "   - Set up caching rules or custom domain settings as needed for your application.\n",
       "\n",
       "5. **Deploy and Test**:\n",
       "   - Use the CDN URL provided to access your content and ensure everything functions correctly.\n",
       "\n",
       "These steps will set up a CDN endpoint for efficient delivery of content from your Azure App Service."
      ],
      "text/plain": [
       "<IPython.core.display.Markdown object>"
      ]
     },
     "metadata": {},
     "output_type": "display_data"
    }
   ],
   "source": [
    "%%question\n",
    "How do you setup a content delivery endpoint, linked to an Azure App Service?"
   ]
  },
  {
   "cell_type": "code",
   "execution_count": 19,
   "metadata": {},
   "outputs": [
    {
     "data": {
      "text/markdown": [
       "**Minimal modifications** are needed to use a CDN with your application. Generally, you need to:\n",
       "\n",
       "1. **Update URLs**: Change the URLs in your application to point to the CDN endpoint instead of directly to your origin server or storage.\n",
       "\n",
       "2. **Cache Configuration**: Ensure your application sets appropriate cache-control headers for content you want to be cached.\n",
       "\n",
       "3. **Testing**: Test the application to ensure content is being served correctly from the CDN.\n",
       "\n",
       "These changes help route traffic through the CDN for improved performance."
      ],
      "text/plain": [
       "<IPython.core.display.Markdown object>"
      ]
     },
     "metadata": {},
     "output_type": "display_data"
    }
   ],
   "source": [
    "%%question\n",
    "Do I need to make modifications to my application to use a CDN?"
   ]
  },
  {
   "cell_type": "code",
   "execution_count": 20,
   "metadata": {},
   "outputs": [
    {
     "data": {
      "text/markdown": [
       "Certainly! Here are a couple of examples of **Cache-Control** headers:\n",
       "\n",
       "1. **Cache for One Hour**:\n",
       "   ```http\n",
       "   Cache-Control: public, max-age=3600\n",
       "   ```\n",
       "   - **public**: Indicates that the response may be cached by any cache, including browsers and CDNs.\n",
       "   - **max-age=3600**: Sets the cache duration to 3600 seconds (1 hour).\n",
       "\n",
       "2. **No Caching**:\n",
       "   ```http\n",
       "   Cache-Control: no-store, no-cache, must-revalidate\n",
       "   ```\n",
       "   - **no-store**: Prevents caching of the response by any cache.\n",
       "   - **no-cache**: Forces caches to submit the request to the origin server for validation before releasing a cached copy.\n",
       "   - **must-revalidate**: Indicates that once a resource becomes stale, it should not be used without successful validation on the origin server.\n",
       "\n",
       "These headers control how and for how long content should be cached by browsers and CDNs."
      ],
      "text/plain": [
       "<IPython.core.display.Markdown object>"
      ]
     },
     "metadata": {},
     "output_type": "display_data"
    }
   ],
   "source": [
    "%%question\n",
    "Can you provide a couple of Cache-Control Header examples?"
   ]
  },
  {
   "cell_type": "code",
   "execution_count": 21,
   "metadata": {},
   "outputs": [
    {
     "data": {
      "text/markdown": [
       "To set **Cache-Control** headers in a Python web application, you can use a web framework like **Flask** or **Django**. Here are examples for both:\n",
       "\n",
       "### Using Flask:\n",
       "```python\n",
       "from flask import Flask, make_response\n",
       "\n",
       "app = Flask(__name__)\n",
       "\n",
       "@app.route('/')\n",
       "def index():\n",
       "    response = make_response(\"Hello, World!\")\n",
       "    response.headers['Cache-Control'] = 'public, max-age=3600'\n",
       "    return response\n",
       "\n",
       "if __name__ == '__main__':\n",
       "    app.run()\n",
       "```\n",
       "\n",
       "### Using Django:\n",
       "In Django, you can set headers in a view by modifying the response object:\n",
       "\n",
       "```python\n",
       "from django.http import HttpResponse\n",
       "\n",
       "def my_view(request):\n",
       "    response = HttpResponse(\"Hello, World!\")\n",
       "    response['Cache-Control'] = 'public, max-age=3600'\n",
       "    return response\n",
       "```\n",
       "\n",
       "In both examples, the **Cache-Control** header is added to the HTTP response to control caching behavior."
      ],
      "text/plain": [
       "<IPython.core.display.Markdown object>"
      ]
     },
     "metadata": {},
     "output_type": "display_data"
    }
   ],
   "source": [
    "%%question\n",
    "How would I set this in python code?"
   ]
  },
  {
   "cell_type": "code",
   "execution_count": 22,
   "metadata": {},
   "outputs": [
    {
     "data": {
      "text/markdown": [
       "To set a **Cache-Control** header that considers query string parameters, you typically rely on the CDN or web server configuration rather than directly setting it in the application code. However, if you want to manage this within your application, you can adjust headers based on the query string logic.\n",
       "\n",
       "Here's a simplified example using **Flask**:\n",
       "\n",
       "```python\n",
       "from flask import Flask, request, make_response\n",
       "\n",
       "app = Flask(__name__)\n",
       "\n",
       "@app.route('/')\n",
       "def index():\n",
       "    # Example logic: Cache longer if a specific query parameter is present\n",
       "    if 'version' in request.args:\n",
       "        cache_duration = 3600  # 1 hour\n",
       "    else:\n",
       "        cache_duration = 600   # 10 minutes\n",
       "\n",
       "    response = make_response(\"Hello, World!\")\n",
       "    response.headers['Cache-Control'] = f'public, max-age={cache_duration}'\n",
       "    return response\n",
       "\n",
       "if __name__ == '__main__':\n",
       "    app.run()\n",
       "```\n",
       "\n",
       "In this example, the cache duration is set based on the presence of a specific query parameter (`version`). Adjust the logic as needed to fit your requirements."
      ],
      "text/plain": [
       "<IPython.core.display.Markdown object>"
      ]
     },
     "metadata": {},
     "output_type": "display_data"
    }
   ],
   "source": [
    "%%question\n",
    "What about cache control header that configures query string parameters"
   ]
  },
  {
   "cell_type": "code",
   "execution_count": 23,
   "metadata": {},
   "outputs": [
    {
     "data": {
      "text/markdown": [
       "To control cache behavior on an **Azure Content Delivery Network (CDN) endpoint**, you can configure the following:\n",
       "\n",
       "1. **Caching Rules**:\n",
       "   - **Global Caching Rule**: Applies to all requests at the endpoint. It can override HTTP cache-directive headers.\n",
       "   - **Custom Caching Rules**: Apply to specific paths and file extensions, processed in order and can override the global rule.\n",
       "\n",
       "2. **Query String Caching**:\n",
       "   - Configure how the CDN treats requests with query strings, which can affect cacheability.\n",
       "\n",
       "3. **Time-to-Live (TTL) Settings**:\n",
       "   - Set TTL in your HTTP headers or use CDN default values for cache expiration.\n",
       "\n",
       "4. **Cache Purging**:\n",
       "   - Manually purge cached content to remove outdated assets and refresh the cache with new content.\n",
       "\n",
       "Adjust these settings in the **Azure Portal** for fine-grained control over how your content is cached and delivered."
      ],
      "text/plain": [
       "<IPython.core.display.Markdown object>"
      ]
     },
     "metadata": {},
     "output_type": "display_data"
    }
   ],
   "source": [
    "%%question\n",
    "Let's now focus on the Azure Content Delivery Network endpoint. What configuration do I need to apply to control the cache behavior?"
   ]
  },
  {
   "cell_type": "code",
   "execution_count": 24,
   "metadata": {},
   "outputs": [
    {
     "data": {
      "text/markdown": [
       "To ensure the **CDN** is updated after you've made changes to your application, such as updating an image, you can:\n",
       "\n",
       "1. **Purge the CDN Cache**:\n",
       "   - Use the **Azure Portal** to purge the specific file or the entire cache for the endpoint.\n",
       "   - Alternatively, use the **Azure CLI** with the purge command to clear the cache.\n",
       "\n",
       "2. **Version Your Assets**:\n",
       "   - Append a version number or a unique query string to the file URL (e.g., `image.jpg?v=2`).\n",
       "   - This forces the CDN to fetch and cache the updated file as a new asset.\n",
       "\n",
       "These steps help ensure users receive the latest content from the CDN."
      ],
      "text/plain": [
       "<IPython.core.display.Markdown object>"
      ]
     },
     "metadata": {},
     "output_type": "display_data"
    }
   ],
   "source": [
    "%%question\n",
    "I made an update to my application code (e.g. a new image). How can I ensure that the CDN is updated?"
   ]
  },
  {
   "cell_type": "code",
   "execution_count": 25,
   "metadata": {},
   "outputs": [
    {
     "data": {
      "text/markdown": [
       "Yes, you can use the **Azure CLI** to purge content for a specific file. Here's how you can do it:\n",
       "\n",
       "```bash\n",
       "az cdn endpoint purge \\\n",
       "  --resource-group <your-resource-group> \\\n",
       "  --profile-name <your-cdn-profile-name> \\\n",
       "  --name <your-endpoint-name> \\\n",
       "  --content-paths '/path/to/your/file.jpg'\n",
       "```\n",
       "\n",
       "Replace `<your-resource-group>`, `<your-cdn-profile-name>`, `<your-endpoint-name>`, and `/path/to/your/file.jpg` with your specific values. This command will purge only the specified file from the CDN cache."
      ],
      "text/plain": [
       "<IPython.core.display.Markdown object>"
      ]
     },
     "metadata": {},
     "output_type": "display_data"
    }
   ],
   "source": [
    "%%question\n",
    "Can you provide an example using az cli to purge the content. Can this be done for one file only?"
   ]
  }
 ],
 "metadata": {
  "kernelspec": {
   "display_name": "Python 3",
   "language": "python",
   "name": "python3"
  },
  "language_info": {
   "codemirror_mode": {
    "name": "ipython",
    "version": 3
   },
   "file_extension": ".py",
   "mimetype": "text/x-python",
   "name": "python",
   "nbconvert_exporter": "python",
   "pygments_lexer": "ipython3",
   "version": "3.11.9"
  }
 },
 "nbformat": 4,
 "nbformat_minor": 2
}
