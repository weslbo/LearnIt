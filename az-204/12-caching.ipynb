{
 "cells": [
  {
   "cell_type": "markdown",
   "metadata": {},
   "source": [
    "# AZ-204: Implement caching for solutions"
   ]
  },
  {
   "cell_type": "code",
   "execution_count": 1,
   "metadata": {},
   "outputs": [],
   "source": [
    "import sys\n",
    "sys.path.append('./../utils')\n",
    "import ai"
   ]
  },
  {
   "cell_type": "markdown",
   "metadata": {},
   "source": [
    "➡️ Answers generated using AI, and grounded in the learn module. Mistakes are possible. Check important info."
   ]
  },
  {
   "cell_type": "markdown",
   "metadata": {},
   "source": [
    "## Develop for Azure Cache for Redis"
   ]
  },
  {
   "cell_type": "code",
   "execution_count": 2,
   "metadata": {},
   "outputs": [
    {
     "name": "stdout",
     "output_type": "stream",
     "text": [
      "https://learn.microsoft.com/en-us/training/modules/develop-for-azure-cache-for-redis/1-introduction\n",
      "https://learn.microsoft.com/en-us/training/modules/develop-for-azure-cache-for-redis/2-azure-cache-redis-overview\n",
      "https://learn.microsoft.com/en-us/training/modules/develop-for-azure-cache-for-redis/3-configure-azure-cache-redis\n",
      "https://learn.microsoft.com/en-us/training/modules/develop-for-azure-cache-for-redis/4-interact-redis-api\n",
      "https://learn.microsoft.com/en-us/training/modules/develop-for-azure-cache-for-redis/5-console-app-azure-cache-redis\n"
     ]
    },
    {
     "data": {
      "text/plain": [
       "('',\n",
       " 'https://learn.microsoft.com/en-us/training/modules/develop-for-azure-cache-for-redis/\\n')"
      ]
     },
     "execution_count": 2,
     "metadata": {},
     "output_type": "execute_result"
    }
   ],
   "source": [
    "%%learn\n",
    "https://learn.microsoft.com/en-us/training/modules/develop-for-azure-cache-for-redis/"
   ]
  },
  {
   "cell_type": "code",
   "execution_count": 3,
   "metadata": {},
   "outputs": [
    {
     "data": {
      "text/markdown": [
       "**Caching** is important because it **improves performance** and **scalability** by storing frequently accessed data in fast storage close to the application. This reduces **response times** and minimizes load on backend data sources, leading to a smoother and more efficient system operation."
      ],
      "text/plain": [
       "<IPython.core.display.Markdown object>"
      ]
     },
     "metadata": {},
     "output_type": "display_data"
    }
   ],
   "source": [
    "%%question\n",
    "Why is caching important?"
   ]
  },
  {
   "cell_type": "code",
   "execution_count": 4,
   "metadata": {},
   "outputs": [
    {
     "data": {
      "text/markdown": [
       "**Redis** is an **in-memory data store** often used as a **cache** and **message broker**. It supports various data structures and provides high **performance** and **scalability** for applications by quickly processing large volumes of requests."
      ],
      "text/plain": [
       "<IPython.core.display.Markdown object>"
      ]
     },
     "metadata": {},
     "output_type": "display_data"
    }
   ],
   "source": [
    "%%question\n",
    "What is Redis?"
   ]
  },
  {
   "cell_type": "code",
   "execution_count": 5,
   "metadata": {},
   "outputs": [
    {
     "data": {
      "text/markdown": [
       "**Azure Cache for Redis** provides a managed service that uses the **Redis** software to store data in memory. It processes high volumes of application requests by keeping frequently accessed data in the server's memory, ensuring **low-latency** and **high-throughput** data access. It offers various service tiers and supports secure, dedicated Redis server instances with full API compatibility."
      ],
      "text/plain": [
       "<IPython.core.display.Markdown object>"
      ]
     },
     "metadata": {},
     "output_type": "display_data"
    }
   ],
   "source": [
    "%%question\n",
    "How does Azure Cache for Redis work?"
   ]
  },
  {
   "cell_type": "code",
   "execution_count": 6,
   "metadata": {},
   "outputs": [
    {
     "data": {
      "text/markdown": [
       "Azure Cache for Redis supports several key scenarios, including:\n",
       "\n",
       "1. **Data Cache**: Uses the cache-aside pattern to load data into the cache only as needed.\n",
       "2. **Content Cache**: Provides quick access to static content like headers and footers.\n",
       "3. **Session Store**: Efficiently stores user session data, such as shopping carts.\n",
       "4. **Job and Message Queuing**: Manages task queuing for time-consuming operations.\n",
       "5. **Distributed Transactions**: Executes a batch of commands as a single atomic operation."
      ],
      "text/plain": [
       "<IPython.core.display.Markdown object>"
      ]
     },
     "metadata": {},
     "output_type": "display_data"
    }
   ],
   "source": [
    "%%question\n",
    "What scenarios does Azure Cache for Redis provide?"
   ]
  },
  {
   "cell_type": "code",
   "execution_count": 7,
   "metadata": {},
   "outputs": [
    {
     "data": {
      "text/markdown": [
       "| **Tier**             | **Description**                                                                                                                                                                                                                     |\n",
       "|----------------------|-----------------------------------------------------------------------------------------------------------------------------------------------------------------------------------------------------------------------------------------|\n",
       "| **Basic**            | An OSS Redis cache on a single VM. No service-level agreement (SLA). Ideal for development/test and noncritical workloads.                                                                                                             |\n",
       "| **Standard**         | An OSS Redis cache on two VMs in a replicated configuration.                                                                                                                                                                            |\n",
       "| **Premium**          | High-performance OSS Redis caches with higher throughput, lower latency, better availability, and more features. Deployed on more powerful VMs than Basic or Standard.                                                                  |\n",
       "| **Enterprise**       | High-performance caches powered by Redis Labs' Redis Enterprise software. Supports Redis modules like RediSearch, RedisBloom, and RedisTimeSeries. Offers higher availability than the Premium tier.                                   |\n",
       "| **Enterprise Flash** | Cost-effective large caches powered by Redis Labs' Redis Enterprise software. Extends Redis data storage to nonvolatile memory on a VM, reducing overall per-GB memory cost.                                                            |"
      ],
      "text/plain": [
       "<IPython.core.display.Markdown object>"
      ]
     },
     "metadata": {},
     "output_type": "display_data"
    }
   ],
   "source": [
    "%%question\n",
    "What are the different service tiers for Azure Cache for Redis? Compare them in a table format"
   ]
  },
  {
   "cell_type": "code",
   "execution_count": null,
   "metadata": {},
   "outputs": [
    {
     "data": {
      "text/markdown": [
       "With the **Redis command-line tool**, you can execute various commands on Azure Cache for Redis, including:\n",
       "\n",
       "- **PING**: Check the connection to the server.\n",
       "- **SET**: Store a key/value pair in the cache.\n",
       "- **GET**: Retrieve a value from the cache using a key.\n",
       "- **EXISTS**: Check if a key exists in the cache.\n",
       "- **TYPE**: Determine the type of value stored at a key.\n",
       "- **INCR**/**INCRBY**: Increment the integer value of a key by 1 or a specified amount.\n",
       "- **DEL**: Delete a key/value pair.\n",
       "- **FLUSHDB**: Delete all keys and values in the current database."
      ],
      "text/plain": [
       "<IPython.core.display.Markdown object>"
      ]
     },
     "metadata": {},
     "output_type": "display_data"
    }
   ],
   "source": [
    "%%question\n",
    "What kind of commands can we execute with the Redis command line tool on Azure Cache for Redis?"
   ]
  },
  {
   "cell_type": "code",
   "execution_count": 9,
   "metadata": {},
   "outputs": [
    {
     "data": {
      "text/markdown": [
       "To access Azure Cache for Redis from a Python application, you can use the **redis-py** library. Here's a simple example:\n",
       "\n",
       "1. **Install the redis-py package**:\n",
       "   ```bash\n",
       "   pip install redis\n",
       "   ```\n",
       "\n",
       "2. **Connect to the Redis cache**:\n",
       "   ```python\n",
       "   import redis\n",
       "\n",
       "   # Replace with your cache's host name and access key\n",
       "   redis_host = \"your_cache_name.redis.cache.windows.net\"\n",
       "   redis_port = 6380  # Port for SSL connection\n",
       "   redis_password = \"your_access_key\"\n",
       "\n",
       "   # Create a Redis client\n",
       "   client = redis.StrictRedis(\n",
       "       host=redis_host,\n",
       "       port=redis_port,\n",
       "       password=redis_password,\n",
       "       ssl=True  # Enable SSL for secure connection\n",
       "   )\n",
       "   ```\n",
       "\n",
       "3. **Execute Redis commands**:\n",
       "   ```python\n",
       "   # Set a key-value pair\n",
       "   client.set(\"example_key\", \"example_value\")\n",
       "\n",
       "   # Get the value of a key\n",
       "   value = client.get(\"example_key\")\n",
       "   print(f\"The value of 'example_key' is: {value.decode('utf-8')}\")\n",
       "   ```\n",
       "\n",
       "Make sure to replace `\"your_cache_name.redis.cache.windows.net\"` and `\"your_access_key\"` with the appropriate values from your Azure Cache for Redis instance."
      ],
      "text/plain": [
       "<IPython.core.display.Markdown object>"
      ]
     },
     "metadata": {},
     "output_type": "display_data"
    }
   ],
   "source": [
    "%%question\n",
    "Share an example on accessing the Azure Cache for Redis from a Python application"
   ]
  },
  {
   "cell_type": "code",
   "execution_count": 11,
   "metadata": {},
   "outputs": [
    {
     "data": {
      "text/markdown": [
       "To access Azure Cache for Redis from a C# application, you can use the **StackExchange.Redis** library. Here's a basic example:\n",
       "\n",
       "1. **Install the StackExchange.Redis package**:\n",
       "   Use the NuGet Package Manager Console or .NET CLI to install the package:\n",
       "   ```bash\n",
       "   dotnet add package StackExchange.Redis\n",
       "   ```\n",
       "\n",
       "2. **Connect to the Redis cache**:\n",
       "   ```csharp\n",
       "   using StackExchange.Redis;\n",
       "   using System;\n",
       "\n",
       "   class Program\n",
       "   {\n",
       "       static void Main()\n",
       "       {\n",
       "           // Replace with your cache's connection string\n",
       "           string connectionString = \"your_cache_name.redis.cache.windows.net:6380,password=your_access_key,ssl=True,abortConnect=False\";\n",
       "\n",
       "           // Create a connection to the Redis server\n",
       "           ConnectionMultiplexer redis = ConnectionMultiplexer.Connect(connectionString);\n",
       "\n",
       "           // Access the Redis database\n",
       "           IDatabase db = redis.GetDatabase();\n",
       "\n",
       "           // Set a key-value pair\n",
       "           db.StringSet(\"example_key\", \"example_value\");\n",
       "\n",
       "           // Get the value of a key\n",
       "           string value = db.StringGet(\"example_key\");\n",
       "           Console.WriteLine($\"The value of 'example_key' is: {value}\");\n",
       "       }\n",
       "   }\n",
       "   ```\n",
       "\n",
       "Make sure to replace `\"your_cache_name.redis.cache.windows.net\"` and `\"your_access_key\"` with the appropriate values from your Azure Cache for Redis instance."
      ],
      "text/plain": [
       "<IPython.core.display.Markdown object>"
      ]
     },
     "metadata": {},
     "output_type": "display_data"
    }
   ],
   "source": [
    "%%question\n",
    "Share an example on accessing the Azure Cache for Redis from a C# application"
   ]
  },
  {
   "cell_type": "markdown",
   "metadata": {},
   "source": [
    "## Develop for storage on CDNs"
   ]
  },
  {
   "cell_type": "code",
   "execution_count": 12,
   "metadata": {},
   "outputs": [
    {
     "name": "stdout",
     "output_type": "stream",
     "text": [
      "https://learn.microsoft.com/en-us/training/modules/develop-for-storage-cdns/1-introduction\n",
      "https://learn.microsoft.com/en-us/training/modules/develop-for-storage-cdns/2-azure-content-delivery-network-overview\n",
      "https://learn.microsoft.com/en-us/training/modules/develop-for-storage-cdns/3-control-cache-behavior\n",
      "https://learn.microsoft.com/en-us/training/modules/develop-for-storage-cdns/4-azure-cdn-libraries-dotnet\n"
     ]
    },
    {
     "data": {
      "text/plain": [
       "('',\n",
       " 'https://learn.microsoft.com/en-us/training/modules/develop-for-storage-cdns/\\n')"
      ]
     },
     "execution_count": 12,
     "metadata": {},
     "output_type": "execute_result"
    }
   ],
   "source": [
    "%%learn\n",
    "https://learn.microsoft.com/en-us/training/modules/develop-for-storage-cdns/"
   ]
  },
  {
   "cell_type": "code",
   "execution_count": 13,
   "metadata": {},
   "outputs": [
    {
     "data": {
      "text/markdown": [
       "Using a **Content Delivery Network (CDN)** provides several benefits:\n",
       "\n",
       "- **Improved Performance**: CDNs reduce latency by caching content at edge servers closer to users, resulting in faster load times.\n",
       "- **Scalability**: They handle high traffic volumes and sudden spikes efficiently by distributing loads across multiple servers.\n",
       "- **Reliability**: CDNs provide redundancy and failover, ensuring content availability even if one server fails.\n",
       "- **Security**: Some CDNs offer additional security features like DDoS protection and secure content delivery.\n",
       "- **Cost Efficiency**: Offloading traffic to CDNs can reduce bandwidth consumption and lower hosting costs."
      ],
      "text/plain": [
       "<IPython.core.display.Markdown object>"
      ]
     },
     "metadata": {},
     "output_type": "display_data"
    }
   ],
   "source": [
    "%%question\n",
    "Why would I use a content delivery network?"
   ]
  },
  {
   "cell_type": "code",
   "execution_count": 14,
   "metadata": {},
   "outputs": [
    {
     "data": {
      "text/markdown": [
       "A **Content Delivery Network (CDN)** works as follows:\n",
       "\n",
       "1. **Request Routing**: When a user requests content via a URL, the **DNS** routes the request to the most optimal **Point of Presence (POP)**, usually the one geographically closest to the user.\n",
       "\n",
       "2. **Cache Check**: If the requested content is already cached on an edge server in the POP, it's delivered directly to the user, providing a fast response.\n",
       "\n",
       "3. **Fetch from Origin**: If the content is not in the cache, the POP requests it from the **origin server** (e.g., Azure Web App, Azure Storage).\n",
       "\n",
       "4. **Cache and Deliver**: Once fetched, the content is stored in the POP cache and delivered to the user. This cached content is available for subsequent requests until its **Time-to-Live (TTL)** expires.\n",
       "\n",
       "5. **Subsequent Requests**: Other users requesting the same content are directed to the same POP, and if the TTL hasn't expired, content is served from the cache, ensuring fast delivery."
      ],
      "text/plain": [
       "<IPython.core.display.Markdown object>"
      ]
     },
     "metadata": {},
     "output_type": "display_data"
    }
   ],
   "source": [
    "%%question\n",
    "How does a content delivery network work?"
   ]
  },
  {
   "cell_type": "code",
   "execution_count": 15,
   "metadata": {},
   "outputs": [
    {
     "data": {
      "text/markdown": [
       "Azure provides several types of **Content Delivery Networks (CDNs)**:\n",
       "\n",
       "1. **Azure CDN Standard from Microsoft**: Offers dynamic site acceleration, HTTPS support, and basic caching rules.\n",
       "\n",
       "2. **Azure CDN Standard from Edgio**: Provides advanced caching rules, dynamic content acceleration, and real-time analytics.\n",
       "\n",
       "3. **Azure CDN Premium from Edgio**: Includes all Standard features, plus advanced security and geo-filtering capabilities.\n",
       "\n",
       "Each CDN type offers different features and capabilities, so you can choose the one that best fits your performance, security, and content delivery needs."
      ],
      "text/plain": [
       "<IPython.core.display.Markdown object>"
      ]
     },
     "metadata": {},
     "output_type": "display_data"
    }
   ],
   "source": [
    "%%question\n",
    "What kind of CDN's are provided in Azure?"
   ]
  },
  {
   "cell_type": "code",
   "execution_count": 16,
   "metadata": {},
   "outputs": [
    {
     "data": {
      "text/markdown": [
       "**Azure Front Door** is a global, scalable service that optimizes the delivery of your applications by acting as an entry point or \"front door\". It integrates with Azure CDN to provide:\n",
       "\n",
       "- **Global Load Balancing**: Directs user traffic to the nearest or most available backend, improving performance and reliability.\n",
       "- **Application Acceleration**: Uses techniques like SSL termination and content caching for faster delivery.\n",
       "- **Security**: Offers features like Web Application Firewall (WAF) and DDoS protection.\n",
       "- **Customizable Routing**: Provides URL-based routing, session affinity, and more to control traffic flow to your applications.\n",
       "\n",
       "Azure Front Door complements CDN by enhancing application performance and security at the network edge."
      ],
      "text/plain": [
       "<IPython.core.display.Markdown object>"
      ]
     },
     "metadata": {},
     "output_type": "display_data"
    }
   ],
   "source": [
    "%%question\n",
    "What has Azure Frontdoor to do with this?"
   ]
  },
  {
   "cell_type": "code",
   "execution_count": 17,
   "metadata": {},
   "outputs": [
    {
     "data": {
      "text/markdown": [
       "To set up a **Content Delivery Network (CDN) endpoint** linked to an **Azure Storage Account**, follow these steps:\n",
       "\n",
       "1. **Create a Storage Account**:\n",
       "   - Navigate to the Azure Portal.\n",
       "   - Select \"Create a resource\" > \"Storage\" > \"Storage account\".\n",
       "   - Fill in the required details and create the storage account.\n",
       "\n",
       "2. **Upload Content**:\n",
       "   - In the storage account, go to \"Containers\" and create a new container.\n",
       "   - Upload your content (e.g., images, videos) to the container.\n",
       "\n",
       "3. **Create a CDN Profile**:\n",
       "   - In the Azure Portal, select \"Create a resource\" > \"Networking\" > \"CDN profile\".\n",
       "   - Choose a CDN pricing tier (e.g., Standard Microsoft, Standard Edgio).\n",
       "   - Fill in the required details and create the profile.\n",
       "\n",
       "4. **Create a CDN Endpoint**:\n",
       "   - Within the CDN profile, select \"Add an endpoint\".\n",
       "   - Enter a name for the endpoint.\n",
       "   - For \"Origin type\", select \"Storage\".\n",
       "   - For \"Origin hostname\", select your storage account.\n",
       "   - Configure other endpoint settings as needed and create the endpoint.\n",
       "\n",
       "5. **Verify and Test**:\n",
       "   - Once the endpoint is created, you will have a URL to access your content via the CDN.\n",
       "   - Test the URL to ensure content is being delivered through the CDN.\n",
       "\n",
       "This setup allows your storage content to be cached and delivered efficiently via the CDN."
      ],
      "text/plain": [
       "<IPython.core.display.Markdown object>"
      ]
     },
     "metadata": {},
     "output_type": "display_data"
    }
   ],
   "source": [
    "%%question\n",
    "How do you setup a content delivery endpoint, linked to a Storage Account?"
   ]
  },
  {
   "cell_type": "code",
   "execution_count": 18,
   "metadata": {},
   "outputs": [
    {
     "data": {
      "text/markdown": [
       "To set up a **Content Delivery Network (CDN) endpoint** linked to an **Azure App Service**, follow these steps:\n",
       "\n",
       "1. **Create an Azure App Service**:\n",
       "   - Navigate to the Azure Portal.\n",
       "   - Select \"Create a resource\" > \"Web\" > \"Web App\".\n",
       "   - Fill in the required details to create your web app.\n",
       "\n",
       "2. **Deploy Your Application**:\n",
       "   - Deploy your web application to the Azure App Service.\n",
       "\n",
       "3. **Create a CDN Profile**:\n",
       "   - In the Azure Portal, select \"Create a resource\" > \"Networking\" > \"CDN profile\".\n",
       "   - Choose a CDN pricing tier (e.g., Standard Microsoft, Standard Edgio).\n",
       "   - Fill in the required details and create the profile.\n",
       "\n",
       "4. **Create a CDN Endpoint**:\n",
       "   - Within the CDN profile, select \"Add an endpoint\".\n",
       "   - Enter a name for the endpoint.\n",
       "   - For \"Origin type\", select \"App Service\".\n",
       "   - For \"Origin hostname\", select your Azure App Service.\n",
       "   - Configure other endpoint settings as needed and create the endpoint.\n",
       "\n",
       "5. **Verify and Test**:\n",
       "   - Once the endpoint is created, you will receive a URL to access your app via the CDN.\n",
       "   - Test the URL to ensure content is being delivered through the CDN.\n",
       "\n",
       "By using a CDN with your Azure App Service, you improve application performance and scalability by caching content closer to users."
      ],
      "text/plain": [
       "<IPython.core.display.Markdown object>"
      ]
     },
     "metadata": {},
     "output_type": "display_data"
    }
   ],
   "source": [
    "%%question\n",
    "How do you setup a content delivery endpoint, linked to an Azure App Service?"
   ]
  },
  {
   "cell_type": "code",
   "execution_count": 19,
   "metadata": {},
   "outputs": [
    {
     "data": {
      "text/markdown": [
       "Generally, you don't need to make significant modifications to your application to use a **Content Delivery Network (CDN)**. However, consider the following:\n",
       "\n",
       "1. **Update URLs**: Ensure that your application references the CDN URL for static assets like images, scripts, and stylesheets instead of directly referencing the original server.\n",
       "\n",
       "2. **Cache-Control Headers**: Set appropriate cache-control headers to manage how content is cached by the CDN.\n",
       "\n",
       "3. **Test and Validate**: After integrating the CDN, test your application to confirm that assets are loading correctly and performance is improved.\n",
       "\n",
       "These changes help your application utilize the CDN effectively for better performance and scalability."
      ],
      "text/plain": [
       "<IPython.core.display.Markdown object>"
      ]
     },
     "metadata": {},
     "output_type": "display_data"
    }
   ],
   "source": [
    "%%question\n",
    "Do I need to make modifications to my application to use a CDN?"
   ]
  },
  {
   "cell_type": "code",
   "execution_count": 20,
   "metadata": {},
   "outputs": [
    {
     "data": {
      "text/markdown": [
       "Certainly! Here are a couple of examples of **Cache-Control** headers:\n",
       "\n",
       "1. **Cache for a Specific Duration**:\n",
       "   ```http\n",
       "   Cache-Control: public, max-age=3600\n",
       "   ```\n",
       "   - This header indicates that the content is **publicly cacheable** and should be cached for **3600 seconds** (1 hour).\n",
       "\n",
       "2. **No Cache or Store**:\n",
       "   ```http\n",
       "   Cache-Control: no-cache, no-store, must-revalidate\n",
       "   ```\n",
       "   - This header specifies that content should **not be cached** or stored, and must be revalidated with the server on every request. \n",
       "\n",
       "These headers help control how and for how long content is cached by browsers and CDNs."
      ],
      "text/plain": [
       "<IPython.core.display.Markdown object>"
      ]
     },
     "metadata": {},
     "output_type": "display_data"
    }
   ],
   "source": [
    "%%question\n",
    "Can you provide a couple of Cache-Control Header examples?"
   ]
  },
  {
   "cell_type": "code",
   "execution_count": 21,
   "metadata": {},
   "outputs": [
    {
     "data": {
      "text/markdown": [
       "To configure **Cache-Control** headers for resources with query string parameters, you may consider the following approach:\n",
       "\n",
       "1. **Vary Header with Query String**:\n",
       "   ```http\n",
       "   Cache-Control: public, max-age=3600\n",
       "   Vary: Accept-Encoding, Query-String\n",
       "   ```\n",
       "   - This setup allows the CDN to cache different versions of the resource based on the query string parameters, ensuring the correct version is served based on the query string.\n",
       "\n",
       "However, not all CDNs natively support query string variations through the **Vary** header. Instead, you might need to configure the CDN itself to handle query strings appropriately, often through CDN-specific settings rather than HTTP headers. Always check the CDN documentation for query string handling options."
      ],
      "text/plain": [
       "<IPython.core.display.Markdown object>"
      ]
     },
     "metadata": {},
     "output_type": "display_data"
    }
   ],
   "source": [
    "%%question\n",
    "What about cache control header that configures query string parameters"
   ]
  },
  {
   "cell_type": "code",
   "execution_count": 22,
   "metadata": {},
   "outputs": [
    {
     "data": {
      "text/markdown": [
       "To control cache behavior for an **Azure Content Delivery Network (CDN) endpoint**, you can apply the following configurations:\n",
       "\n",
       "1. **Caching Rules**:\n",
       "   - **Global Caching Rule**: Set a global rule to apply a default cache duration for all requests to the endpoint. This rule can override HTTP cache-directive headers.\n",
       "   - **Custom Caching Rules**: Define custom rules for specific paths or file extensions. These rules are processed in order and can override the global caching rule.\n",
       "\n",
       "2. **Query String Caching**:\n",
       "   - Configure how the CDN handles caching for requests with query strings, ensuring that the CDN caches the appropriate variations.\n",
       "\n",
       "3. **Time-to-Live (TTL) Settings**:\n",
       "   - Set TTL for different types of content to determine how long the CDN should cache resources before revalidating with the origin server.\n",
       "\n",
       "4. **Standard Rules Engine**:\n",
       "   - Use the standard rules engine to define advanced conditions and actions, such as modifying HTTP headers, redirecting requests, or setting custom cache policies.\n",
       "\n",
       "These configurations help you optimize caching behavior and ensure that your CDN efficiently manages and serves content to users."
      ],
      "text/plain": [
       "<IPython.core.display.Markdown object>"
      ]
     },
     "metadata": {},
     "output_type": "display_data"
    }
   ],
   "source": [
    "%%question\n",
    "Let's now focus on the Azure Content Delivery Network endpoint. What configuration do I need to apply to control the cache behavior?"
   ]
  },
  {
   "cell_type": "code",
   "execution_count": 23,
   "metadata": {},
   "outputs": [
    {
     "data": {
      "text/markdown": [
       "To ensure that the **Azure Content Delivery Network (CDN)** updates with your new application code or assets, such as an image, you can follow these steps:\n",
       "\n",
       "1. **Version Your Assets**:\n",
       "   - Rename the updated asset (e.g., append a version number or timestamp to the filename) and update the references in your application. This forces the CDN to fetch the new asset since it sees it as a new resource.\n",
       "\n",
       "2. **Purge CDN Cache**:\n",
       "   - Manually purge the cached content from the CDN. This can be done through the Azure Portal:\n",
       "     - Navigate to your CDN profile.\n",
       "     - Select the \"Purge\" option.\n",
       "     - Specify the path of the updated asset or use wildcards to purge multiple files.\n",
       "   - Alternatively, use the Azure CLI to programmatically purge the content.\n",
       "\n",
       "3. **Set Proper Cache-Control Headers**:\n",
       "   - Ensure your assets have appropriate cache-control headers, which may include shorter TTLs for assets that change frequently.\n",
       "\n",
       "These steps help ensure your CDN serves the latest version of your assets to users."
      ],
      "text/plain": [
       "<IPython.core.display.Markdown object>"
      ]
     },
     "metadata": {},
     "output_type": "display_data"
    }
   ],
   "source": [
    "%%question\n",
    "I made an update to my application code (e.g. a new image). How can I ensure that the CDN is updated?"
   ]
  },
  {
   "cell_type": "code",
   "execution_count": 24,
   "metadata": {},
   "outputs": [
    {
     "data": {
      "text/markdown": [
       "Certainly! You can use the **Azure CLI** to purge content from an Azure CDN endpoint, and yes, this can be done for a specific file. Here's an example command:\n",
       "\n",
       "```bash\n",
       "az cdn endpoint purge \\\n",
       "  --resource-group <YourResourceGroupName> \\\n",
       "  --profile-name <YourCDNProfileName> \\\n",
       "  --name <YourCDNEndpointName> \\\n",
       "  --content-paths '/path/to/your/file.jpg'\n",
       "```\n",
       "\n",
       "Replace `<YourResourceGroupName>`, `<YourCDNProfileName>`, `<YourCDNEndpointName>`, and `/path/to/your/file.jpg` with your actual resource group, CDN profile, endpoint name, and the path to the specific file you want to purge.\n",
       "\n",
       "This command will remove the specified file from all CDN edge nodes, ensuring that the next request fetches the updated content from the origin server."
      ],
      "text/plain": [
       "<IPython.core.display.Markdown object>"
      ]
     },
     "metadata": {},
     "output_type": "display_data"
    }
   ],
   "source": [
    "%%question\n",
    "Can you provide an example using az cli to purge the content. Can this be done for one file only?"
   ]
  }
 ],
 "metadata": {
  "kernelspec": {
   "display_name": "Python 3",
   "language": "python",
   "name": "python3"
  },
  "language_info": {
   "codemirror_mode": {
    "name": "ipython",
    "version": 3
   },
   "file_extension": ".py",
   "mimetype": "text/x-python",
   "name": "python",
   "nbconvert_exporter": "python",
   "pygments_lexer": "ipython3",
   "version": "3.11.9"
  }
 },
 "nbformat": 4,
 "nbformat_minor": 2
}
