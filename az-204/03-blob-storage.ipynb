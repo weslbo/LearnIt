{
 "cells": [
  {
   "cell_type": "markdown",
   "metadata": {},
   "source": [
    "# AZ-204: 03 Develop solutions that use Blob storage"
   ]
  },
  {
   "cell_type": "code",
   "execution_count": 1,
   "metadata": {},
   "outputs": [],
   "source": [
    "import sys\n",
    "sys.path.append('./../utils')\n",
    "import ai"
   ]
  },
  {
   "cell_type": "markdown",
   "metadata": {},
   "source": [
    "## Explore Azure Blob storage"
   ]
  },
  {
   "cell_type": "code",
   "execution_count": 2,
   "metadata": {},
   "outputs": [
    {
     "name": "stdout",
     "output_type": "stream",
     "text": [
      "https://learn.microsoft.com/en-us/training/modules/explore-azure-blob-storage/1-introduction\n",
      "https://learn.microsoft.com/en-us/training/modules/explore-azure-blob-storage/2-blob-storage-overview\n",
      "https://learn.microsoft.com/en-us/training/modules/explore-azure-blob-storage/3-blob-storage-resources\n",
      "https://learn.microsoft.com/en-us/training/modules/explore-azure-blob-storage/4-blob-storage-security\n"
     ]
    },
    {
     "data": {
      "text/plain": [
       "('',\n",
       " 'https://learn.microsoft.com/en-us/training/modules/explore-azure-blob-storage/\\n')"
      ]
     },
     "execution_count": 2,
     "metadata": {},
     "output_type": "execute_result"
    }
   ],
   "source": [
    "%%learn\n",
    "https://learn.microsoft.com/en-us/training/modules/explore-azure-blob-storage/"
   ]
  },
  {
   "cell_type": "code",
   "execution_count": 3,
   "metadata": {},
   "outputs": [
    {
     "data": {
      "text/markdown": [
       "Azure Blob Storage is Microsoft's cloud-based object storage solution designed to store large amounts of unstructured data, such as text or binary data. It's versatile, suitable for serving images or documents, streaming media, storing files for distributed access, and more. It offers different types of storage accounts and access tiers to optimize cost and performance based on usage patterns."
      ],
      "text/plain": [
       "<IPython.core.display.Markdown object>"
      ]
     },
     "metadata": {},
     "output_type": "display_data"
    }
   ],
   "source": [
    "%%question\n",
    "What is Azure Blob Storage?"
   ]
  },
  {
   "cell_type": "code",
   "execution_count": 4,
   "metadata": {},
   "outputs": [
    {
     "data": {
      "text/markdown": [
       "From a developer's perspective, choosing Azure Blob Storage over regular disks or fileshares offers several advantages:\n",
       "\n",
       "1. **Scalability**: Blob Storage can handle massive amounts of unstructured data and scales automatically, crucial for applications with fluctuating storage demands.\n",
       "\n",
       "2. **Cost-Effectiveness**: With various access tiers (Hot, Cool, Cold, Archive), you can optimize costs based on how frequently you access your data.\n",
       "\n",
       "3. **Global Access**: Data in Blob Storage can be accessed globally via HTTP/HTTPS, making it ideal for web applications that serve content to users worldwide.\n",
       "\n",
       "4. **Integration and APIs**:\n",
       "   - **Blob Storage**: Offers REST APIs, Azure SDKs, Azure CLI, and PowerShell, facilitating easier integration with cloud-native applications.\n",
       "   - **Disks/Fileshares**: Typically accessed via OS-level file APIs or SMB/NFS protocols, suitable for more traditional, on-premises-like applications.\n",
       "\n",
       "5. **Data Redundancy and Security**: Blob Storage provides various redundancy options and built-in encryption features, ensuring data durability and security.\n",
       "\n",
       "6. **Flexible Data Management**: Blobs can be easily managed individually, allowing for more granular control over data operations compared to traditional disks.\n",
       "\n",
       "Overall, Azure Blob Storage offers a more flexible, scalable, and cost-effective solution tailored to cloud-native applications compared to traditional disk storage or fileshares."
      ],
      "text/plain": [
       "<IPython.core.display.Markdown object>"
      ]
     },
     "metadata": {},
     "output_type": "display_data"
    }
   ],
   "source": [
    "%%question\n",
    "Why would I choose Blob Storage over regular disks or fileshares? Look at this from a developers perspective. Compare also the API's one would use."
   ]
  },
  {
   "cell_type": "markdown",
   "metadata": {},
   "source": [
    "- We can access this from anywhere on the world (HTTP)\n",
    "- Disaster recovery over multiple regions\n",
    "- Authorize different access\n",
    "- CHEAPER\n",
    "- We don't want to handle the infrastructure\n",
    "\n",
    "App:code (c#)\n",
    "-> Machine (os:Windows)\n",
    "-> System.IO.File.WriteText(c:\\file.txt)   <>  Blob Storage SDK\n",
    "-> OS API calls (Win32)\n",
    "\n",
    "-> Azure App Service\n",
    "-> Disk by default does not exist"
   ]
  },
  {
   "cell_type": "code",
   "execution_count": 5,
   "metadata": {},
   "outputs": [
    {
     "data": {
      "text/markdown": [
       "A blob in Azure Blob Storage is a type of object storage that holds unstructured data. Azure supports three types of blobs:\n",
       "\n",
       "1. **Block Blobs**: Used for storing text and binary data, and optimized for streaming and storing large files. They can store up to about 190.7 TiB.\n",
       "   \n",
       "2. **Append Blobs**: Similar to block blobs but optimized for append operations, making them ideal for logging data.\n",
       "\n",
       "3. **Page Blobs**: Designed for random access and used for storing virtual hard drive (VHD) files, with a size limit of 8 TB."
      ],
      "text/plain": [
       "<IPython.core.display.Markdown object>"
      ]
     },
     "metadata": {},
     "output_type": "display_data"
    }
   ],
   "source": [
    "%%question\n",
    "What is a blob?"
   ]
  },
  {
   "cell_type": "markdown",
   "metadata": {},
   "source": [
    "BLOB: **B**inary **L**arge **Ob**ject"
   ]
  },
  {
   "cell_type": "code",
   "execution_count": 6,
   "metadata": {},
   "outputs": [
    {
     "data": {
      "text/markdown": [
       "To create a storage account using Azure CLI, you can use the following command:\n",
       "\n",
       "```bash\n",
       "az storage account create --name <storage-account-name> --resource-group <resource-group-name> --location <location> --sku Standard_LRS\n",
       "```\n",
       "\n",
       "Replace `<storage-account-name>`, `<resource-group-name>`, and `<location>` with your desired storage account name, resource group, and location.\n",
       "\n",
       "**Requirements for the Storage Account Name**:\n",
       "- Must be between 3 and 24 characters long.\n",
       "- Can contain only lowercase letters and numbers.\n",
       "- Must be unique within Azure."
      ],
      "text/plain": [
       "<IPython.core.display.Markdown object>"
      ]
     },
     "metadata": {},
     "output_type": "display_data"
    }
   ],
   "source": [
    "%%question\n",
    "How do I create a storage account with Azure CLI? What are the requirements for the name of the storage account?"
   ]
  },
  {
   "cell_type": "code",
   "execution_count": 7,
   "metadata": {},
   "outputs": [
    {
     "data": {
      "text/markdown": [
       "Yes, OneDrive is built on top of Azure Blob Storage. Blob Storage provides the scalable, secure, and reliable storage infrastructure necessary for OneDrive to store and manage large volumes of user data, such as documents and media files."
      ],
      "text/plain": [
       "<IPython.core.display.Markdown object>"
      ]
     },
     "metadata": {},
     "output_type": "display_data"
    }
   ],
   "source": [
    "%%question\n",
    "Is OneDrive build on top of Blob Storage?"
   ]
  },
  {
   "cell_type": "code",
   "execution_count": null,
   "metadata": {},
   "outputs": [],
   "source": [
    "%%question\n",
    "Create a table comparing key management options for Azure Storage encryption."
   ]
  },
  {
   "cell_type": "code",
   "execution_count": null,
   "metadata": {},
   "outputs": [],
   "source": [
    "%%question\n",
    "What different services are provided by Azure Storage?"
   ]
  },
  {
   "cell_type": "code",
   "execution_count": null,
   "metadata": {},
   "outputs": [],
   "source": [
    "%%question\n",
    "What blob types exist?"
   ]
  },
  {
   "cell_type": "code",
   "execution_count": null,
   "metadata": {},
   "outputs": [],
   "source": [
    "%%question\n",
    "In what scenarios would I choose to create Page Blob?"
   ]
  },
  {
   "cell_type": "code",
   "execution_count": null,
   "metadata": {},
   "outputs": [],
   "source": [
    "%%question\n",
    "Why do I need to choose the block size for uploading?"
   ]
  },
  {
   "cell_type": "code",
   "execution_count": null,
   "metadata": {},
   "outputs": [],
   "source": [
    "%%question\n",
    "Explain the differences between hot, cool, cold and archive tier.\n"
   ]
  },
  {
   "cell_type": "code",
   "execution_count": null,
   "metadata": {},
   "outputs": [],
   "source": [
    "%%question\n",
    "What is it that I'm paying for when choosing any of these services. Provide me with a cost example."
   ]
  },
  {
   "cell_type": "code",
   "execution_count": null,
   "metadata": {},
   "outputs": [],
   "source": [
    "%%question\n",
    "What is the minimum amount of time I should store the data in each of these tiers? What will happen if I remove the data earlier?"
   ]
  },
  {
   "cell_type": "code",
   "execution_count": null,
   "metadata": {},
   "outputs": [],
   "source": [
    "%%question\n",
    "What kind of mechanism is used for archive storage?"
   ]
  },
  {
   "cell_type": "code",
   "execution_count": null,
   "metadata": {},
   "outputs": [],
   "source": [
    "%%question\n",
    "What is a flat namespace? Can I create folders and what is the result?"
   ]
  },
  {
   "cell_type": "markdown",
   "metadata": {},
   "source": [
    "## Manage the Azure Blob storage lifecycle"
   ]
  },
  {
   "cell_type": "code",
   "execution_count": null,
   "metadata": {},
   "outputs": [],
   "source": [
    "%%learn\n",
    "https://learn.microsoft.com/en-us/training/modules/manage-azure-blob-storage-lifecycle/"
   ]
  },
  {
   "cell_type": "code",
   "execution_count": null,
   "metadata": {},
   "outputs": [],
   "source": [
    "%%question\n",
    "How do I move a blob from one access tier to another? Share an example using C#."
   ]
  },
  {
   "cell_type": "code",
   "execution_count": null,
   "metadata": {},
   "outputs": [],
   "source": [
    "%%question\n",
    "Can I automate the lifecycle of blobs in a storage account? Share an example of such a configuration? Also include the AZ CLI command"
   ]
  },
  {
   "cell_type": "code",
   "execution_count": null,
   "metadata": {},
   "outputs": [],
   "source": [
    "%%question\n",
    "What kind of rules can I configure? Is it possible to look for files that have a last accessed property?"
   ]
  },
  {
   "cell_type": "code",
   "execution_count": null,
   "metadata": {},
   "outputs": [],
   "source": [
    "%%question\n",
    "What is rehydration? Share an example on how to do this in C#."
   ]
  },
  {
   "cell_type": "code",
   "execution_count": null,
   "metadata": {},
   "outputs": [],
   "source": [
    "%%question\n",
    "How much time can it take to rehydrate from archive to another tier? What happens during this process?"
   ]
  },
  {
   "cell_type": "code",
   "execution_count": null,
   "metadata": {},
   "outputs": [],
   "source": [
    "%%question\n",
    "What kind of storage is used for archive tier?"
   ]
  },
  {
   "cell_type": "markdown",
   "metadata": {},
   "source": [
    "## Work with Azure Blob storage"
   ]
  },
  {
   "cell_type": "code",
   "execution_count": null,
   "metadata": {},
   "outputs": [],
   "source": [
    "%%learn\n",
    "https://learn.microsoft.com/en-us/training/modules/work-azure-blob-storage/"
   ]
  },
  {
   "cell_type": "code",
   "execution_count": null,
   "metadata": {},
   "outputs": [],
   "source": [
    "%%question\n",
    "What SDK's are available to access a blob storage account?"
   ]
  },
  {
   "cell_type": "code",
   "execution_count": null,
   "metadata": {},
   "outputs": [],
   "source": [
    "%%question\n",
    "Share an example in C# on how to connect to a blob storage account using the account key and using a Microsoft Entra ID."
   ]
  },
  {
   "cell_type": "code",
   "execution_count": null,
   "metadata": {},
   "outputs": [],
   "source": [
    "%%question\n",
    "Share an example in C# on how create a container in a blob storage account"
   ]
  },
  {
   "cell_type": "code",
   "execution_count": null,
   "metadata": {},
   "outputs": [],
   "source": [
    "%%question\n",
    "Share an example in C# on how to set metadata key/value on the container"
   ]
  },
  {
   "cell_type": "code",
   "execution_count": null,
   "metadata": {},
   "outputs": [],
   "source": [
    "%%question\n",
    "Share an example using HTTP Rest on how to retrieve the metadata from the container"
   ]
  },
  {
   "cell_type": "code",
   "execution_count": null,
   "metadata": {},
   "outputs": [],
   "source": [
    "%%question\n",
    "Share an example in C# on how to upload a blob to a container\n"
   ]
  },
  {
   "cell_type": "code",
   "execution_count": null,
   "metadata": {},
   "outputs": [],
   "source": [
    "%%question\n",
    "Share an example in C# on how to download the blob from the container"
   ]
  },
  {
   "cell_type": "code",
   "execution_count": null,
   "metadata": {},
   "outputs": [],
   "source": [
    "%%question\n",
    "Share an example in C# on how to set metadata key/value on the blob"
   ]
  },
  {
   "cell_type": "code",
   "execution_count": null,
   "metadata": {},
   "outputs": [],
   "source": [
    "%%question\n",
    "Share an example in C# on how to delete a blob\n"
   ]
  },
  {
   "cell_type": "code",
   "execution_count": null,
   "metadata": {},
   "outputs": [],
   "source": [
    "%%question\n",
    "Share an example in C# on how to delete the container"
   ]
  },
  {
   "cell_type": "code",
   "execution_count": null,
   "metadata": {},
   "outputs": [],
   "source": []
  }
 ],
 "metadata": {
  "kernelspec": {
   "display_name": "Python 3",
   "language": "python",
   "name": "python3"
  },
  "language_info": {
   "codemirror_mode": {
    "name": "ipython",
    "version": 3
   },
   "file_extension": ".py",
   "mimetype": "text/x-python",
   "name": "python",
   "nbconvert_exporter": "python",
   "pygments_lexer": "ipython3",
   "version": "3.11.9"
  }
 },
 "nbformat": 4,
 "nbformat_minor": 2
}
