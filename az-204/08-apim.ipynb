{
 "cells": [
  {
   "cell_type": "markdown",
   "metadata": {},
   "source": [
    "# AZ-204: Implement API Management"
   ]
  },
  {
   "cell_type": "code",
   "execution_count": 1,
   "metadata": {},
   "outputs": [],
   "source": [
    "import sys\n",
    "sys.path.append('./../utils')\n",
    "import ai"
   ]
  },
  {
   "cell_type": "markdown",
   "metadata": {},
   "source": [
    "## Explore API Management"
   ]
  },
  {
   "cell_type": "code",
   "execution_count": 2,
   "metadata": {},
   "outputs": [
    {
     "data": {
      "text/markdown": [
       "1. **Identify** the IP address causing the issue.\n",
       "2. **Block** the IP using Azure App Service's IP restrictions.\n",
       "3. **Implement** rate limiting to prevent future abuse.\n",
       "4. **Monitor** traffic for further suspicious activity.\n",
       "5. **Review** API logs to understand the attack pattern.\n",
       "6. **Update** security protocols as needed."
      ],
      "text/plain": [
       "<IPython.core.display.Markdown object>"
      ]
     },
     "metadata": {},
     "output_type": "display_data"
    }
   ],
   "source": [
    "%%question\n",
    "The security team of Contoso Inc noticed a particular IP Address is firing thousands of the requests against your API, \n",
    "hosted on Azure App Service. What would do?"
   ]
  },
  {
   "cell_type": "code",
   "execution_count": 3,
   "metadata": {},
   "outputs": [
    {
     "name": "stdout",
     "output_type": "stream",
     "text": [
      "https://learn.microsoft.com/en-us/training/modules/explore-api-management/1-introduction\n",
      "https://learn.microsoft.com/en-us/training/modules/explore-api-management/2-api-management-overview\n",
      "https://learn.microsoft.com/en-us/training/modules/explore-api-management/3-api-gateways\n",
      "https://learn.microsoft.com/en-us/training/modules/explore-api-management/4-api-management-policies\n",
      "https://learn.microsoft.com/en-us/training/modules/explore-api-management/5-create-advanced-policies\n",
      "https://learn.microsoft.com/en-us/training/modules/explore-api-management/6-secure-access-api-subscriptions\n",
      "https://learn.microsoft.com/en-us/training/modules/explore-api-management/7-secure-access-api-certificates\n"
     ]
    },
    {
     "data": {
      "text/plain": [
       "('',\n",
       " 'https://learn.microsoft.com/en-us/training/modules/explore-api-management/\\n')"
      ]
     },
     "execution_count": 3,
     "metadata": {},
     "output_type": "execute_result"
    }
   ],
   "source": [
    "%%learn\n",
    "https://learn.microsoft.com/en-us/training/modules/explore-api-management/"
   ]
  },
  {
   "cell_type": "code",
   "execution_count": 4,
   "metadata": {},
   "outputs": [
    {
     "data": {
      "text/markdown": [
       "The purpose of **API Management** is to help organizations **publish** APIs to external, partner, and internal developers, unlocking the potential of their data and services. It provides core functionality such as developer engagement, business insights, analytics, security, and protection to ensure a successful API program."
      ],
      "text/plain": [
       "<IPython.core.display.Markdown object>"
      ]
     },
     "metadata": {},
     "output_type": "display_data"
    }
   ],
   "source": [
    "%%question\n",
    "What is the purpose of API Management?"
   ]
  },
  {
   "cell_type": "code",
   "execution_count": 5,
   "metadata": {},
   "outputs": [
    {
     "data": {
      "text/markdown": [
       "If you don't use **API Management**, you might face several challenges, including:\n",
       "\n",
       "1. **Complex Client Code**: Clients need to manage multiple endpoints and handle failures themselves.\n",
       "2. **Tight Coupling**: Clients become tightly coupled to backend services, making maintenance and refactoring difficult.\n",
       "3. **Security Concerns**: Each service must handle authentication, SSL, and rate limiting individually, increasing the risk of vulnerabilities.\n",
       "4. **Scalability Issues**: It can be challenging to apply consistent policies such as rate limiting and caching across different services.\n",
       "5. **Increased Attack Surface**: Exposing services directly can increase the potential for attacks.\n",
       "6. **Protocol Limitations**: Services need to expose client-friendly protocols, which can limit protocol choices."
      ],
      "text/plain": [
       "<IPython.core.display.Markdown object>"
      ]
     },
     "metadata": {},
     "output_type": "display_data"
    }
   ],
   "source": [
    "%%question\n",
    "If I dont' use API Management, what are some of the challenges I might face?"
   ]
  },
  {
   "cell_type": "markdown",
   "metadata": {},
   "source": [
    "WSDL? Webservices Description Language - XML SOAP"
   ]
  },
  {
   "cell_type": "code",
   "execution_count": 6,
   "metadata": {},
   "outputs": [
    {
     "data": {
      "text/markdown": [
       "The different components of the **API Management Service** are:\n",
       "\n",
       "1. **API Gateway**: \n",
       "   - Accepts API calls and routes them to appropriate backends.\n",
       "   - Verifies API keys and enforces usage quotas and rate limits.\n",
       "   - Transforms requests and responses, and caches responses.\n",
       "   - Emits logs, metrics, and traces for monitoring.\n",
       "\n",
       "2. **Management Plane**:\n",
       "   - Administrative interface for setting up and configuring API programs.\n",
       "   - Manages API schemas, packages APIs into products, and sets up policies.\n",
       "   - Provides analytics and user management.\n",
       "\n",
       "3. **Developer Portal**:\n",
       "   - Customizable website with API documentation.\n",
       "   - Allows developers to read documentation, call APIs, manage API keys, and access analytics."
      ],
      "text/plain": [
       "<IPython.core.display.Markdown object>"
      ]
     },
     "metadata": {},
     "output_type": "display_data"
    }
   ],
   "source": [
    "%%question\n",
    "What are the different components of API Management Service?"
   ]
  },
  {
   "cell_type": "code",
   "execution_count": 7,
   "metadata": {},
   "outputs": [
    {
     "data": {
      "text/markdown": [
       "The purpose of an **API Gateway** is to act as a **reverse proxy** that sits between clients and services. It manages API requests by routing them to the correct backend services, applying policies, and handling tasks such as **authentication**, **SSL termination**, and **rate limiting**. It helps **decouple clients from services**, improving security, scalability, and maintainability of the API infrastructure."
      ],
      "text/plain": [
       "<IPython.core.display.Markdown object>"
      ]
     },
     "metadata": {},
     "output_type": "display_data"
    }
   ],
   "source": [
    "%%question\n",
    "What is the purpose of API Gateway?"
   ]
  },
  {
   "cell_type": "code",
   "execution_count": 8,
   "metadata": {},
   "outputs": [
    {
     "data": {
      "text/markdown": [
       "In API Management, there are two types of gateways available:\n",
       "\n",
       "1. **Managed Gateway**:\n",
       "   - The default gateway component deployed in Azure for every API Management instance.\n",
       "   - All API traffic flows through Azure.\n",
       "\n",
       "2. **Self-hosted Gateway**:\n",
       "   - An optional, containerized version of the managed gateway.\n",
       "   - Useful for hybrid and multicloud scenarios, allowing gateways to run outside of Azure in the same environments where API backends are hosted."
      ],
      "text/plain": [
       "<IPython.core.display.Markdown object>"
      ]
     },
     "metadata": {},
     "output_type": "display_data"
    }
   ],
   "source": [
    "%%question\n",
    "What types of gateways are available in API Management?"
   ]
  },
  {
   "cell_type": "code",
   "execution_count": 9,
   "metadata": {},
   "outputs": [
    {
     "data": {
      "text/markdown": [
       "The cost of running a **managed gateway** in Azure API Management depends on the **pricing tier** you choose. Azure offers several pricing tiers, each with different capacities and features, such as the **Developer**, **Basic**, **Standard**, **Premium**, and **Consumption** tiers. Each tier has its own pricing structure based on factors like request volume, features, and geographic regions. For specific pricing details, it's best to refer to the [Azure Pricing Calculator](https://azure.microsoft.com/en-us/pricing/calculator/) or the Azure pricing page."
      ],
      "text/plain": [
       "<IPython.core.display.Markdown object>"
      ]
     },
     "metadata": {},
     "output_type": "display_data"
    }
   ],
   "source": [
    "%%question\n",
    "What is the cost of running a managed gateway?"
   ]
  },
  {
   "cell_type": "code",
   "execution_count": 10,
   "metadata": {},
   "outputs": [
    {
     "data": {
      "text/markdown": [
       "The cost of running a **self-hosted gateway** in Azure API Management involves licensing fees based on the number of gateway units you deploy. You'll need to purchase a license for each self-hosted gateway instance. Additionally, since self-hosted gateways can run outside of Azure, you may incur infrastructure costs depending on where you host them. Pricing specifics can vary, so it's advisable to consult the [Azure Pricing Calculator](https://azure.microsoft.com/en-us/pricing/calculator/) or the Azure pricing page for the most accurate and up-to-date information."
      ],
      "text/plain": [
       "<IPython.core.display.Markdown object>"
      ]
     },
     "metadata": {},
     "output_type": "display_data"
    }
   ],
   "source": [
    "%%question\n",
    "What is the cost of running a self-hosted gateway?"
   ]
  },
  {
   "cell_type": "code",
   "execution_count": 11,
   "metadata": {},
   "outputs": [
    {
     "data": {
      "text/markdown": [
       "**SSL termination** is useful in API Management because it helps simplify the process of handling **secure connections**. By terminating SSL at the API gateway, you can:\n",
       "\n",
       "1. **Reduce Load on Backend Services**: Offload the SSL decryption process from backend services to the gateway, freeing up resources.\n",
       "\n",
       "2. **Centralize Security Management**: Manage SSL certificates in one place, making it easier to update and maintain them.\n",
       "\n",
       "3. **Improve Performance**: By handling encryption and decryption at the gateway, you can speed up communication between the gateway and backend services, especially if they communicate over a private network.\n",
       "\n",
       "4. **Simplify SSL Certificate Management**: Avoid the need to deploy and manage SSL certificates on each backend service separately."
      ],
      "text/plain": [
       "<IPython.core.display.Markdown object>"
      ]
     },
     "metadata": {},
     "output_type": "display_data"
    }
   ],
   "source": [
    "%%question\n",
    "Why is SSL termination usefull in API Management?"
   ]
  },
  {
   "cell_type": "markdown",
   "metadata": {},
   "source": [
    "Client SSL <--> API gateway   < --- HTTPS --- > Backend service\n",
    "\n",
    "- https://petstore3.swagger.io/api/v3/openapi.json\n",
    "- http://calcapi.cloudapp.net/calcapi.json \n",
    "- https://bigconference.azurewebsites.net/  (make sure to update the backend HTTP endpoint as it will be overwritten)"
   ]
  },
  {
   "cell_type": "code",
   "execution_count": 21,
   "metadata": {},
   "outputs": [
    {
     "data": {
      "text/markdown": [
       "A **product** in Azure API Management is a container for one or more APIs that are grouped together and offered to developers. Products are configured with details like a title, description, and terms of use. They can be set as **Open** (accessible without a subscription) or **Protected** (requiring a subscription for access). Products help manage API visibility, access rules, usage quotas, and terms of use, allowing API publishers to control how APIs are consumed."
      ],
      "text/plain": [
       "<IPython.core.display.Markdown object>"
      ]
     },
     "metadata": {},
     "output_type": "display_data"
    }
   ],
   "source": [
    "%%question\n",
    "What is a product?"
   ]
  },
  {
   "cell_type": "code",
   "execution_count": 22,
   "metadata": {},
   "outputs": [
    {
     "data": {
      "text/markdown": [
       "**Developers** in Azure API Management represent the user accounts that consume the APIs. They can be created or invited by administrators or can sign up via the Developer portal.\n",
       "\n",
       "**Groups** are used to manage the visibility and access of products to developers. Each developer account can be a member of one or more groups. By associating developers with groups, administrators can control which products and APIs the developers can access. This setup allows for organized and efficient management of permissions and access rights within the API Management service."
      ],
      "text/plain": [
       "<IPython.core.display.Markdown object>"
      ]
     },
     "metadata": {},
     "output_type": "display_data"
    }
   ],
   "source": [
    "%%question\n",
    "What is the relationship between \"Developers\" (accounts) and \"Groups\"?"
   ]
  },
  {
   "cell_type": "code",
   "execution_count": 12,
   "metadata": {},
   "outputs": [
    {
     "data": {
      "text/markdown": [
       "A **Policy** in Azure API Management is a set of configuration statements that modify the behavior of APIs. Policies are applied at the API gateway and can be used to transform requests and responses, enforce security, implement rate limits, and perform other cross-cutting tasks. They are defined using XML and can be applied at different scopes, such as global, product, API, or API operation levels."
      ],
      "text/plain": [
       "<IPython.core.display.Markdown object>"
      ]
     },
     "metadata": {},
     "output_type": "display_data"
    }
   ],
   "source": [
    "%%question\n",
    "What is a Policy?"
   ]
  },
  {
   "cell_type": "code",
   "execution_count": 13,
   "metadata": {},
   "outputs": [
    {
     "data": {
      "text/markdown": [
       "These **policies** are applied within the **API gateway** that sits between the API consumer and the backend services. They can be configured at different scopes, such as:\n",
       "\n",
       "- **Global level**: Affecting all APIs in the API Management instance.\n",
       "- **Product level**: Affecting all APIs within a specific product.\n",
       "- **Specific API level**: Affecting a particular API.\n",
       "- **API operation level**: Affecting specific operations within an API.\n",
       "\n",
       "This flexibility allows you to tailor the behavior of APIs based on your specific needs."
      ],
      "text/plain": [
       "<IPython.core.display.Markdown object>"
      ]
     },
     "metadata": {},
     "output_type": "display_data"
    }
   ],
   "source": [
    "%%question\n",
    "Where are these policies applied?"
   ]
  },
  {
   "cell_type": "code",
   "execution_count": 14,
   "metadata": {},
   "outputs": [
    {
     "data": {
      "text/markdown": [
       "Policies in Azure API Management can be applied at the following **scopes**:\n",
       "\n",
       "1. **Global Level**: Applies to all APIs in the API Management instance.\n",
       "2. **Product Level**: Applies to all APIs within a specific product.\n",
       "3. **API Level**: Applies to a specific API.\n",
       "4. **API Operation Level**: Applies to specific operations within an API.\n",
       "\n",
       "The `<base/>` element is used in policy definitions to ensure **deterministic ordering**. When policies are combined from different scopes, the `<base/>` element acts as a placeholder, indicating where the next policy from a broader scope should be inserted. This ensures that policies are applied in the correct sequence."
      ],
      "text/plain": [
       "<IPython.core.display.Markdown object>"
      ]
     },
     "metadata": {},
     "output_type": "display_data"
    }
   ],
   "source": [
    "%%question\n",
    "Policies can be applied at different scopes. What are the different scopes? What is the meaning of <base/>?"
   ]
  },
  {
   "cell_type": "code",
   "execution_count": 15,
   "metadata": {},
   "outputs": [
    {
     "data": {
      "text/markdown": [
       "Certainly! Let's consider an example scenario where you want to apply policies to an API that provides weather data:\n",
       "\n",
       "1. **Inbound Policy**: \n",
       "   - **Scenario**: You want to validate the API key and limit the request rate.\n",
       "   - **Policy**: Use a policy to check for a valid API key and apply a rate limit to control how many requests a user can make in a given time period.\n",
       "\n",
       "2. **Backend Policy**: \n",
       "   - **Scenario**: You want to modify the backend service URL based on a specific condition.\n",
       "   - **Policy**: Use a policy to route requests to a different backend service if the request is coming from a particular region.\n",
       "\n",
       "3. **Outbound Policy**: \n",
       "   - **Scenario**: You want to transform the response format from XML to JSON.\n",
       "   - **Policy**: Use a policy to convert the response payload from XML to JSON before sending it back to the client.\n",
       "\n",
       "4. **On-Error Policy**: \n",
       "   - **Scenario**: You want to handle errors gracefully and provide a custom error message.\n",
       "   - **Policy**: Use a policy to catch errors, log them, and return a friendly error message to the client instead of the default error response.\n",
       "\n",
       "These policies help you manage and control the behavior of your API at various stages of the request and response lifecycle."
      ],
      "text/plain": [
       "<IPython.core.display.Markdown object>"
      ]
     },
     "metadata": {},
     "output_type": "display_data"
    }
   ],
   "source": [
    "%%question\n",
    "Policies can be inbound, outbound, backend or on-error. Can you share an example scenario?"
   ]
  },
  {
   "cell_type": "code",
   "execution_count": 17,
   "metadata": {},
   "outputs": [
    {
     "data": {
      "text/markdown": [
       "Certainly! Here's an example XML fragment for an **inbound policy** that applies **rate limiting** to restrict the number of requests a client can make within a specified time period:\n",
       "\n",
       "```xml\n",
       "<inbound>\n",
       "    <base />\n",
       "    <rate-limit calls=\"10\" renewal-period=\"60\">\n",
       "        <quota-by-key name=\"rate-limit-by-key\" counter-key=\"@(context.Request.Headers.GetValueOrDefault(\"X-Client-Id\", \"default\"))\" />\n",
       "    </rate-limit>\n",
       "</inbound>\n",
       "```\n",
       "\n",
       "In this example:\n",
       "\n",
       "- The `rate-limit` policy allows **10 calls** per **60 seconds**.\n",
       "- The `quota-by-key` statement uses a counter key derived from the \"X-Client-Id\" header to track requests per client.\n",
       "- If the client exceeds the limit, further requests within the period are blocked until the counter resets. \n",
       "\n",
       "This approach helps control traffic and prevent abuse of your API resources."
      ],
      "text/plain": [
       "<IPython.core.display.Markdown object>"
      ]
     },
     "metadata": {},
     "output_type": "display_data"
    }
   ],
   "source": [
    "%%question\n",
    "Can you share an example of a XML fragment for this inbound policy that applies rate limiting. "
   ]
  },
  {
   "cell_type": "code",
   "execution_count": 18,
   "metadata": {},
   "outputs": [
    {
     "data": {
      "text/markdown": [
       "Certainly! Here's an example XML fragment for a **backend policy** that routes requests to different servers based on the client's geographical location, which is extracted from the request:\n",
       "\n",
       "```xml\n",
       "<backend>\n",
       "    <base />\n",
       "    <choose>\n",
       "        <when condition=\"@(context.Request.Headers.GetValueOrDefault(\"X-Geo-Location\", \"\").Contains(\"US\"))\">\n",
       "            <set-backend-service base-url=\"https://us-api.example.com\" />\n",
       "        </when>\n",
       "        <when condition=\"@(context.Request.Headers.GetValueOrDefault(\"X-Geo-Location\", \"\").Contains(\"EU\"))\">\n",
       "            <set-backend-service base-url=\"https://eu-api.example.com\" />\n",
       "        </when>\n",
       "        <otherwise>\n",
       "            <set-backend-service base-url=\"https://global-api.example.com\" />\n",
       "        </otherwise>\n",
       "    </choose>\n",
       "</backend>\n",
       "```\n",
       "\n",
       "In this example:\n",
       "\n",
       "- The policy checks the \"X-Geo-Location\" header in the request to determine the client's geographical location.\n",
       "- It routes requests to different backend services (`us-api.example.com`, `eu-api.example.com`, or a default `global-api.example.com`) based on whether the location is in the US or EU.\n",
       "- If the location is not specified or doesn't match any conditions, it defaults to the global server. \n",
       "\n",
       "This routing helps optimize performance and compliance with regional requirements."
      ],
      "text/plain": [
       "<IPython.core.display.Markdown object>"
      ]
     },
     "metadata": {},
     "output_type": "display_data"
    }
   ],
   "source": [
    "%%question\n",
    "Can you share an example of a XML fragment for a backend policy that can route requests to the appropriate server based on the client's geographical location extracted from the request."
   ]
  },
  {
   "cell_type": "code",
   "execution_count": 19,
   "metadata": {},
   "outputs": [
    {
     "data": {
      "text/markdown": [
       "Certainly! Here's an example XML fragment for an **outbound policy** that transforms the response format from **XML to JSON**:\n",
       "\n",
       "```xml\n",
       "<outbound>\n",
       "    <base />\n",
       "    <xml-to-json />\n",
       "</outbound>\n",
       "```\n",
       "\n",
       "In this example, the `xml-to-json` policy is applied in the outbound section, which automatically converts the response payload from XML to JSON format. This transformation helps ensure consistent response formats across your APIs."
      ],
      "text/plain": [
       "<IPython.core.display.Markdown object>"
      ]
     },
     "metadata": {},
     "output_type": "display_data"
    }
   ],
   "source": [
    "%%question\n",
    "Can you share an example of a XML fragment for an outbound policy that transform the response format from XML to JSON for consistency across your APIs. "
   ]
  },
  {
   "cell_type": "code",
   "execution_count": 20,
   "metadata": {},
   "outputs": [
    {
     "data": {
      "text/markdown": [
       "Certainly! Here's an example XML fragment for an **outbound policy** that accomplishes the tasks you've mentioned:\n",
       "\n",
       "```xml\n",
       "<outbound>\n",
       "    <base />\n",
       "    <!-- Add a custom header to the response -->\n",
       "    <set-header name=\"X-Custom-Header\" exists-action=\"override\">\n",
       "        <value>CustomValue</value>\n",
       "    </set-header>\n",
       "    \n",
       "    <!-- Log the time taken to process the request -->\n",
       "    <log-to-eventhub logger-id=\"yourLoggerId\">\n",
       "        @{\n",
       "            var timeTaken = (DateTime.UtcNow - context.Request.Timestamp.UtcDateTime).TotalMilliseconds;\n",
       "            return $\"Request processed in {timeTaken} ms\";\n",
       "        }\n",
       "    </log-to-eventhub>\n",
       "    \n",
       "    <!-- Modify the response to not include any backend URLs -->\n",
       "    <find-and-replace from=\"https://backend.example.com\" to=\"\" />\n",
       "</outbound>\n",
       "```\n",
       "\n",
       "In this example:\n",
       "\n",
       "- The `set-header` policy adds a custom header named \"X-Custom-Header\" with the value \"CustomValue\" to the response.\n",
       "- The `log-to-eventhub` policy logs the time taken to process the request by calculating the difference between the current time and the request timestamp. Replace `\"yourLoggerId\"` with your actual logger ID.\n",
       "- The `find-and-replace` policy removes any instances of \"https://backend.example.com\" from the response, effectively removing backend URLs. You can adjust the `from` and `to` values as needed.\n",
       "\n",
       "These policies help customize the response and provide additional logging and security enhancements."
      ],
      "text/plain": [
       "<IPython.core.display.Markdown object>"
      ]
     },
     "metadata": {},
     "output_type": "display_data"
    }
   ],
   "source": [
    "%%question\n",
    "Can you share an example of a XML fragment for an outbound policy that \n",
    "- adds a custom header to the response, \n",
    "- logs the time taken to process the request,\n",
    "- and also modifies the response to not include any backend urls."
   ]
  },
  {
   "cell_type": "code",
   "execution_count": 23,
   "metadata": {},
   "outputs": [
    {
     "data": {
      "text/markdown": [
       "You would typically implement a **rate limiting policy** at the **product** or **API level**. This allows you to control the number of requests that can be made to a product containing multiple APIs or to a specific API itself.\n",
       "\n",
       "Here's an example of a rate limiting policy applied at the API level:\n",
       "\n",
       "```xml\n",
       "<inbound>\n",
       "    <base />\n",
       "    <rate-limit calls=\"100\" renewal-period=\"60\">\n",
       "        <quota-by-key name=\"rate-limit-by-key\" counter-key=\"@(context.Request.Headers.GetValueOrDefault(\"X-Client-Id\", \"default\"))\" />\n",
       "    </rate-limit>\n",
       "</inbound>\n",
       "```\n",
       "\n",
       "In this example:\n",
       "\n",
       "- The policy limits requests to **100 calls per minute** (60 seconds).\n",
       "- The `quota-by-key` statement uses a key derived from the \"X-Client-Id\" header to apply the rate limit per client.\n",
       "\n",
       "This policy helps ensure that your API or product is not overwhelmed by too many requests from individual clients."
      ],
      "text/plain": [
       "<IPython.core.display.Markdown object>"
      ]
     },
     "metadata": {},
     "output_type": "display_data"
    }
   ],
   "source": [
    "%%question\n",
    "At what level would I implement a policy to do rate limiting? Can you share an example?"
   ]
  },
  {
   "cell_type": "code",
   "execution_count": 24,
   "metadata": {},
   "outputs": [
    {
     "data": {
      "text/markdown": [
       "**Mocking** in API Management refers to the practice of simulating the API responses without calling the actual backend service. This is useful for testing and development purposes, allowing developers to work on API integration without needing a fully implemented backend or when the backend is unavailable.\n",
       "\n",
       "**Benefits of Mocking:**\n",
       "- **Development and Testing**: Allows front-end developers to proceed with their work while the backend is still under development.\n",
       "- **Reliability**: Provides consistent responses, which is useful for testing how client applications handle responses.\n",
       "- **Cost Saving**: Reduces costs by not invoking backend services during testing.\n",
       "\n",
       "**Example of a Mocking Policy:**\n",
       "\n",
       "```xml\n",
       "<inbound>\n",
       "    <base />\n",
       "    <choose>\n",
       "        <when condition=\"@(true)\">\n",
       "            <return-response>\n",
       "                <set-status code=\"200\" reason=\"OK\" />\n",
       "                <set-header name=\"Content-Type\" exists-action=\"override\">\n",
       "                    <value>application/json</value>\n",
       "                </set-header>\n",
       "                <set-body>{\n",
       "                    \"message\": \"This is a mocked response\",\n",
       "                    \"data\": {\n",
       "                        \"id\": 123,\n",
       "                        \"name\": \"Mocked Item\"\n",
       "                    }\n",
       "                }</set-body>\n",
       "            </return-response>\n",
       "        </when>\n",
       "    </choose>\n",
       "</inbound>\n",
       "```\n",
       "\n",
       "In this example, the policy intercepts the request and returns a mocked JSON response with a 200 OK status, bypassing the backend service entirely. This allows developers to test their applications' handling of the API response."
      ],
      "text/plain": [
       "<IPython.core.display.Markdown object>"
      ]
     },
     "metadata": {},
     "output_type": "display_data"
    }
   ],
   "source": [
    "%%question\n",
    "What is mocking? How can it be useful? Can you share an example?"
   ]
  },
  {
   "cell_type": "code",
   "execution_count": null,
   "metadata": {},
   "outputs": [],
   "source": [
    "%%question\n",
    "What is a subscription?"
   ]
  },
  {
   "cell_type": "code",
   "execution_count": null,
   "metadata": {},
   "outputs": [],
   "source": [
    "%%question\n",
    "Can you share an example of a subscription key as part of an HTTP request?"
   ]
  },
  {
   "cell_type": "code",
   "execution_count": 25,
   "metadata": {},
   "outputs": [
    {
     "data": {
      "text/markdown": [
       "Besides using subscription keys, other ways to secure access to APIs include:\n",
       "\n",
       "1. **OAuth 2.0**: A protocol that allows secure authorization in a simple and standardized way. It provides secure delegated access to APIs.\n",
       "\n",
       "2. **Client Certificates**: Use Transport Layer Security (TLS) for mutual authentication between the client and the API gateway, verifying client certificates.\n",
       "\n",
       "3. **IP Filtering**: Restrict access to APIs based on specific IP addresses or ranges, allowing only trusted sources to access the API.\n",
       "\n",
       "4. **JSON Web Tokens (JWT)**: Validate tokens to ensure the client is authorized to access the API resources.\n",
       "\n",
       "5. **CORS (Cross-Origin Resource Sharing)**: Control which domains are allowed to access the API, adding an additional layer of security.\n",
       "\n",
       "These methods can be combined to provide a robust security framework for protecting APIs."
      ],
      "text/plain": [
       "<IPython.core.display.Markdown object>"
      ]
     },
     "metadata": {},
     "output_type": "display_data"
    }
   ],
   "source": [
    "%%question\n",
    "What other ways exists to secure access to the APIs?"
   ]
  },
  {
   "cell_type": "code",
   "execution_count": 26,
   "metadata": {},
   "outputs": [
    {
     "data": {
      "text/markdown": [
       "Certainly! Here are the high-level steps to implement **OAuth 2.0** in API Management:\n",
       "\n",
       "1. **Register Your Application**: \n",
       "   - In your identity provider (e.g., Azure AD, Google, Auth0), register your application to obtain a client ID and client secret.\n",
       "\n",
       "2. **Configure the Authorization Server in API Management**:\n",
       "   - Go to the Azure Portal and navigate to your API Management instance.\n",
       "   - Under \"Security,\" select \"OAuth 2.0 + OpenID Connect\" and add a new authorization server.\n",
       "   - Provide the necessary details such as the authorization endpoint, token endpoint, client ID, and client secret.\n",
       "\n",
       "3. **Set Up the API to Use OAuth 2.0**:\n",
       "   - In the API Management service, navigate to the API you want to secure.\n",
       "   - Go to the \"Settings\" or \"Design\" section and configure the API to require OAuth 2.0 authentication by associating it with the authorization server you set up.\n",
       "\n",
       "4. **Update API Policies**:\n",
       "   - Add policies to validate the access token in incoming requests.\n",
       "   - Use the `validate-jwt` policy to ensure that requests to the API include a valid JWT token.\n",
       "\n",
       "5. **Test Your Configuration**:\n",
       "   - Use a tool like Postman or your client application to request an access token from the authorization server.\n",
       "   - Make API calls using the obtained access token to verify that only authorized requests are permitted.\n",
       "\n",
       "These steps provide a secure way to implement OAuth 2.0, ensuring that only authenticated and authorized users can access your APIs."
      ],
      "text/plain": [
       "<IPython.core.display.Markdown object>"
      ]
     },
     "metadata": {},
     "output_type": "display_data"
    }
   ],
   "source": [
    "%%question\n",
    "Can you describe the high level steps to implement OAuth2.0 in API Management?"
   ]
  },
  {
   "cell_type": "code",
   "execution_count": 27,
   "metadata": {},
   "outputs": [
    {
     "data": {
      "text/markdown": [
       "Certainly! Here's an example of a `validate-jwt` policy in Azure API Management:\n",
       "\n",
       "```xml\n",
       "<inbound>\n",
       "    <base />\n",
       "    <validate-jwt header-name=\"Authorization\" failed-validation-httpcode=\"401\" require-scheme=\"Bearer\" token-expiration-claim=\"exp\">\n",
       "        <openid-config url=\"https://login.microsoftonline.com/{tenant_id}/v2.0/.well-known/openid-configuration\" />\n",
       "        <required-claims>\n",
       "            <claim name=\"aud\">\n",
       "                <value>your-api-audience</value>\n",
       "            </claim>\n",
       "            <claim name=\"iss\">\n",
       "                <value>https://sts.windows.net/{tenant_id}/</value>\n",
       "            </claim>\n",
       "        </required-claims>\n",
       "    </validate-jwt>\n",
       "</inbound>\n",
       "```\n",
       "\n",
       "In this example:\n",
       "\n",
       "- The policy validates the JWT found in the `Authorization` header.\n",
       "- The `openid-config` element points to the OpenID Connect configuration URL for the identity provider.\n",
       "- The `required-claims` ensure that the token contains specific claims, like `aud` (audience) and `iss` (issuer).\n",
       "- The policy returns a `401 Unauthorized` response if the token is invalid or missing.\n",
       "\n",
       "Replace `{tenant_id}` and `your-api-audience` with your specific tenant ID and audience value."
      ],
      "text/plain": [
       "<IPython.core.display.Markdown object>"
      ]
     },
     "metadata": {},
     "output_type": "display_data"
    }
   ],
   "source": [
    "%%question\n",
    "Share an example of a validate-jwt policy"
   ]
  },
  {
   "cell_type": "code",
   "execution_count": 28,
   "metadata": {},
   "outputs": [
    {
     "data": {
      "text/markdown": [
       "Certainly! Here's an example of a policy for **certificate-based authentication** in Azure API Management:\n",
       "\n",
       "```xml\n",
       "<inbound>\n",
       "    <base />\n",
       "    <choose>\n",
       "        <when condition=\"@(context.Request.Certificate == null)\">\n",
       "            <return-response>\n",
       "                <set-status code=\"403\" reason=\"Forbidden\" />\n",
       "                <set-header name=\"Content-Type\" exists-action=\"override\">\n",
       "                    <value>application/json</value>\n",
       "                </set-header>\n",
       "                <set-body>{\n",
       "                    \"error\": \"Certificate Required\",\n",
       "                    \"message\": \"A client certificate is required for authentication.\"\n",
       "                }</set-body>\n",
       "            </return-response>\n",
       "        </when>\n",
       "        <when condition=\"@(context.Request.Certificate.Thumbprint != \"EXPECTED_THUMBPRINT\")\">\n",
       "            <return-response>\n",
       "                <set-status code=\"403\" reason=\"Forbidden\" />\n",
       "                <set-header name=\"Content-Type\" exists-action=\"override\">\n",
       "                    <value>application/json</value>\n",
       "                </set-header>\n",
       "                <set-body>{\n",
       "                    \"error\": \"Invalid Certificate\",\n",
       "                    \"message\": \"The client certificate provided is not valid.\"\n",
       "                }</set-body>\n",
       "            </return-response>\n",
       "        </when>\n",
       "    </choose>\n",
       "</inbound>\n",
       "```\n",
       "\n",
       "In this example:\n",
       "\n",
       "- The policy checks if a client certificate is present in the request.\n",
       "- It verifies the certificate's thumbprint against an expected value (`EXPECTED_THUMBPRINT`).\n",
       "- If no certificate is present or the thumbprint doesn't match, it returns a `403 Forbidden` response with an error message.\n",
       "\n",
       "Replace `\"EXPECTED_THUMBPRINT\"` with the actual thumbprint of the valid client certificate."
      ],
      "text/plain": [
       "<IPython.core.display.Markdown object>"
      ]
     },
     "metadata": {},
     "output_type": "display_data"
    }
   ],
   "source": [
    "%%question\n",
    "Can you share an example of a certificate-based authentication policy?"
   ]
  },
  {
   "cell_type": "code",
   "execution_count": 29,
   "metadata": {},
   "outputs": [
    {
     "data": {
      "text/markdown": [
       "The recommended way to separate **dev/test/production environments** in API Management is to use **separate API Management instances** for each environment. Here are some key practices:\n",
       "\n",
       "1. **Separate Instances**: Create distinct API Management instances for development, testing, and production. This ensures isolation and prevents changes in one environment from affecting another.\n",
       "\n",
       "2. **Environment-Specific Configurations**: Configure each instance with environment-specific settings, such as different backend URLs, policies, and security settings.\n",
       "\n",
       "3. **Consistent Naming Conventions**: Use consistent naming conventions for APIs, products, and groups across environments to simplify management and transitions.\n",
       "\n",
       "4. **Automate Deployments**: Use tools like Azure DevOps or GitHub Actions to automate the deployment of API configurations across environments, ensuring consistency and reducing manual errors.\n",
       "\n",
       "5. **Access Control**: Restrict access to each environment based on user roles. For example, developers might have access to the dev environment, while only select users can access production.\n",
       "\n",
       "6. **Version Control**: Maintain version control for your API configurations and policies, enabling easier rollbacks and audits across environments.\n",
       "\n",
       "These practices help ensure that each environment serves its intended purpose and supports a smooth transition from development to production."
      ],
      "text/plain": [
       "<IPython.core.display.Markdown object>"
      ]
     },
     "metadata": {},
     "output_type": "display_data"
    }
   ],
   "source": [
    "%%question\n",
    "What would be the recommended way to separate dev/test/production environments in API Management?"
   ]
  }
 ],
 "metadata": {
  "kernelspec": {
   "display_name": "Python 3",
   "language": "python",
   "name": "python3"
  },
  "language_info": {
   "codemirror_mode": {
    "name": "ipython",
    "version": 3
   },
   "file_extension": ".py",
   "mimetype": "text/x-python",
   "name": "python",
   "nbconvert_exporter": "python",
   "pygments_lexer": "ipython3",
   "version": "3.11.9"
  }
 },
 "nbformat": 4,
 "nbformat_minor": 2
}
