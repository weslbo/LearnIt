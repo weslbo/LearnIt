{
 "cells": [
  {
   "cell_type": "markdown",
   "metadata": {},
   "source": [
    "# AZ-204: Develop solutions that use Azure Cosmos DB"
   ]
  },
  {
   "cell_type": "code",
   "execution_count": 4,
   "metadata": {},
   "outputs": [],
   "source": [
    "import sys\n",
    "sys.path.append('./../utils')\n",
    "import ai"
   ]
  },
  {
   "cell_type": "markdown",
   "metadata": {},
   "source": [
    "DP-420: Designing and Implementing Cloud-Native Applications Using Microsoft Azure Cosmos DB\n",
    "- 4 day\n",
    "- https://learn.microsoft.com/en-us/training/courses/dp-420t00\n",
    "- https://github.com/weslbo/dp-420"
   ]
  },
  {
   "cell_type": "markdown",
   "metadata": {},
   "source": [
    "## Explore Azure Cosmos DB"
   ]
  },
  {
   "cell_type": "code",
   "execution_count": 5,
   "metadata": {},
   "outputs": [
    {
     "name": "stdout",
     "output_type": "stream",
     "text": [
      "https://learn.microsoft.com/en-us/training/modules/explore-azure-cosmos-db/1-introduction\n",
      "https://learn.microsoft.com/en-us/training/modules/explore-azure-cosmos-db/2-cosmos-db-benefits\n",
      "https://learn.microsoft.com/en-us/training/modules/explore-azure-cosmos-db/3-cosmos-db-resource-hierarchy\n",
      "https://learn.microsoft.com/en-us/training/modules/explore-azure-cosmos-db/4-cosmos-db-consistency-levels-overview\n",
      "https://learn.microsoft.com/en-us/training/modules/explore-azure-cosmos-db/5-choose-cosmos-db-consistency-level\n",
      "https://learn.microsoft.com/en-us/training/modules/explore-azure-cosmos-db/6-cosmos-db-supported-apis\n",
      "https://learn.microsoft.com/en-us/training/modules/explore-azure-cosmos-db/7-cosmos-db-request-units\n",
      "https://learn.microsoft.com/en-us/training/modules/explore-azure-cosmos-db/8-create-cosmos-db-resources-portal\n"
     ]
    },
    {
     "data": {
      "text/plain": [
       "('',\n",
       " 'https://learn.microsoft.com/en-us/training/modules/explore-azure-cosmos-db/\\n')"
      ]
     },
     "execution_count": 5,
     "metadata": {},
     "output_type": "execute_result"
    }
   ],
   "source": [
    "%%learn\n",
    "https://learn.microsoft.com/en-us/training/modules/explore-azure-cosmos-db/\n"
   ]
  },
  {
   "cell_type": "code",
   "execution_count": 6,
   "metadata": {},
   "outputs": [
    {
     "data": {
      "text/markdown": [
       "Azure Cosmos DB is a globally distributed, fully managed NoSQL database service by Microsoft Azure. It offers low latency, elastic scalability, well-defined data consistency options, and high availability. It allows you to read and write data from local replicas of your database and replicates data across all associated regions in your Cosmos account."
      ],
      "text/plain": [
       "<IPython.core.display.Markdown object>"
      ]
     },
     "metadata": {},
     "output_type": "display_data"
    }
   ],
   "source": [
    "%%question\n",
    "What is Azure Cosmos DB?"
   ]
  },
  {
   "cell_type": "code",
   "execution_count": null,
   "metadata": {},
   "outputs": [],
   "source": [
    "%%mindmap\n",
    "Give me an overview of the topics covered in this module"
   ]
  },
  {
   "cell_type": "code",
   "execution_count": 7,
   "metadata": {},
   "outputs": [
    {
     "data": {
      "text/markdown": [
       "Azure Cosmos DB provides several APIs, including:\n",
       "\n",
       "1. **API for NoSQL**: Native to Azure Cosmos DB, stores data in document format.\n",
       "2. **API for MongoDB**: Compatible with MongoDB wire protocol, uses BSON format.\n",
       "3. **API for PostgreSQL**: Managed service for running PostgreSQL, supports distributed tables.\n",
       "4. **API for Apache Cassandra**: Stores data in a column-oriented schema, compatible with Cassandra.\n",
       "5. **API for Apache Gremlin**: Supports graph queries, stores data as edges and vertices.\n",
       "6. **API for Table**: Stores data in key/value format, similar to Azure Table storage."
      ],
      "text/plain": [
       "<IPython.core.display.Markdown object>"
      ]
     },
     "metadata": {},
     "output_type": "display_data"
    }
   ],
   "source": [
    "%%question\n",
    "What kind of API's does Azure Cosmos DB provide?"
   ]
  },
  {
   "cell_type": "code",
   "execution_count": 8,
   "metadata": {},
   "outputs": [
    {
     "data": {
      "text/markdown": [
       "Global replication in Azure Cosmos DB means that data is automatically and transparently replicated across multiple Azure regions. This ensures low latency access to data by placing it close to users, enhances availability by handling requests if a region is unavailable, and allows for both read and write operations in any configured region."
      ],
      "text/plain": [
       "<IPython.core.display.Markdown object>"
      ]
     },
     "metadata": {},
     "output_type": "display_data"
    }
   ],
   "source": [
    "%%question\n",
    "What does it mean when Azure Cosmos DB provides global replication?"
   ]
  },
  {
   "cell_type": "code",
   "execution_count": 9,
   "metadata": {},
   "outputs": [
    {
     "data": {
      "text/markdown": [
       "Latency in the context of Cosmos DB refers to the time it takes for a database operation, such as a read or write, to complete. Low latency is crucial because it ensures that applications respond quickly to user actions, providing a better user experience. Azure Cosmos DB guarantees reads and writes in less than 10 milliseconds at the 99th percentile, which is critical for real-time applications and services that require fast data access."
      ],
      "text/plain": [
       "<IPython.core.display.Markdown object>"
      ]
     },
     "metadata": {},
     "output_type": "display_data"
    }
   ],
   "source": [
    "%%question\n",
    "What is latency in the context of Cosmos DB? Why is it important?"
   ]
  },
  {
   "cell_type": "code",
   "execution_count": 10,
   "metadata": {},
   "outputs": [
    {
     "data": {
      "text/markdown": [
       "Azure Cosmos DB provides a Service Level Agreement (SLA) that guarantees 99.999% availability for read and write operations in multi-region configurations. It also guarantees less than 10-millisecond latency for reads and writes at the 99th percentile, along with consistency levels and throughput."
      ],
      "text/plain": [
       "<IPython.core.display.Markdown object>"
      ]
     },
     "metadata": {},
     "output_type": "display_data"
    }
   ],
   "source": [
    "%%question\n",
    "What is the SLA provided by Cosmos DB?"
   ]
  },
  {
   "cell_type": "code",
   "execution_count": 11,
   "metadata": {},
   "outputs": [
    {
     "data": {
      "text/markdown": [
       "In Azure Cosmos DB, the hierarchy is organized as follows:\n",
       "\n",
       "1. **Cosmos DB Account**: The top-level container for global distribution and high availability. It can span multiple Azure regions.\n",
       "\n",
       "2. **Databases**: Under the account, databases act as namespaces for grouping related containers.\n",
       "\n",
       "3. **Containers**: Within databases, containers store data and act as the fundamental unit of scalability. They use partition keys for data distribution.\n",
       "\n",
       "4. **Items**: The data entities stored within containers. The format depends on the API used (e.g., documents for NoSQL, rows for Cassandra).\n",
       "\n",
       "In a classic relational database:\n",
       "\n",
       "1. **Database Server/Instance**: The top-level container hosting multiple databases.\n",
       "\n",
       "2. **Databases**: Collections of related data organized into tables.\n",
       "\n",
       "3. **Tables**: Structure within a database that organizes data into rows and columns.\n",
       "\n",
       "4. **Rows**: Individual records within a table, analogous to items in Cosmos DB.\n",
       "\n",
       "While Cosmos DB uses containers for scalability and partitioning, relational databases use tables. Cosmos DB's flexibility allows for schema-less data, unlike the rigid schema of relational tables."
      ],
      "text/plain": [
       "<IPython.core.display.Markdown object>"
      ]
     },
     "metadata": {},
     "output_type": "display_data"
    }
   ],
   "source": [
    "%%question\n",
    "Explain the hierarchy of a Cosmos DB account from top all the way to the lowest level. Compare this a classic relational database."
   ]
  },
  {
   "attachments": {
    "image.png": {
     "image/png": "[encoded data removed]"
    }
   },
   "cell_type": "markdown",
   "metadata": {},
   "source": [
    "![image.png](attachment:image.png)"
   ]
  },
  {
   "cell_type": "code",
   "execution_count": 12,
   "metadata": {},
   "outputs": [
    {
     "data": {
      "text/markdown": [
       "Conceptually, a container in Azure Cosmos DB is similar to a table in a relational database because both serve as structures to store and organize data:\n",
       "\n",
       "**Similarities:**\n",
       "- **Data Organization**: Both containers and tables are used to group and manage data records (items in containers, rows in tables).\n",
       "- **Data Queries**: You can perform queries on both to retrieve and manipulate data.\n",
       "\n",
       "**Differences:**\n",
       "- **Schema**: Containers are schema-less, allowing flexible data models, while tables have a fixed schema with defined columns.\n",
       "- **Scalability**: Containers are designed for horizontal scaling across multiple partitions, whereas tables typically scale vertically by increasing server size.\n",
       "- **Partitioning**: Containers use partition keys for distributing data across physical partitions, enhancing scalability and performance. Tables in relational databases usually don't require explicit partitioning keys.\n",
       "- **APIs**: Containers can be accessed using multiple APIs (NoSQL, MongoDB, etc.), while tables are accessed using SQL.\n",
       "- **Consistency Models**: Containers offer different consistency levels, while relational databases typically offer strong consistency."
      ],
      "text/plain": [
       "<IPython.core.display.Markdown object>"
      ]
     },
     "metadata": {},
     "output_type": "display_data"
    }
   ],
   "source": [
    "%%question\n",
    "Can you explain from a conceptual point of view why a container is similar to a table in a relational database. What are the differences?"
   ]
  },
  {
   "cell_type": "code",
   "execution_count": null,
   "metadata": {},
   "outputs": [],
   "source": [
    "%%question\n",
    "What are the consistency levels in Cosmos DB and how does this relate to a classic SQL Server database? Share a real life  example for each of the consistency levels"
   ]
  },
  {
   "cell_type": "code",
   "execution_count": null,
   "metadata": {},
   "outputs": [],
   "source": [
    "%%question\n",
    "How does this relate to concurrency?"
   ]
  },
  {
   "cell_type": "code",
   "execution_count": null,
   "metadata": {},
   "outputs": [],
   "source": [
    "%%question\n",
    "What are request units?\n"
   ]
  },
  {
   "cell_type": "code",
   "execution_count": null,
   "metadata": {},
   "outputs": [],
   "source": [
    "%%question\n",
    "How many RU's would I need to be able to support 100 users concurrently writing 5 kb documents on average per second. "
   ]
  },
  {
   "cell_type": "code",
   "execution_count": null,
   "metadata": {},
   "outputs": [],
   "source": [
    "%%question\n",
    "What happens when I do not have enough request units?\n"
   ]
  },
  {
   "cell_type": "code",
   "execution_count": null,
   "metadata": {},
   "outputs": [],
   "source": [
    "%%question\n",
    "Who allocates the request units? At what level?"
   ]
  },
  {
   "cell_type": "code",
   "execution_count": null,
   "metadata": {},
   "outputs": [],
   "source": [
    "%%question\n",
    "What is the difference between autoscale and serverless?"
   ]
  },
  {
   "cell_type": "code",
   "execution_count": null,
   "metadata": {},
   "outputs": [],
   "source": [
    "%%question\n",
    "Are there any limitations on serverless to take into account?"
   ]
  },
  {
   "cell_type": "code",
   "execution_count": null,
   "metadata": {},
   "outputs": [],
   "source": [
    "%%question\n",
    "Why do I need to specify a partition key? What's the purpose?"
   ]
  },
  {
   "cell_type": "code",
   "execution_count": null,
   "metadata": {},
   "outputs": [],
   "source": [
    "%%question\n",
    "How would I design a set of databases and containers to store customer, orders, product catalog data? Does it make sense to store customers and orders into 1 container or can I use partioning?"
   ]
  },
  {
   "cell_type": "code",
   "execution_count": null,
   "metadata": {},
   "outputs": [],
   "source": [
    "%%question\n",
    "Can I do cross-database or cross-container SQL queries?"
   ]
  },
  {
   "cell_type": "code",
   "execution_count": null,
   "metadata": {},
   "outputs": [],
   "source": [
    "%%question\n",
    "What is the purpose of the change feed?\n"
   ]
  },
  {
   "cell_type": "markdown",
   "metadata": {},
   "source": [
    "## Work with Azure Cosmos DB"
   ]
  },
  {
   "cell_type": "code",
   "execution_count": null,
   "metadata": {},
   "outputs": [],
   "source": [
    "%%learn\n",
    "https://learn.microsoft.com/en-us/training/modules/work-with-cosmos-db/"
   ]
  },
  {
   "cell_type": "code",
   "execution_count": null,
   "metadata": {},
   "outputs": [],
   "source": [
    "%%question\n",
    "What are the different SDK's available for Azure Cosmos DB?"
   ]
  },
  {
   "cell_type": "code",
   "execution_count": null,
   "metadata": {},
   "outputs": [],
   "source": [
    "%%question\n",
    "How do I create a document in Cosmos DB using C#?"
   ]
  },
  {
   "cell_type": "code",
   "execution_count": null,
   "metadata": {},
   "outputs": [],
   "source": [
    "%%question\n",
    "Is it required to provide a partition key during a point read operation? What happens if I don't provide this?"
   ]
  },
  {
   "cell_type": "code",
   "execution_count": null,
   "metadata": {},
   "outputs": [],
   "source": [
    "%%question\n",
    "Why do I need to page through the result set when quering the container using a SQL Select command?"
   ]
  },
  {
   "cell_type": "code",
   "execution_count": null,
   "metadata": {},
   "outputs": [],
   "source": [
    "%%question\n",
    "What language do I use to create a stored procedure?"
   ]
  },
  {
   "cell_type": "code",
   "execution_count": null,
   "metadata": {},
   "outputs": [],
   "source": [
    "%%question\n",
    "At what level in the hierachy is a stored procedure created? How does this differ from a regular relational database?"
   ]
  },
  {
   "cell_type": "code",
   "execution_count": null,
   "metadata": {},
   "outputs": [],
   "source": [
    "%%question\n",
    "Share an example on how to implement a stored procedure. It should contain an input parameter"
   ]
  },
  {
   "cell_type": "code",
   "execution_count": null,
   "metadata": {},
   "outputs": [],
   "source": [
    "%%question\n",
    "What is bounded execution?"
   ]
  },
  {
   "cell_type": "code",
   "execution_count": null,
   "metadata": {},
   "outputs": [],
   "source": [
    "%%question\n",
    "Why would I implement transactions using stored procedures? Can I do without? Share an example on how to create the SP."
   ]
  },
  {
   "cell_type": "code",
   "execution_count": null,
   "metadata": {},
   "outputs": [],
   "source": [
    "%%question\n",
    "Share a real life example (plus code) of both a pre- as well as a post-trigger."
   ]
  },
  {
   "cell_type": "code",
   "execution_count": null,
   "metadata": {},
   "outputs": [],
   "source": [
    "%%question\n",
    "Share an example of a custom user-defined function. "
   ]
  },
  {
   "cell_type": "code",
   "execution_count": null,
   "metadata": {},
   "outputs": [],
   "source": [
    "%%question\n",
    "How do you work with the change feed?"
   ]
  }
 ],
 "metadata": {
  "kernelspec": {
   "display_name": "Python 3",
   "language": "python",
   "name": "python3"
  },
  "language_info": {
   "codemirror_mode": {
    "name": "ipython",
    "version": 3
   },
   "file_extension": ".py",
   "mimetype": "text/x-python",
   "name": "python",
   "nbconvert_exporter": "python",
   "pygments_lexer": "ipython3",
   "version": "3.11.9"
  }
 },
 "nbformat": 4,
 "nbformat_minor": 2
}
