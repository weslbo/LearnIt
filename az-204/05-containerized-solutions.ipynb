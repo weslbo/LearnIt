{
 "cells": [
  {
   "cell_type": "markdown",
   "metadata": {},
   "source": [
    "# AZ-204: Implement containerized solutions"
   ]
  },
  {
   "cell_type": "code",
   "execution_count": 1,
   "metadata": {},
   "outputs": [],
   "source": [
    "import sys\n",
    "sys.path.append('./../utils')\n",
    "import ai"
   ]
  },
  {
   "cell_type": "markdown",
   "metadata": {},
   "source": [
    "# Introduction to containers, images, docker, etc."
   ]
  },
  {
   "cell_type": "code",
   "execution_count": 2,
   "metadata": {},
   "outputs": [
    {
     "data": {
      "text/markdown": [
       "Containerized solutions offer several benefits for modern software development, including:\n",
       "\n",
       "1. **Portability**: Containers can run consistently across different environments, from a developer's laptop to testing and production servers.\n",
       "\n",
       "2. **Scalability**: Containers can be easily scaled up or down to handle varying loads.\n",
       "\n",
       "3. **Isolation**: They provide isolated environments for applications, ensuring that dependencies and configurations do not conflict.\n",
       "\n",
       "4. **Efficiency**: Containers share the host OS kernel, making them more lightweight and efficient compared to traditional virtual machines.\n",
       "\n",
       "5. **Rapid Deployment**: Containers enable faster deployment times and easier updates, as they package applications and their dependencies together.\n",
       "\n",
       "6. **Consistency**: They ensure that applications run the same way regardless of the underlying infrastructure, reducing \"it works on my machine\" issues."
      ],
      "text/plain": [
       "<IPython.core.display.Markdown object>"
      ]
     },
     "metadata": {},
     "output_type": "display_data"
    }
   ],
   "source": [
    "%%question\n",
    "Why do we need containerized solutions for modern software development? "
   ]
  },
  {
   "cell_type": "markdown",
   "metadata": {},
   "source": [
    "- Scale easily\n",
    "- Virtualization of the application (instead of machine) -> smaller\n",
    "- Easier to maintain (versioning)\n",
    "- Containers isolated from eachother\n",
    "- Easier deployment (everything is contained in the container)\n",
    "- Freedom, Scalability\n",
    "- Microservices\n",
    "- Lowering COST"
   ]
  },
  {
   "cell_type": "code",
   "execution_count": 3,
   "metadata": {},
   "outputs": [
    {
     "data": {
      "text/markdown": [
       "Containerized solutions differ from traditional software development in several key ways:\n",
       "\n",
       "1. **Environment Consistency**: Traditional development often faces \"it works on my machine\" issues due to environment differences, whereas containers encapsulate the environment, ensuring consistency across all stages.\n",
       "\n",
       "2. **Resource Utilization**: Containers are more lightweight than virtual machines used in traditional development, allowing for better resource utilization and faster startup times.\n",
       "\n",
       "3. **Deployment Speed**: Containers enable faster deployment and updates because they include all application dependencies, reducing the need for complex setup processes.\n",
       "\n",
       "4. **Scalability and Flexibility**: Scaling applications with containers is more straightforward and often automated, whereas traditional setups may require manual configuration and provisioning.\n",
       "\n",
       "5. **Isolation**: Containers provide better application isolation than traditional methods, reducing the risk of dependency conflicts.\n",
       "\n",
       "6. **Microservices Architecture**: Containers are well-suited for microservices, allowing individual components to be developed, deployed, and scaled independently, unlike monolithic traditional applications."
      ],
      "text/plain": [
       "<IPython.core.display.Markdown object>"
      ]
     },
     "metadata": {},
     "output_type": "display_data"
    }
   ],
   "source": [
    "%%question\n",
    "How does it compare to traditional software development?"
   ]
  },
  {
   "cell_type": "code",
   "execution_count": 4,
   "metadata": {},
   "outputs": [
    {
     "data": {
      "text/markdown": [
       "Some challenges with microservices architecture include:\n",
       "\n",
       "1. **Complexity**: Managing numerous services increases overall system complexity, requiring sophisticated orchestration and management tools.\n",
       "\n",
       "2. **Inter-Service Communication**: Ensuring reliable communication between services can be challenging, especially over unreliable networks.\n",
       "\n",
       "3. **Data Management**: Maintaining data consistency across distributed services often requires complex strategies.\n",
       "\n",
       "4. **Deployment and Monitoring**: Coordinating deployments and monitoring the health of multiple services demands robust tools and practices.\n",
       "\n",
       "5. **Security**: Securing numerous endpoints and managing authentication and authorization across services can be complex.\n",
       "\n",
       "6. **Latency**: Network calls between services can introduce latency, impacting performance.\n",
       "\n",
       "7. **Testing**: End-to-end testing becomes more complex due to the interactions between numerous services."
      ],
      "text/plain": [
       "<IPython.core.display.Markdown object>"
      ]
     },
     "metadata": {},
     "output_type": "display_data"
    }
   ],
   "source": [
    "%%question\n",
    "What are some of challenges with Microservices architecture?"
   ]
  },
  {
   "cell_type": "markdown",
   "metadata": {},
   "source": [
    "- Dependencies are difficult to maintain and (upgrade, backward compatible)\n",
    "- Complex architecture\n",
    "- Communication between microservices - network (HTTP, gRPC): service discovery, latency, exception handling\n",
    "- Monitoring (correlation)"
   ]
  },
  {
   "cell_type": "code",
   "execution_count": 5,
   "metadata": {},
   "outputs": [
    {
     "data": {
      "text/markdown": [
       "Containers improve resource utilization by sharing the host operating system's kernel, which makes them more lightweight and efficient than classic virtualization technologies. Here's how they compare:\n",
       "\n",
       "1. **Overhead**: Containers have less overhead than virtual machines (VMs) because they don't require a separate OS for each instance. VMs include the entire OS, consuming more CPU and memory resources.\n",
       "\n",
       "2. **Startup Time**: Containers start much faster than VMs because they don't need to boot a full OS.\n",
       "\n",
       "3. **Density**: More containers can be run on a single host compared to VMs because of their lightweight nature, allowing better utilization of available hardware resources.\n",
       "\n",
       "4. **Resource Sharing**: Containers can share binaries and libraries, reducing duplication and saving space, unlike VMs which require separate instances of everything.\n",
       "\n",
       "Overall, containers provide a more efficient use of system resources, enabling higher application density and faster operations compared to classic virtual machines."
      ],
      "text/plain": [
       "<IPython.core.display.Markdown object>"
      ]
     },
     "metadata": {},
     "output_type": "display_data"
    }
   ],
   "source": [
    "%%question\n",
    "How are containers supposed to improve resource utilization? How does this compare to classic virtualization technologies?"
   ]
  },
  {
   "cell_type": "code",
   "execution_count": 7,
   "metadata": {},
   "outputs": [
    {
     "data": {
      "text/markdown": [
       "The main components of a Docker container include:\n",
       "\n",
       "1. **Image**: A lightweight, stand-alone, executable package that includes everything needed to run a piece of software, including the code, runtime, libraries, and system tools.\n",
       "\n",
       "2. **Container**: A running instance of an image. Containers are isolated environments where applications run.\n",
       "\n",
       "3. **Dockerfile**: A text file with instructions on how to create a Docker image. It specifies the base image, dependencies, and commands to set up the application.\n",
       "\n",
       "4. **Registry**: A repository like Docker Hub where Docker images are stored and can be pulled from.\n",
       "\n",
       "5. **Volumes**: Mechanisms for persisting data outside of the container's filesystem, allowing data to be shared between containers or retained after a container is removed.\n",
       "\n",
       "6. **Networks**: Configurations that allow containers to communicate with each other and external systems securely and efficiently."
      ],
      "text/plain": [
       "<IPython.core.display.Markdown object>"
      ]
     },
     "metadata": {},
     "output_type": "display_data"
    }
   ],
   "source": [
    "%%question\n",
    "What are the main components of a container (e.g., Docker container)?"
   ]
  },
  {
   "cell_type": "code",
   "execution_count": null,
   "metadata": {},
   "outputs": [],
   "source": [
    "%%question\n",
    "Can you provide an example of a real-world application that benefits from containerization?"
   ]
  },
  {
   "cell_type": "code",
   "execution_count": 9,
   "metadata": {},
   "outputs": [
    {
     "data": {
      "text/markdown": [
       "Docker Hub is a cloud-based repository service where Docker users can store, share, and manage Docker images. It acts as a centralized registry that provides the following functionalities:\n",
       "\n",
       "1. **Image Hosting**: Users can push and pull Docker images, making it easy to share and distribute software.\n",
       "\n",
       "2. **Public and Private Repositories**: It supports both public repositories, which are accessible to everyone, and private repositories, which are accessible only to authorized users.\n",
       "\n",
       "3. **Automated Builds**: Docker Hub can automatically build images from a source code repository, such as GitHub, whenever changes are detected.\n",
       "\n",
       "4. **Official Images**: It hosts a wide range of official images maintained by Docker or trusted partners, offering reliable and secure base images for applications.\n",
       "\n",
       "5. **Community Contributions**: Users can share their images with the community, facilitating collaboration and reuse of software components. \n",
       "\n",
       "Docker Hub simplifies the management and distribution of containerized applications across different environments."
      ],
      "text/plain": [
       "<IPython.core.display.Markdown object>"
      ]
     },
     "metadata": {},
     "output_type": "display_data"
    }
   ],
   "source": [
    "%%question\n",
    "What is the docker hub?"
   ]
  },
  {
   "cell_type": "code",
   "execution_count": 11,
   "metadata": {},
   "outputs": [
    {
     "data": {
      "text/markdown": [
       "To pull and run a WordPress image from Docker Hub, follow these steps:\n",
       "\n",
       "1. **Install Docker**: Ensure Docker is installed and running on your system.\n",
       "\n",
       "2. **Pull the WordPress Image**: Open a terminal and run the following command to pull the official WordPress image:\n",
       "   ```bash\n",
       "   docker pull wordpress\n",
       "   ```\n",
       "\n",
       "3. **Run the WordPress Container**: Use the following command to run the WordPress container. This example assumes you also need a MySQL database container:\n",
       "   ```bash\n",
       "   docker run --name some-wordpress --link some-mysql:mysql -p 8080:80 -d wordpress\n",
       "   ```\n",
       "   - Replace `some-wordpress` with your desired container name.\n",
       "   - `--link some-mysql:mysql` links the WordPress container to a MySQL container (you need to set up MySQL separately).\n",
       "   - `-p 8080:80` maps port 8080 on your host to port 80 on the container, making WordPress accessible at `http://localhost:8080`.\n",
       "\n",
       "4. **Set Up MySQL**: If you haven't already set up a MySQL container, you can do so with:\n",
       "   ```bash\n",
       "   docker run --name some-mysql -e MYSQL_ROOT_PASSWORD=my-secret-pw -d mysql:5.7\n",
       "   ```\n",
       "   - Replace `my-secret-pw` with a strong password.\n",
       "\n",
       "5. **Access WordPress**: Open a web browser and go to `http://localhost:8080` to complete the WordPress installation process.\n",
       "\n",
       "These steps will get you a running WordPress instance using Docker. Adjust the configurations as needed for your specific setup."
      ],
      "text/plain": [
       "<IPython.core.display.Markdown object>"
      ]
     },
     "metadata": {},
     "output_type": "display_data"
    }
   ],
   "source": [
    "%%question\n",
    "How do I pull and run a wordpress image from the docker hub?"
   ]
  },
  {
   "cell_type": "markdown",
   "metadata": {},
   "source": [
    "```sh\n",
    "docker pull wordpress\n",
    "docker images\n",
    "docker run -d -p 8080:80 wordpress\n",
    "docker ps\n",
    "docker kill 8b3\n",
    "docker ps\n",
    "```"
   ]
  },
  {
   "cell_type": "code",
   "execution_count": 12,
   "metadata": {},
   "outputs": [
    {
     "data": {
      "text/markdown": [
       "To pull and run a Microsoft SQL Server (SQL Server) database as a container, follow these steps:\n",
       "\n",
       "1. **Install Docker**: Ensure Docker is installed and running on your system.\n",
       "\n",
       "2. **Pull the SQL Server Image**: Open a terminal and run the following command to pull the official SQL Server image:\n",
       "   ```bash\n",
       "   docker pull mcr.microsoft.com/mssql/server\n",
       "   ```\n",
       "\n",
       "3. **Run the SQL Server Container**: Use the following command to run the SQL Server container:\n",
       "   ```bash\n",
       "   docker run -e 'ACCEPT_EULA=Y' -e 'SA_PASSWORD=YourStrong@Passw0rd' \\\n",
       "   -p 1433:1433 --name sqlserver -d mcr.microsoft.com/mssql/server\n",
       "   ```\n",
       "   - `-e 'ACCEPT_EULA=Y'` accepts the end-user license agreement.\n",
       "   - `-e 'SA_PASSWORD=YourStrong@Passw0rd'` sets the system administrator password; replace with a strong password.\n",
       "   - `-p 1433:1433` maps port 1433 on your host to port 1433 on the container, the default SQL Server port.\n",
       "   - `--name sqlserver` names the container `sqlserver`.\n",
       "\n",
       "4. **Verify the Container**: Check if the container is running with:\n",
       "   ```bash\n",
       "   docker ps\n",
       "   ```\n",
       "\n",
       "5. **Connect to SQL Server**: Use a SQL Server client (like SQL Server Management Studio or Azure Data Studio) to connect to `localhost,1433` using the `sa` username and the password you set earlier.\n",
       "\n",
       "These steps will set up a running SQL Server instance in a Docker container. Adjust environment variables and configurations as needed for your specific requirements."
      ],
      "text/plain": [
       "<IPython.core.display.Markdown object>"
      ]
     },
     "metadata": {},
     "output_type": "display_data"
    }
   ],
   "source": [
    "%%question\n",
    "How do I pull and run a Microsoft SQL Server database as a container?"
   ]
  },
  {
   "cell_type": "code",
   "execution_count": 13,
   "metadata": {},
   "outputs": [
    {
     "data": {
      "text/markdown": [
       "To store the MDF and LDF files on a Docker volume for a SQL Server container, follow these steps:\n",
       "\n",
       "1. **Create a Docker Volume**: You need to create a Docker volume to persist the database files:\n",
       "   ```bash\n",
       "   docker volume create sqlserverdata\n",
       "   ```\n",
       "\n",
       "2. **Run the SQL Server Container with the Volume**: Start the SQL Server container and mount the volume to the appropriate directory inside the container where SQL Server stores its data files. Typically, this is `/var/opt/mssql`:\n",
       "   ```bash\n",
       "   docker run -e 'ACCEPT_EULA=Y' -e 'SA_PASSWORD=YourStrong@Passw0rd' \\\n",
       "   -p 1433:1433 --name sqlserver \\\n",
       "   -v sqlserverdata:/var/opt/mssql \\\n",
       "   -d mcr.microsoft.com/mssql/server\n",
       "   ```\n",
       "   - `-v sqlserverdata:/var/opt/mssql` mounts the `sqlserverdata` volume to `/var/opt/mssql` in the container.\n",
       "\n",
       "3. **Verify the Setup**: You can verify that the volume is being used by inspecting the volume:\n",
       "   ```bash\n",
       "   docker volume inspect sqlserverdata\n",
       "   ```\n",
       "\n",
       "With this setup, the database files (MDF and LDF) will be stored on the Docker volume, ensuring that data persists even if the container is removed or restarted. Adjust the configurations as needed for your specific use case."
      ],
      "text/plain": [
       "<IPython.core.display.Markdown object>"
      ]
     },
     "metadata": {},
     "output_type": "display_data"
    }
   ],
   "source": [
    "%%question\n",
    "How can I store the mdf and ldf files on a volume for SQL Server container?"
   ]
  },
  {
   "cell_type": "code",
   "execution_count": 14,
   "metadata": {},
   "outputs": [
    {
     "data": {
      "text/markdown": [
       "To create and run a Docker container that contains a .NET Core 9 app (assuming .NET 9, as .NET Core has merged into .NET), follow these steps:\n",
       "\n",
       "1. **Create a .NET Application**: If you haven’t already, create a new .NET application. In your terminal, run:\n",
       "   ```bash\n",
       "   dotnet new webapp -n MyDotNetApp\n",
       "   cd MyDotNetApp\n",
       "   ```\n",
       "\n",
       "2. **Create a Dockerfile**: In the root directory of your .NET application, create a file named `Dockerfile` with the following content:\n",
       "   ```dockerfile\n",
       "   # Use the official .NET image for building the app\n",
       "   FROM mcr.microsoft.com/dotnet/sdk:9.0 AS build\n",
       "   WORKDIR /app\n",
       "\n",
       "   # Copy csproj and restore as distinct layers\n",
       "   COPY *.csproj ./\n",
       "   RUN dotnet restore\n",
       "\n",
       "   # Copy everything else and build\n",
       "   COPY . ./\n",
       "   RUN dotnet publish -c Release -o out\n",
       "\n",
       "   # Use the official .NET image for running the app\n",
       "   FROM mcr.microsoft.com/dotnet/aspnet:9.0 AS runtime\n",
       "   WORKDIR /app\n",
       "   COPY --from=build /app/out ./\n",
       "   ENTRYPOINT [\"dotnet\", \"MyDotNetApp.dll\"]\n",
       "   ```\n",
       "\n",
       "3. **Build the Docker Image**: Build the Docker image with the following command:\n",
       "   ```bash\n",
       "   docker build -t my-dotnet-app .\n",
       "   ```\n",
       "\n",
       "4. **Run the Docker Container**: Use the following command to run the Docker container:\n",
       "   ```bash\n",
       "   docker run -d -p 8080:80 --name my-dotnet-running-app my-dotnet-app\n",
       "   ```\n",
       "\n",
       "5. **Access the Application**: Open a web browser and go to `http://localhost:8080` to see your .NET application running.\n",
       "\n",
       "These steps will get your .NET 9 application running in a Docker container. Adjust the configurations in the `Dockerfile` and Docker commands as needed for your specific application."
      ],
      "text/plain": [
       "<IPython.core.display.Markdown object>"
      ]
     },
     "metadata": {},
     "output_type": "display_data"
    }
   ],
   "source": [
    "%%question\n",
    "How do you create and run a Docker container that contains a dotnet core app (version 9)?"
   ]
  },
  {
   "cell_type": "code",
   "execution_count": 16,
   "metadata": {},
   "outputs": [
    {
     "data": {
      "text/markdown": [
       "This Dockerfile is used to build and deploy a .NET 9 application using a multi-stage build process. Here's what each part does:\n",
       "\n",
       "1. **Stage 1: Base Image**\n",
       "   - `FROM mcr.microsoft.com/dotnet/aspnet:9.0 AS base`: Sets up a base image using the .NET 9 ASP.NET runtime.\n",
       "   - `WORKDIR /app`: Sets the working directory to `/app`.\n",
       "   - `EXPOSE 80`: Exposes port 80 for the application.\n",
       "   - `ENV ASPNETCORE_URLS=http://+:80`: Configures ASP.NET Core to listen on port 80.\n",
       "\n",
       "2. **Stage 2: Build Image**\n",
       "   - `FROM --platform=$BUILDPLATFORM mcr.microsoft.com/dotnet/sdk:9.0 AS build`: Uses a .NET 9 SDK image for building the application, allowing cross-platform builds if needed.\n",
       "   - `ARG configuration=Release`: Defines a build argument for the configuration, defaulting to Release.\n",
       "   - `WORKDIR /src`: Sets the working directory to `/src`.\n",
       "   - `COPY [\"az204docker.csproj\", \"./\"]`: Copies the project file into the container.\n",
       "   - `RUN dotnet restore \"az204docker.csproj\"`: Restores the project dependencies.\n",
       "   - `COPY . .`: Copies the entire project into the container.\n",
       "   - `WORKDIR \"/src/.\"`: Sets the working directory to the project root.\n",
       "   - `RUN dotnet build \"az204docker.csproj\" -c $configuration -o /app/build`: Builds the application.\n",
       "\n",
       "3. **Stage 3: Publish Image**\n",
       "   - `FROM build AS publish`: Starts a new stage from the build stage.\n",
       "   - `ARG configuration=Release`: Reuses the configuration argument.\n",
       "   - `RUN dotnet publish \"az204docker.csproj\" -c $configuration -o /app/publish /p:UseAppHost=false`: Publishes the application to the `/app/publish` directory, with `UseAppHost=false` to avoid generating a platform-specific executable.\n",
       "\n",
       "4. **Stage 4: Final Image**\n",
       "   - `FROM base AS final`: Begins a new stage based on the base image.\n",
       "   - `WORKDIR /app`: Sets the working directory to `/app`.\n",
       "   - `COPY --from=publish /app/publish .`: Copies the published application from the publish stage.\n",
       "   - `ENTRYPOINT [\"dotnet\", \"az204docker.dll\"]`: Sets the entry point to run the application.\n",
       "\n",
       "This Dockerfile efficiently builds, publishes, and packages the .NET application, creating a lightweight runtime image for deployment."
      ],
      "text/plain": [
       "<IPython.core.display.Markdown object>"
      ]
     },
     "metadata": {},
     "output_type": "display_data"
    }
   ],
   "source": [
    "%%question\n",
    "What does the following dockerfile do?\n",
    "\n",
    "FROM mcr.microsoft.com/dotnet/aspnet:9.0 AS base\n",
    "WORKDIR /app\n",
    "EXPOSE 80\n",
    "\n",
    "ENV ASPNETCORE_URLS=http://+:80\n",
    "\n",
    "FROM --platform=$BUILDPLATFORM mcr.microsoft.com/dotnet/sdk:9.0 AS build\n",
    "ARG configuration=Release\n",
    "WORKDIR /src\n",
    "COPY [\"az204docker.csproj\", \"./\"]\n",
    "RUN dotnet restore \"az204docker.csproj\"\n",
    "COPY . .\n",
    "WORKDIR \"/src/.\"\n",
    "RUN dotnet build \"az204docker.csproj\" -c $configuration -o /app/build\n",
    "\n",
    "FROM build AS publish\n",
    "ARG configuration=Release\n",
    "RUN dotnet publish \"az204docker.csproj\" -c $configuration -o /app/publish /p:UseAppHost=false\n",
    "\n",
    "FROM base AS final\n",
    "WORKDIR /app\n",
    "COPY --from=publish /app/publish .\n",
    "ENTRYPOINT [\"dotnet\", \"az204docker.dll\"]\n"
   ]
  },
  {
   "cell_type": "code",
   "execution_count": 17,
   "metadata": {},
   "outputs": [
    {
     "data": {
      "text/markdown": [
       "To build the Docker image using the provided Dockerfile, follow these steps:\n",
       "\n",
       "1. **Navigate to the Directory**: Open a terminal and navigate to the directory containing your Dockerfile and the .NET project (`az204docker.csproj`).\n",
       "\n",
       "2. **Build the Docker Image**: Run the following command to build the image:\n",
       "   ```bash\n",
       "   docker build -t my-dotnet-app .\n",
       "   ```\n",
       "   - `-t my-dotnet-app`: Tags the image with the name `my-dotnet-app`. You can replace `my-dotnet-app` with any name you prefer.\n",
       "   - `.` specifies the current directory as the build context.\n",
       "\n",
       "This command will execute the instructions in the Dockerfile to create a Docker image of your .NET application. Once the build completes, you can verify the image is created by running:\n",
       "```bash\n",
       "docker images\n",
       "```\n",
       "\n",
       "This will list all Docker images on your system, and you should see `my-dotnet-app` among them."
      ],
      "text/plain": [
       "<IPython.core.display.Markdown object>"
      ]
     },
     "metadata": {},
     "output_type": "display_data"
    }
   ],
   "source": [
    "%%question\n",
    "How do I build this image?"
   ]
  },
  {
   "cell_type": "code",
   "execution_count": 10,
   "metadata": {},
   "outputs": [
    {
     "data": {
      "text/markdown": [
       "Image layers are individual read-only layers that make up a Docker image. Each layer represents a set of file system changes, such as adding, modifying, or deleting files. When you build a Docker image using a Dockerfile, each instruction in the Dockerfile creates a new layer.\n",
       "\n",
       "**Benefits of Image Layers:**\n",
       "\n",
       "1. **Efficiency**: Layers allow for efficient storage and transfer of images. Only the layers that have changed need to be updated or downloaded, reducing bandwidth and speeding up deployment.\n",
       "\n",
       "2. **Reusability**: Since layers are cached, they can be reused across different images. This speeds up the build process, as unchanged layers do not need to be rebuilt.\n",
       "\n",
       "3. **Modularity**: Layers enable a modular approach to image creation. Changes can be made to individual layers without affecting others, providing flexibility in updating and maintaining images.\n",
       "\n",
       "4. **Versioning**: Each layer acts like a version of the file system, allowing you to roll back to previous states if necessary.\n",
       "\n",
       "Overall, image layers contribute to the efficiency, speed, and flexibility of working with Docker images."
      ],
      "text/plain": [
       "<IPython.core.display.Markdown object>"
      ]
     },
     "metadata": {},
     "output_type": "display_data"
    }
   ],
   "source": [
    "%%question\n",
    "What are image layers and why are they beneficial?"
   ]
  },
  {
   "cell_type": "code",
   "execution_count": 15,
   "metadata": {},
   "outputs": [
    {
     "data": {
      "text/markdown": [
       "A multi-container application is an application that consists of multiple interconnected services, each running in its own container. These services can include web servers, databases, cache systems, etc. Docker Compose is a tool that helps define and run multi-container Docker applications using a simple YAML file.\n",
       "\n",
       "**Deploying a Multi-Container Application with Docker Compose:**\n",
       "\n",
       "1. **Create a `docker-compose.yml` File**: This file describes the services, networks, and volumes your application requires. Here's an example for a web application with a database:\n",
       "\n",
       "   ```yaml\n",
       "   version: '3.8'\n",
       "\n",
       "   services:\n",
       "     web:\n",
       "       image: my-web-app\n",
       "       build: .\n",
       "       ports:\n",
       "         - \"8080:80\"\n",
       "       depends_on:\n",
       "         - db\n",
       "\n",
       "     db:\n",
       "       image: postgres:latest\n",
       "       environment:\n",
       "         POSTGRES_USER: user\n",
       "         POSTGRES_PASSWORD: password\n",
       "         POSTGRES_DB: mydatabase\n",
       "       volumes:\n",
       "         - dbdata:/var/lib/postgresql/data\n",
       "\n",
       "   volumes:\n",
       "     dbdata:\n",
       "   ```\n",
       "\n",
       "   - `services`: Defines the containers to be run.\n",
       "   - `web`: A service using a custom image built from the local Dockerfile.\n",
       "   - `db`: A PostgreSQL database service.\n",
       "   - `depends_on`: Specifies the order of service startup.\n",
       "   - `volumes`: Persists data for the database.\n",
       "\n",
       "2. **Build and Start the Application**: Run the following command in the directory containing your `docker-compose.yml` file:\n",
       "   ```bash\n",
       "   docker-compose up --build\n",
       "   ```\n",
       "\n",
       "   - `--build`: Rebuilds images before starting containers.\n",
       "\n",
       "3. **Access the Application**: Access your application at `http://localhost:8080`.\n",
       "\n",
       "4. **Stop the Application**: Use the following command to stop and remove containers:\n",
       "   ```bash\n",
       "   docker-compose down\n",
       "   ```\n",
       "\n",
       "Docker Compose simplifies managing multi-container applications by centralizing the configuration and lifecycle management into a single file. Adjust the `docker-compose.yml` configurations as needed for your specific application's requirements."
      ],
      "text/plain": [
       "<IPython.core.display.Markdown object>"
      ]
     },
     "metadata": {},
     "output_type": "display_data"
    }
   ],
   "source": [
    "%%question\n",
    "What is a multi-container application and how do you deploy it using Docker Compose?"
   ]
  },
  {
   "cell_type": "markdown",
   "metadata": {},
   "source": [
    "# Manage container images in Azure Container Registry"
   ]
  },
  {
   "cell_type": "code",
   "execution_count": 18,
   "metadata": {},
   "outputs": [
    {
     "name": "stdout",
     "output_type": "stream",
     "text": [
      "https://learn.microsoft.com/en-us/training/modules/publish-container-image-to-azure-container-registry/1-introduction\n",
      "https://learn.microsoft.com/en-us/training/modules/publish-container-image-to-azure-container-registry/2-azure-container-registry-overview\n",
      "https://learn.microsoft.com/en-us/training/modules/publish-container-image-to-azure-container-registry/3-azure-container-registry-storage\n",
      "https://learn.microsoft.com/en-us/training/modules/publish-container-image-to-azure-container-registry/4-azure-container-registry-tasks\n",
      "https://learn.microsoft.com/en-us/training/modules/publish-container-image-to-azure-container-registry/5-dockerfile-components\n",
      "https://learn.microsoft.com/en-us/training/modules/publish-container-image-to-azure-container-registry/6-build-run-image-azure-container-registry\n"
     ]
    },
    {
     "data": {
      "text/plain": [
       "('',\n",
       " 'https://learn.microsoft.com/en-us/training/modules/publish-container-image-to-azure-container-registry/\\n')"
      ]
     },
     "execution_count": 18,
     "metadata": {},
     "output_type": "execute_result"
    }
   ],
   "source": [
    "%%learn\n",
    "https://learn.microsoft.com/en-us/training/modules/publish-container-image-to-azure-container-registry/"
   ]
  },
  {
   "cell_type": "code",
   "execution_count": 19,
   "metadata": {},
   "outputs": [
    {
     "data": {
      "text/markdown": [
       "Azure Container Registry (ACR) is used for storing and managing private Docker container images and related artifacts. It integrates with container development and deployment pipelines, allowing for automated builds and deployments using ACR Tasks. It supports scalable orchestration systems like Kubernetes and Azure services such as Azure Kubernetes Service (AKS) and Azure App Service."
      ],
      "text/plain": [
       "<IPython.core.display.Markdown object>"
      ]
     },
     "metadata": {},
     "output_type": "display_data"
    }
   ],
   "source": [
    "%%question\n",
    "What is Azure Container Registry used for?"
   ]
  },
  {
   "cell_type": "code",
   "execution_count": 20,
   "metadata": {},
   "outputs": [
    {
     "data": {
      "text/markdown": [
       "Certainly! Here's a comparison between Azure Container Registry (ACR) and Docker Hub:\n",
       "\n",
       "| Feature/Aspect         | Azure Container Registry (ACR)                                | Docker Hub                                      |\n",
       "|------------------------|---------------------------------------------------------------|-------------------------------------------------|\n",
       "| **Type**               | Managed private registry                                      | Public registry with private options            |\n",
       "| **Integration**        | Integrates with Azure services (AKS, App Service, etc.)       | Integrates with Docker CLI and third-party tools|\n",
       "| **Authentication**     | Supports Azure Active Directory (Microsoft Entra) integration | Uses Docker ID for authentication                |\n",
       "| **Geo-replication**    | Available in Premium tier for multi-region replication        | Not directly supported                           |\n",
       "| **Service Tiers**      | Basic, Standard, Premium                                      | Free, Pro, Team, Business plans                  |\n",
       "| **Automated Builds**   | Supports ACR Tasks for automated builds and deployments       | Supports automated builds with GitHub/Bitbucket |\n",
       "| **Security Features**  | Supports content trust and encryption-at-rest                 | Basic security features, private repositories    |\n",
       "| **Storage**            | Managed storage within Azure                                  | Hosted storage with limitations on free tier     |\n",
       "| **Pricing**            | Based on tier and usage                                       | Free tier with limitations, paid plans available |\n",
       "\n",
       "These differences highlight how ACR is tailored for integration within the Azure ecosystem, offering advanced features like geo-replication and Azure-specific authentication, while Docker Hub provides a more general-purpose platform with a focus on public and private repositories."
      ],
      "text/plain": [
       "<IPython.core.display.Markdown object>"
      ]
     },
     "metadata": {},
     "output_type": "display_data"
    }
   ],
   "source": [
    "%%question\n",
    "How does this differ from Docker Hub? Compare this in a table"
   ]
  },
  {
   "cell_type": "code",
   "execution_count": 21,
   "metadata": {},
   "outputs": [
    {
     "data": {
      "text/markdown": [
       "Certainly! Here’s a comparison of the different Azure Container Registry (ACR) service tiers:\n",
       "\n",
       "| Feature/Aspect          | Basic                                | Standard                            | Premium                              |\n",
       "|-------------------------|--------------------------------------|-------------------------------------|---------------------------------------|\n",
       "| **Purpose**             | Entry-level, cost-optimized          | Suitable for most production needs  | High-volume and enterprise scenarios  |\n",
       "| **Storage Capacity**    | Lower storage capacity               | Moderate storage capacity           | Highest storage capacity available    |\n",
       "| **Image Throughput**    | Lower throughput                     | Higher throughput than Basic        | Highest throughput and concurrency    |\n",
       "| **Geo-replication**     | Not available                        | Not available                       | Available                             |\n",
       "| **Content Trust**       | Not available                        | Not available                       | Available                             |\n",
       "| **Private Link**        | Not available                        | Not available                       | Available                             |\n",
       "| **Webhooks**            | Supported                            | Supported                           | Supported                             |\n",
       "| **Microsoft Entra (Azure AD) Integration** | Supported      | Supported                           | Supported                             |\n",
       "\n",
       "These tiers allow users to choose the appropriate level of performance and features based on their needs and budget, with Premium offering additional enterprise-level features such as geo-replication and private link support."
      ],
      "text/plain": [
       "<IPython.core.display.Markdown object>"
      ]
     },
     "metadata": {},
     "output_type": "display_data"
    }
   ],
   "source": [
    "%%question\n",
    "What are the different Azure Container Registry service tiers? Compare this in a table"
   ]
  },
  {
   "cell_type": "code",
   "execution_count": 22,
   "metadata": {},
   "outputs": [
    {
     "data": {
      "text/markdown": [
       "Azure Container Registry (ACR) supports several image formats, including:\n",
       "\n",
       "1. **Docker Images**: \n",
       "   - **Description**: Standard container images used to package applications and their dependencies.\n",
       "   - **Usage**: Commonly used across different container orchestration platforms, such as Kubernetes and Docker Swarm.\n",
       "\n",
       "2. **Open Container Initiative (OCI) Images**:\n",
       "   - **Description**: A specification for container images aimed at fostering an open container ecosystem.\n",
       "   - **Usage**: Similar to Docker images but follows the OCI standard, ensuring compatibility across different platforms.\n",
       "\n",
       "3. **Helm Charts**:\n",
       "   - **Description**: Packages that define Kubernetes applications, including all necessary resources and dependencies.\n",
       "   - **Usage**: Used to deploy and manage applications on Kubernetes clusters efficiently.\n",
       "\n",
       "**Differences**:\n",
       "- **Docker vs. OCI Images**: OCI images adhere to an open standard, promoting compatibility and interoperability, while Docker images are built around the Docker-specific format. However, both are functionally similar and often interchangeable.\n",
       "- **Helm Charts**: Unlike Docker and OCI images, Helm charts are not images themselves but packages that facilitate the deployment of containerized applications in Kubernetes environments, including configuration and dependencies.\n",
       "\n",
       "Azure Container Registry's support for these formats allows flexible and efficient management and deployment of containerized applications across different environments."
      ],
      "text/plain": [
       "<IPython.core.display.Markdown object>"
      ]
     },
     "metadata": {},
     "output_type": "display_data"
    }
   ],
   "source": [
    "%%question\n",
    "What image formats are supported by Azure Container Registry?  What are the differences between them?"
   ]
  },
  {
   "cell_type": "code",
   "execution_count": 23,
   "metadata": {},
   "outputs": [
    {
     "data": {
      "text/markdown": [
       "To push your locally developed Docker image to Azure Container Registry (ACR), follow these steps:\n",
       "\n",
       "1. **Create an Azure Container Registry**:\n",
       "   - Use the Azure Portal, Azure CLI, or Azure PowerShell to create a new container registry.\n",
       "   - Example using Azure CLI:\n",
       "     ```bash\n",
       "     az acr create --resource-group <resource-group-name> --name <registry-name> --sku Basic\n",
       "     ```\n",
       "\n",
       "2. **Log in to Azure Container Registry**:\n",
       "   - Authenticate with your ACR instance using Azure CLI:\n",
       "     ```bash\n",
       "     az acr login --name <registry-name>\n",
       "     ```\n",
       "\n",
       "3. **Tag your Docker Image**:\n",
       "   - Tag the local Docker image with the ACR login server name:\n",
       "     ```bash\n",
       "     docker tag <local-image>:<tag> <registry-name>.azurecr.io/<image>:<tag>\n",
       "     ```\n",
       "\n",
       "4. **Push the Image to ACR**:\n",
       "   - Push your tagged image to the container registry:\n",
       "     ```bash\n",
       "     docker push <registry-name>.azurecr.io/<image>:<tag>\n",
       "     ```\n",
       "\n",
       "5. **Verify the Image in ACR**:\n",
       "   - Use the Azure CLI to list the repositories in your registry to confirm the image was pushed:\n",
       "     ```bash\n",
       "     az acr repository list --name <registry-name> --output table\n",
       "     ```\n",
       "   - You can also list the tags of the specific repository:\n",
       "     ```bash\n",
       "     az acr repository show-tags --name <registry-name> --repository <image> --output table\n",
       "     ```\n",
       "\n",
       "These steps will help you push your Docker image from your local environment to your Azure Container Registry for use in deployments."
      ],
      "text/plain": [
       "<IPython.core.display.Markdown object>"
      ]
     },
     "metadata": {},
     "output_type": "display_data"
    }
   ],
   "source": [
    "%%question\n",
    "What steps would I need to take in order to push my locally developed docker image into the container registry?"
   ]
  },
  {
   "cell_type": "code",
   "execution_count": 24,
   "metadata": {},
   "outputs": [
    {
     "data": {
      "text/markdown": [
       "An Azure Container Registry Task (ACR Task) is a feature of Azure Container Registry that automates the building, testing, and deployment of container images in the cloud. \n",
       "\n",
       "**Purpose of ACR Tasks**:\n",
       "- **Automated Builds**: Automatically build container images when changes are made to the source code or when a base image is updated.\n",
       "- **Continuous Integration/Continuous Deployment (CI/CD)**: Integrate with CI/CD pipelines to streamline the development and deployment processes.\n",
       "- **Multi-Architecture Builds**: Build images for different architectures (e.g., Linux, Windows) using ACR Tasks.\n",
       "- **Build on Demand**: Trigger builds manually as needed for development or testing purposes.\n",
       "- **Multi-Step Workflows**: Define complex workflows involving multiple build, test, and deployment steps using YAML files.\n",
       "\n",
       "ACR Tasks help to simplify and automate the management of container images, improving efficiency and consistency in the deployment of containerized applications."
      ],
      "text/plain": [
       "<IPython.core.display.Markdown object>"
      ]
     },
     "metadata": {},
     "output_type": "display_data"
    }
   ],
   "source": [
    "%%question\n",
    "What is an Azure Container Registry Task. What's the purpose of this?"
   ]
  },
  {
   "cell_type": "code",
   "execution_count": 25,
   "metadata": {},
   "outputs": [
    {
     "data": {
      "text/markdown": [
       "Certainly! Here's a simple example of a C# application and how you can build its Docker image using Azure CLI.\n",
       "\n",
       "### Example C# Application\n",
       "\n",
       "Create a simple C# console application:\n",
       "\n",
       "1. **Create the Project:**\n",
       "   ```bash\n",
       "   mkdir HelloWorldApp\n",
       "   cd HelloWorldApp\n",
       "   dotnet new console\n",
       "   ```\n",
       "\n",
       "2. **Edit the Program:**\n",
       "   - Open `Program.cs` and modify it if necessary (default will print \"Hello, World!\").\n",
       "\n",
       "3. **Create a Dockerfile:**\n",
       "   - Create a file named `Dockerfile` in your project directory with the following content:\n",
       "     ```dockerfile\n",
       "     FROM mcr.microsoft.com/dotnet/runtime:6.0 AS base\n",
       "     WORKDIR /app\n",
       "\n",
       "     FROM mcr.microsoft.com/dotnet/sdk:6.0 AS build\n",
       "     WORKDIR /src\n",
       "     COPY . .\n",
       "     RUN dotnet build -c Release -o /app/build\n",
       "\n",
       "     FROM build AS publish\n",
       "     RUN dotnet publish -c Release -o /app/publish\n",
       "\n",
       "     FROM base AS final\n",
       "     WORKDIR /app\n",
       "     COPY --from=publish /app/publish .\n",
       "     ENTRYPOINT [\"dotnet\", \"HelloWorldApp.dll\"]\n",
       "     ```\n",
       "\n",
       "### Building the Image with Azure CLI\n",
       "\n",
       "4. **Login to Azure and ACR:**\n",
       "   - Ensure you are logged into Azure and your ACR:\n",
       "     ```bash\n",
       "     az login\n",
       "     az acr login --name <your-registry-name>\n",
       "     ```\n",
       "\n",
       "5. **Build the Image using ACR Tasks:**\n",
       "   - Use the Azure CLI to build the image directly in ACR:\n",
       "     ```bash\n",
       "     az acr build --registry <your-registry-name> --image hello-world-app:latest .\n",
       "     ```\n",
       "\n",
       "6. **Verify the Image:**\n",
       "   - Check that the image was built and is available in your ACR:\n",
       "     ```bash\n",
       "     az acr repository list --name <your-registry-name> --output table\n",
       "     ```\n",
       "\n",
       "This process uses an ACR Task to build the Docker image in the cloud, which can be more efficient and does not require local Docker installations."
      ],
      "text/plain": [
       "<IPython.core.display.Markdown object>"
      ]
     },
     "metadata": {},
     "output_type": "display_data"
    }
   ],
   "source": [
    "%%question\n",
    "Can you share a small example in C# and how I would build the image using AZ CLI?"
   ]
  },
  {
   "cell_type": "markdown",
   "metadata": {},
   "source": [
    "# Run container images in Azure Container Instances"
   ]
  },
  {
   "cell_type": "code",
   "execution_count": 26,
   "metadata": {},
   "outputs": [
    {
     "name": "stdout",
     "output_type": "stream",
     "text": [
      "https://learn.microsoft.com/en-us/training/modules/create-run-container-images-azure-container-instances/1-introduction\n",
      "https://learn.microsoft.com/en-us/training/modules/create-run-container-images-azure-container-instances/2-azure-container-instances-overview\n",
      "https://learn.microsoft.com/en-us/training/modules/create-run-container-images-azure-container-instances/3-run-azure-container-instances-cloud-shell\n",
      "https://learn.microsoft.com/en-us/training/modules/create-run-container-images-azure-container-instances/4-run-containerized-tasks-restart-policies\n",
      "https://learn.microsoft.com/en-us/training/modules/create-run-container-images-azure-container-instances/5-set-environment-variables-azure-container-instances\n",
      "https://learn.microsoft.com/en-us/training/modules/create-run-container-images-azure-container-instances/6-mount-azure-file-share-azure-container-instances\n"
     ]
    },
    {
     "data": {
      "text/plain": [
       "('',\n",
       " 'https://learn.microsoft.com/en-us/training/modules/create-run-container-images-azure-container-instances/\\n')"
      ]
     },
     "execution_count": 26,
     "metadata": {},
     "output_type": "execute_result"
    }
   ],
   "source": [
    "%%learn\n",
    "https://learn.microsoft.com/en-us/training/modules/create-run-container-images-azure-container-instances/"
   ]
  },
  {
   "cell_type": "code",
   "execution_count": 27,
   "metadata": {},
   "outputs": [
    {
     "data": {
      "text/markdown": [
       "Azure Container Instances (ACI) provide a simple and fast way to run containers in Azure without managing virtual machines. ACI allows you to deploy containers with ease, offering fast startup times, isolation with hypervisor-level security, and support for both Linux and Windows containers. It supports features like custom resource allocation, persistent storage with Azure file shares, and direct internet exposure with an IP address and FQDN. ACI is ideal for scenarios requiring isolated containers, such as simple applications, task automation, and build jobs."
      ],
      "text/plain": [
       "<IPython.core.display.Markdown object>"
      ]
     },
     "metadata": {},
     "output_type": "display_data"
    }
   ],
   "source": [
    "%%question\n",
    "What are Azure Container Instances?"
   ]
  },
  {
   "cell_type": "code",
   "execution_count": 28,
   "metadata": {},
   "outputs": [
    {
     "data": {
      "text/markdown": [
       "No, with Azure Container Instances (ACI), you do not need to provision or manage virtual machines. ACI handles the infrastructure management, allowing you to focus on running your containers."
      ],
      "text/plain": [
       "<IPython.core.display.Markdown object>"
      ]
     },
     "metadata": {},
     "output_type": "display_data"
    }
   ],
   "source": [
    "%%question\n",
    "Do I need to provision virtual machines for this?"
   ]
  },
  {
   "cell_type": "code",
   "execution_count": 29,
   "metadata": {},
   "outputs": [
    {
     "data": {
      "text/markdown": [
       "Azure Container Instances are useful in various scenarios, including:\n",
       "\n",
       "1. **Development and Testing**: Quickly spin up containers to test applications or perform development tasks without managing infrastructure.\n",
       "\n",
       "2. **Task Automation**: Run batch jobs, data processing tasks, or automation scripts that require temporary compute capacity.\n",
       "\n",
       "3. **Microservices**: Deploy simple microservices that do not require full orchestration or complex infrastructure.\n",
       "\n",
       "4. **Event-Driven Applications**: Execute containers in response to events, such as processing messages from a queue.\n",
       "\n",
       "5. **CI/CD Pipelines**: Use ACI to build, test, or deploy applications as part of a continuous integration/continuous deployment workflow.\n",
       "\n",
       "6. **Temporary Workloads**: Run short-lived tasks or applications that do not need long-term hosting, reducing costs by paying only for the resources used.\n",
       "\n",
       "7. **Prototyping and Demos**: Quickly deploy application prototypes or demos without the overhead of setting up a full environment."
      ],
      "text/plain": [
       "<IPython.core.display.Markdown object>"
      ]
     },
     "metadata": {},
     "output_type": "display_data"
    }
   ],
   "source": [
    "%%question\n",
    "What would be usefull scenarios to use Azure Container Instances?"
   ]
  },
  {
   "cell_type": "code",
   "execution_count": 30,
   "metadata": {},
   "outputs": [
    {
     "data": {
      "text/markdown": [
       "Virtual Kubelets are a Kubernetes feature that allows you to extend the Kubernetes API by connecting to other compute backends, such as serverless container platforms. They act as a node within a Kubernetes cluster but do not have the overhead of a full Kubernetes node. Instead, they communicate with other services to manage the lifecycle of pods.\n",
       "\n",
       "In the context of Azure, the Azure Virtual Kubelet integrates Azure Container Instances (ACI) with Kubernetes, allowing you to run pods on ACI as if they were part of your Kubernetes cluster. This provides the flexibility to scale workloads without managing additional infrastructure."
      ],
      "text/plain": [
       "<IPython.core.display.Markdown object>"
      ]
     },
     "metadata": {},
     "output_type": "display_data"
    }
   ],
   "source": [
    "%%question\n",
    "What are Virtual Kubelets?"
   ]
  },
  {
   "cell_type": "code",
   "execution_count": null,
   "metadata": {},
   "outputs": [],
   "source": [
    "%%question\n",
    "Would this also be usefull to run fullsize enterprise line of business applications that require scalability?"
   ]
  },
  {
   "cell_type": "code",
   "execution_count": 31,
   "metadata": {},
   "outputs": [
    {
     "data": {
      "text/markdown": [
       "Azure Container Instances (ACI) does not natively provide automatic scaling features like Kubernetes. However, you can manually scale your container instances by adjusting the number of containers you deploy. For automatic scaling, it's recommended to use Azure Kubernetes Service (AKS) with Azure Virtual Kubelet, which can leverage ACI to scale out workloads seamlessly based on demand."
      ],
      "text/plain": [
       "<IPython.core.display.Markdown object>"
      ]
     },
     "metadata": {},
     "output_type": "display_data"
    }
   ],
   "source": [
    "%%question\n",
    "Has ACI support for scaling up/down/out/in?"
   ]
  },
  {
   "cell_type": "code",
   "execution_count": 32,
   "metadata": {},
   "outputs": [
    {
     "data": {
      "text/markdown": [
       "Azure Container Instances (ACI) supports running a container group, which is similar to using Docker Compose. A container group in ACI allows you to deploy multiple containers on the same host with shared resources, networking, and storage.\n",
       "\n",
       "To implement this:\n",
       "\n",
       "1. **YAML File**: Define your container group in a YAML file. Specify the containers, their images, ports, environment variables, and volumes.\n",
       "\n",
       "2. **Azure CLI**: Use the Azure CLI to deploy the container group using the YAML file. The command looks like this:\n",
       "   ```bash\n",
       "   az container create --resource-group <resource-group> --file <your-yaml-file>.yaml\n",
       "   ```\n",
       "\n",
       "3. **Azure Resource Manager Template**: Alternatively, use an Azure Resource Manager template if you need to deploy additional Azure resources along with your container group.\n",
       "\n",
       "This approach allows you to define and deploy multi-container applications in ACI, similar to how you would with Docker Compose."
      ],
      "text/plain": [
       "<IPython.core.display.Markdown object>"
      ]
     },
     "metadata": {},
     "output_type": "display_data"
    }
   ],
   "source": [
    "%%question\n",
    "Does it support running a container group (docker compose)? How would I implement this?"
   ]
  },
  {
   "cell_type": "code",
   "execution_count": 33,
   "metadata": {},
   "outputs": [
    {
     "data": {
      "text/markdown": [
       "Yes, you can mount an Azure file share to a container in Azure Container Instances (ACI). Here's how you can do it:\n",
       "\n",
       "1. **Create an Azure File Share**: \n",
       "   - Use the Azure Portal or Azure CLI to create a file share in an Azure Storage Account.\n",
       "\n",
       "2. **Mount the File Share in ACI**:\n",
       "   - You need to specify the file share details when creating the container instance. This can be done using the Azure CLI or a YAML file.\n",
       "\n",
       "   **Using Azure CLI**:\n",
       "   ```bash\n",
       "   az container create \\\n",
       "     --resource-group <resource-group> \\\n",
       "     --name <container-name> \\\n",
       "     --image <image> \\\n",
       "     --azure-file-volume-account-name <storage-account-name> \\\n",
       "     --azure-file-volume-account-key <storage-account-key> \\\n",
       "     --azure-file-volume-share-name <file-share-name> \\\n",
       "     --azure-file-volume-mount-path /mnt/azfiles\n",
       "   ```\n",
       "\n",
       "   **Using YAML**:\n",
       "   ```yaml\n",
       "   apiVersion: '2018-10-01'\n",
       "   location: <location>\n",
       "   name: <container-group-name>\n",
       "   properties:\n",
       "     containers:\n",
       "     - name: <container-name>\n",
       "       properties:\n",
       "         image: <image>\n",
       "         volumeMounts:\n",
       "         - mountPath: /mnt/azfiles\n",
       "           name: myazfileshare\n",
       "     osType: Linux\n",
       "     volumes:\n",
       "     - name: myazfileshare\n",
       "       azureFile:\n",
       "         shareName: <file-share-name>\n",
       "         storageAccountName: <storage-account-name>\n",
       "         storageAccountKey: <storage-account-key>\n",
       "   ```\n",
       "\n",
       "3. **Deploy the Container**:\n",
       "   - Use the Azure CLI to deploy the container group with the YAML file:\n",
       "   ```bash\n",
       "   az container create --resource-group <resource-group> --file <your-yaml-file>.yaml\n",
       "   ```\n",
       "\n",
       "This setup allows your container to access the Azure file share at the specified mount path, enabling persistent storage of data beyond the container's lifecycle."
      ],
      "text/plain": [
       "<IPython.core.display.Markdown object>"
      ]
     },
     "metadata": {},
     "output_type": "display_data"
    }
   ],
   "source": [
    "%%question\n",
    "Can I mount a fileshare to a container? How would I do this?"
   ]
  },
  {
   "cell_type": "code",
   "execution_count": 34,
   "metadata": {},
   "outputs": [
    {
     "data": {
      "text/markdown": [
       "Azure Container Instances (ACI) supports three different restart policies. Here's a comparison in table format:\n",
       "\n",
       "| Restart Policy | Description                                                                                       | Usage Scenario                                          |\n",
       "|----------------|---------------------------------------------------------------------------------------------------|---------------------------------------------------------|\n",
       "| Always         | Containers are always restarted regardless of the exit status. This is the default policy.        | Use for persistent services that need to run continuously. |\n",
       "| Never          | Containers are never restarted. They run once and do not restart automatically.                   | Suitable for one-time tasks or batch jobs.              |\n",
       "| OnFailure      | Containers are restarted only when they fail (exit with a nonzero status).                        | Ideal for retrying failed tasks or jobs automatically.  |\n",
       "\n",
       "### How to Set the Restart Policy\n",
       "\n",
       "To set the restart policy for a container group using the Azure CLI, you can specify the `--restart-policy` parameter:\n",
       "\n",
       "```bash\n",
       "az container create \\\n",
       "  --resource-group <resource-group> \\\n",
       "  --name <container-name> \\\n",
       "  --image <image> \\\n",
       "  --restart-policy <policy> \\\n",
       "  --other-parameters \n",
       "```\n",
       "\n",
       "Replace `<policy>` with `Always`, `Never`, or `OnFailure` depending on your requirement. Adjust other parameters as necessary for your specific deployment."
      ],
      "text/plain": [
       "<IPython.core.display.Markdown object>"
      ]
     },
     "metadata": {},
     "output_type": "display_data"
    }
   ],
   "source": [
    "%%question \n",
    "What are the different restart policies supported by ACI? Compare them in table format. Also include instructions how to set the policy"
   ]
  },
  {
   "cell_type": "code",
   "execution_count": 35,
   "metadata": {},
   "outputs": [
    {
     "data": {
      "text/markdown": [
       "To set environment variables for a container in Azure Container Instances (ACI), you can specify them during the creation of the container using the Azure CLI or in a YAML file.\n",
       "\n",
       "### Using Azure CLI\n",
       "\n",
       "```bash\n",
       "az container create \\\n",
       "  --resource-group <resource-group> \\\n",
       "  --name <container-name> \\\n",
       "  --image <image> \\\n",
       "  --environment-variables VAR1=value1 VAR2=value2 \\\n",
       "  --other-parameters\n",
       "```\n",
       "\n",
       "### Using YAML\n",
       "\n",
       "Define the environment variables in the `environmentVariables` section of your YAML file:\n",
       "\n",
       "```yaml\n",
       "apiVersion: '2018-10-01'\n",
       "location: <location>\n",
       "name: <container-group-name>\n",
       "properties:\n",
       "  containers:\n",
       "  - name: <container-name>\n",
       "    properties:\n",
       "      image: <image>\n",
       "      environmentVariables:\n",
       "      - name: VAR1\n",
       "        value: value1\n",
       "      - name: VAR2\n",
       "        value: value2\n",
       "  osType: Linux\n",
       "```\n",
       "\n",
       "Then deploy the container using the YAML file:\n",
       "\n",
       "```bash\n",
       "az container create --resource-group <resource-group> --file <your-yaml-file>.yaml\n",
       "```\n",
       "\n",
       "This will set and pass the specified environment variables to the container when it starts."
      ],
      "text/plain": [
       "<IPython.core.display.Markdown object>"
      ]
     },
     "metadata": {},
     "output_type": "display_data"
    }
   ],
   "source": [
    "%%question\n",
    "How can I set environment variables?"
   ]
  },
  {
   "cell_type": "markdown",
   "metadata": {},
   "source": [
    "# Implement Azure Container Apps"
   ]
  },
  {
   "cell_type": "code",
   "execution_count": 36,
   "metadata": {},
   "outputs": [
    {
     "name": "stdout",
     "output_type": "stream",
     "text": [
      "https://learn.microsoft.com/en-us/training/modules/implement-azure-container-apps/1-introduction\n",
      "https://learn.microsoft.com/en-us/training/modules/implement-azure-container-apps/2-explore-azure-container-apps\n",
      "https://learn.microsoft.com/en-us/training/modules/implement-azure-container-apps/4-container-apps-containers\n",
      "https://learn.microsoft.com/en-us/training/modules/implement-azure-container-apps/5-container-apps-authentication\n",
      "https://learn.microsoft.com/en-us/training/modules/implement-azure-container-apps/6-container-apps-revisions-secrets\n",
      "https://learn.microsoft.com/en-us/training/modules/implement-azure-container-apps/7-explore-distributed-application-runtime\n"
     ]
    },
    {
     "data": {
      "text/plain": [
       "('',\n",
       " 'https://learn.microsoft.com/en-us/training/modules/implement-azure-container-apps/\\n')"
      ]
     },
     "execution_count": 36,
     "metadata": {},
     "output_type": "execute_result"
    }
   ],
   "source": [
    "%%learn\n",
    "https://learn.microsoft.com/en-us/training/modules/implement-azure-container-apps/"
   ]
  },
  {
   "cell_type": "code",
   "execution_count": 37,
   "metadata": {},
   "outputs": [
    {
     "data": {
      "text/markdown": [
       "Azure Container Apps is a serverless container service that allows you to run microservices and containerized applications on a serverless platform without managing infrastructure. It supports features like dynamic scaling, HTTPS ingress, and integration with Dapr for building microservices. Azure Container Apps is ideal for deploying API endpoints, background processing applications, event-driven processing, and more."
      ],
      "text/plain": [
       "<IPython.core.display.Markdown object>"
      ]
     },
     "metadata": {},
     "output_type": "display_data"
    }
   ],
   "source": [
    "%%question\n",
    "What is Azure Container Apps?"
   ]
  },
  {
   "cell_type": "code",
   "execution_count": 38,
   "metadata": {},
   "outputs": [
    {
     "data": {
      "text/markdown": [
       "Certainly! Here's a comparison between Azure Container Instances (ACI), Azure Container Apps (ACA), and Azure Kubernetes Service (AKS):\n",
       "\n",
       "| Feature/Aspect         | Azure Container Instances (ACI)                                            | Azure Container Apps (ACA)                                         | Azure Kubernetes Service (AKS)                              |\n",
       "|------------------------|----------------------------------------------------------------------------|---------------------------------------------------------------------|-------------------------------------------------------------|\n",
       "| **Purpose**            | Run single containers quickly without managing infrastructure              | Serverless platform for running containerized apps and microservices | Full-fledged Kubernetes service for container orchestration |\n",
       "| **Use Case**           | Simple tasks, short-lived workloads, and isolated containers                | Microservices, event-driven apps, scale-to-zero applications        | Complex applications requiring orchestration, scaling, and management |\n",
       "| **Infrastructure**     | No infrastructure management                                                | No infrastructure management                                        | Requires managing Kubernetes nodes                          |\n",
       "| **Scaling**            | Manual scaling of container instances                                       | Autoscaling based on HTTP traffic, events, CPU, memory via KEDA     | Autoscaling with Kubernetes tools like HPA and Cluster Autoscaler |\n",
       "| **Service Discovery**  | Limited, typically for single-container scenarios                           | Built-in service discovery and internal ingress                     | Full Kubernetes service discovery and networking            |\n",
       "| **Deployment Complexity** | Extremely simple, deploy individual containers                           | Moderate complexity for deploying apps with revisions               | High complexity, requires Kubernetes knowledge              |\n",
       "| **Integration with Dapr** | No direct integration                                                    | Native Dapr integration for building microservices                  | Dapr can be integrated manually                             |\n",
       "| **Persistent Storage** | Azure File Share is supported                                               | Secrets management, but no direct persistent storage feature        | Supports various persistent storage options with Kubernetes |\n",
       "| **Ingress**            | Public IP assigned to container, limited control                            | Built-in HTTPS ingress support                                      | Full ingress support with custom controllers                |\n",
       "| **Security**           | Basic isolation per container                                               | Built-in authentication and authorization                           | Comprehensive security options with Kubernetes RBAC and policies |\n",
       "| **Pricing Model**      | Pay-per-second billing for running containers                               | Serverless pricing model, pay for resources used                    | Pay for node VMs and additional Azure services used         |\n",
       "| **Ideal For**          | Quick, simple deployments                                                   | Serverless microservices and event-driven applications              | Large-scale, complex applications requiring orchestration   |\n",
       "\n",
       "This table highlights the key differences and use cases for each of these Azure container services, helping you choose the right one based on your specific needs."
      ],
      "text/plain": [
       "<IPython.core.display.Markdown object>"
      ]
     },
     "metadata": {},
     "output_type": "display_data"
    }
   ],
   "source": [
    "%%question\n",
    "Provide me with a detailed comparison between ACI, ACA and AKS in table format"
   ]
  },
  {
   "cell_type": "code",
   "execution_count": 39,
   "metadata": {},
   "outputs": [
    {
     "data": {
      "text/markdown": [
       "To deploy an Azure Container App using the Azure CLI with an image from Azure Container Registry (ACR), follow these steps:\n",
       "\n",
       "1. **Log in to Azure:**\n",
       "   ```bash\n",
       "   az login\n",
       "   ```\n",
       "\n",
       "2. **Set your subscription (if necessary):**\n",
       "   ```bash\n",
       "   az account set --subscription <your-subscription-id>\n",
       "   ```\n",
       "\n",
       "3. **Create a Resource Group:**\n",
       "   ```bash\n",
       "   az group create --name <resource-group-name> --location <location>\n",
       "   ```\n",
       "\n",
       "4. **Create an Azure Container Apps Environment:**\n",
       "   ```bash\n",
       "   az containerapp env create --name <env-name> --resource-group <resource-group-name> --location <location>\n",
       "   ```\n",
       "\n",
       "5. **Deploy the Container App:**\n",
       "   ```bash\n",
       "   az containerapp create \\\n",
       "     --name <app-name> \\\n",
       "     --resource-group <resource-group-name> \\\n",
       "     --environment <env-name> \\\n",
       "     --image <your-acr-name>.azurecr.io/<image-name>:<tag> \\\n",
       "     --registry-server <your-acr-name>.azurecr.io \\\n",
       "     --registry-username <acr-username> \\\n",
       "     --registry-password <acr-password> \\\n",
       "     --ingress external \\\n",
       "     --target-port <container-port>\n",
       "   ```\n",
       "\n",
       "Replace placeholders like `<resource-group-name>`, `<location>`, `<app-name>`, `<env-name>`, `<your-acr-name>`, `<image-name>`, `<tag>`, `<acr-username>`, `<acr-password>`, and `<container-port>` with your actual values.\n",
       "\n",
       "Note: Ensure that your ACR credentials are correct and you have the necessary permissions to pull images from the ACR. You may also consider using a managed identity for more secure access to the registry."
      ],
      "text/plain": [
       "<IPython.core.display.Markdown object>"
      ]
     },
     "metadata": {},
     "output_type": "display_data"
    }
   ],
   "source": [
    "%%question\n",
    "How would I deploy a Azure Container App using AZ CLI, using an image that already has been pushed into the Azure Container Registry"
   ]
  },
  {
   "cell_type": "code",
   "execution_count": 40,
   "metadata": {},
   "outputs": [
    {
     "data": {
      "text/markdown": [
       "**KEDA (Kubernetes Event-Driven Autoscaling)** is a component that allows event-driven scaling for Kubernetes workloads. It enables applications to scale based on the number of events or messages in a queue, among other metrics, without needing custom code for scaling logic.\n",
       "\n",
       "**Dapr (Distributed Application Runtime)** is a runtime that simplifies the development of microservices by providing building blocks for service-to-service invocation, state management, pub/sub messaging, and more. It helps developers build resilient, distributed applications without needing to handle these concerns manually.\n",
       "\n",
       "**Relation to Azure Container Apps:**\n",
       "\n",
       "- **KEDA**: Azure Container Apps uses KEDA to provide autoscaling capabilities based on various metrics like HTTP traffic, event-driven processing, CPU, and memory load. This allows Container Apps to scale dynamically and efficiently.\n",
       "\n",
       "- **Dapr**: Azure Container Apps has native integration with Dapr, which enables developers to build microservices with rich features such as service invocation, state management, and pub/sub. This integration simplifies the process of building and deploying microservices on Azure Container Apps by leveraging Dapr's capabilities.\n",
       "\n",
       "In summary, both KEDA and Dapr enhance Azure Container Apps by providing advanced scaling and microservice development features."
      ],
      "text/plain": [
       "<IPython.core.display.Markdown object>"
      ]
     },
     "metadata": {},
     "output_type": "display_data"
    }
   ],
   "source": [
    "%%question\n",
    "What is KEDA and DAPR? How do they relate to Azure Container Apps?"
   ]
  },
  {
   "cell_type": "code",
   "execution_count": 41,
   "metadata": {},
   "outputs": [
    {
     "data": {
      "text/markdown": [
       "**Dapr (Distributed Application Runtime)** provides several features that simplify building distributed, microservice-based applications. Here are some key features:\n",
       "\n",
       "1. **Service-to-Service Invocation**: Allows direct communication between services with automatic retries and mutual TLS encryption.\n",
       "\n",
       "2. **State Management**: Provides a consistent API for managing state, supporting various state stores like Redis, Azure Cosmos DB, and more.\n",
       "\n",
       "3. **Pub/Sub Messaging**: Enables services to communicate asynchronously using a publish-subscribe model with different brokers.\n",
       "\n",
       "4. **Bindings**: Connects microservices to external systems and SaaS platforms for input/output operations.\n",
       "\n",
       "5. **Actors**: Provides a virtual actor pattern for building stateful, distributed applications.\n",
       "\n",
       "6. **Observability**: Integrates with monitoring systems to provide insights into service interactions and performance.\n",
       "\n",
       "7. **Secrets Management**: Access and manage secrets securely within applications.\n",
       "\n",
       "### Example Scenario\n",
       "\n",
       "**Scenario**: Building a Retail Order Processing System\n",
       "\n",
       "- **Service-to-Service Invocation**: The \"Order\" service calls the \"Inventory\" service to check stock levels before confirming an order.\n",
       "\n",
       "- **State Management**: The \"Order\" service uses Dapr to store order details in a state store, such as Redis, ensuring data persistence.\n",
       "\n",
       "- **Pub/Sub Messaging**: When an order is placed, the \"Order\" service publishes an event to a pub/sub broker. The \"Shipping\" service subscribes to this event to initiate the shipping process.\n",
       "\n",
       "- **Bindings**: The \"Payment\" service uses Dapr bindings to process payments via an external payment gateway.\n",
       "\n",
       "- **Actors**: The \"Customer\" service uses Dapr actors to manage customer sessions and preferences.\n",
       "\n",
       "- **Observability**: Dapr provides tracing and metrics for all interactions, allowing the team to monitor the system's health and performance.\n",
       "\n",
       "- **Secrets Management**: The \"Payment\" service accesses sensitive payment API keys securely using Dapr's secrets management.\n",
       "\n",
       "By leveraging Dapr, the retail system can be developed with minimal boilerplate code, focusing on business logic while Dapr handles distributed system complexities."
      ],
      "text/plain": [
       "<IPython.core.display.Markdown object>"
      ]
     },
     "metadata": {},
     "output_type": "display_data"
    }
   ],
   "source": [
    "%%question\n",
    "What kind of features are provided by DAPR? Illustrate with a small example scenario."
   ]
  },
  {
   "cell_type": "code",
   "execution_count": 42,
   "metadata": {},
   "outputs": [
    {
     "data": {
      "text/markdown": [
       "To implement authentication and authorization with Azure Container Apps, you can use its built-in authentication features, which integrate with various identity providers. Here's how you can set it up:\n",
       "\n",
       "1. **Enable Authentication**:\n",
       "   - Ensure that your container app is configured to use HTTPS ingress. This is required for secure authentication.\n",
       "\n",
       "2. **Choose an Identity Provider**:\n",
       "   - Azure Container Apps supports several identity providers out-of-the-box, including:\n",
       "     - Microsoft Identity Platform (Azure Active Directory)\n",
       "     - Facebook\n",
       "     - GitHub\n",
       "     - Google\n",
       "     - Twitter (X)\n",
       "     - Any OpenID Connect provider\n",
       "\n",
       "3. **Configure Authentication**:\n",
       "   - Use the Azure Portal, Azure CLI, or ARM templates to enable and configure authentication for your container app.\n",
       "   - For example, using the Azure CLI, you can set up authentication with a command like:\n",
       "     ```bash\n",
       "     az containerapp auth set --name <app-name> --resource-group <resource-group> --identity-provider <provider> --client-id <client-id> --client-secret <client-secret> --issuer-url <issuer-url>\n",
       "     ```\n",
       "   - Replace placeholders with appropriate values for your chosen identity provider.\n",
       "\n",
       "4. **Set Access Restrictions**:\n",
       "   - Decide whether to restrict access to authenticated users only or to allow unauthenticated access.\n",
       "   - You can configure this in the Azure Portal or through the CLI by setting the \"Restrict access\" setting to either \"Require authentication\" or \"Allow unauthenticated access\".\n",
       "\n",
       "5. **Implement Authorization Logic** (if needed):\n",
       "   - While Azure Container Apps handles authentication, you might need to implement additional authorization logic in your application to handle roles and permissions based on user identity.\n",
       "\n",
       "6. **Test the Authentication Flow**:\n",
       "   - Verify the setup by attempting to access your application. You should be redirected to the identity provider's sign-in page if authentication is required.\n",
       "\n",
       "Azure Container Apps handles the authentication flow and session management, injecting identity information into HTTP request headers for your application to use. This setup allows you to secure your container apps with minimal code and configuration."
      ],
      "text/plain": [
       "<IPython.core.display.Markdown object>"
      ]
     },
     "metadata": {},
     "output_type": "display_data"
    }
   ],
   "source": [
    "%%question\n",
    "How do I implement authentication and authorization with Azure Container Apps?"
   ]
  },
  {
   "cell_type": "code",
   "execution_count": 43,
   "metadata": {},
   "outputs": [
    {
     "data": {
      "text/markdown": [
       "Azure Container Apps (ACA) handles version upgrades differently from Kubernetes due to its serverless nature and built-in version management features.\n",
       "\n",
       "**Azure Container Apps:**\n",
       "- **Revisions:** ACA uses a concept called \"revisions\" to manage different versions of your application. Each time you update your app's configuration or deploy a new image, a new revision is created. This allows you to easily roll back to a previous version if needed.\n",
       "- **Traffic Splitting:** ACA allows you to split traffic between different revisions, facilitating canary deployments, A/B testing, or blue-green deployments. You can control the percentage of traffic directed to each revision.\n",
       "- **Automatic Updates:** ACA abstracts much of the underlying infrastructure management, so you don't manually manage rolling updates. The platform handles the deployment process for you.\n",
       "\n",
       "**Kubernetes:**\n",
       "- **Manual Control:** Kubernetes provides more granular control over deployments using objects like Deployments, StatefulSets, and DaemonSets. You can define update strategies (e.g., rolling updates, canary releases) and manage them manually.\n",
       "- **Custom Strategies:** Kubernetes allows you to implement custom deployment strategies, including complex scenarios like blue-green deployments or A/B testing, using tools like Helm or operators.\n",
       "- **Infrastructure Management:** With Kubernetes, you need to manage the cluster infrastructure and ensure nodes are updated and maintained.\n",
       "\n",
       "In summary, ACA simplifies version management with automatic revision handling and traffic splitting, while Kubernetes offers more control and customization for deployment strategies but requires more hands-on management."
      ],
      "text/plain": [
       "<IPython.core.display.Markdown object>"
      ]
     },
     "metadata": {},
     "output_type": "display_data"
    }
   ],
   "source": [
    "%%question\n",
    "How does ACA handle version upgrades? It is the same as with Kubernetes?"
   ]
  },
  {
   "cell_type": "code",
   "execution_count": 44,
   "metadata": {},
   "outputs": [
    {
     "data": {
      "text/markdown": [
       "To retrieve a secret value as a developer in Azure Container Apps, follow these steps:\n",
       "\n",
       "1. **Define the Secret in Azure Container Apps:**\n",
       "   - First, store your secret in Azure Container Apps using the Azure CLI or Azure Portal. Secrets can be defined at the application level and are accessible to all revisions of the app.\n",
       "   - Example using Azure CLI:\n",
       "     ```bash\n",
       "     az containerapp secret set --name <app-name> --resource-group <resource-group> --secrets key1=value1 key2=value2\n",
       "     ```\n",
       "\n",
       "2. **Reference the Secret in Your Application:**\n",
       "   - Configure your container app's environment variables to reference the secret.\n",
       "   - Example using Azure CLI:\n",
       "     ```bash\n",
       "     az containerapp update --name <app-name> --resource-group <resource-group> --env-vars MY_SECRET=secretref:key1\n",
       "     ```\n",
       "\n",
       "3. **Access the Secret in Your Code:**\n",
       "   - Once the secret is set as an environment variable, access it from your application code just like any other environment variable.\n",
       "   - Example in Python:\n",
       "     ```python\n",
       "     import os\n",
       "\n",
       "     my_secret_value = os.getenv('MY_SECRET')\n",
       "     print(\"The secret value is:\", my_secret_value)\n",
       "     ```\n",
       "\n",
       "4. **Deploy or Update Your Application:**\n",
       "   - If you haven't already, deploy or update your application to use the new configuration that includes the secret reference.\n",
       "\n",
       "By following these steps, you can securely access secret values in Azure Container Apps without hardcoding them in your application code."
      ],
      "text/plain": [
       "<IPython.core.display.Markdown object>"
      ]
     },
     "metadata": {},
     "output_type": "display_data"
    }
   ],
   "source": [
    "%%question\n",
    "Imagine I need to get a secret value. How would I approach this from a developers perspective in Azure Container Apps?"
   ]
  },
  {
   "cell_type": "code",
   "execution_count": 45,
   "metadata": {},
   "outputs": [
    {
     "data": {
      "text/markdown": [
       "If you want to use Azure Key Vault with Azure Container Apps, the process is a bit different as direct integration isn't natively supported. However, you can still access secrets from Azure Key Vault by following these steps:\n",
       "\n",
       "1. **Set Up Azure Key Vault**:\n",
       "   - Store your secrets in Azure Key Vault.\n",
       "\n",
       "2. **Enable Managed Identity on Azure Container App**:\n",
       "   - Use a managed identity to allow Azure Container Apps to access Azure Key Vault securely without hardcoding credentials.\n",
       "   - Enable a managed identity for your container app:\n",
       "     ```bash\n",
       "     az containerapp identity assign --name <app-name> --resource-group <resource-group>\n",
       "     ```\n",
       "\n",
       "3. **Grant Key Vault Access**:\n",
       "   - Assign the managed identity the necessary permissions to access the secrets in Azure Key Vault.\n",
       "   - Use Azure CLI to set an access policy:\n",
       "     ```bash\n",
       "     az keyvault set-policy --name <keyvault-name> --object-id <identity-object-id> --secret-permissions get\n",
       "     ```\n",
       "\n",
       "4. **Access Secrets in Your Application Code**:\n",
       "   - Use the Azure SDK for your programming language to interact with Azure Key Vault from your application.\n",
       "   - Example in Python:\n",
       "     ```python\n",
       "     from azure.identity import ManagedIdentityCredential\n",
       "     from azure.keyvault.secrets import SecretClient\n",
       "\n",
       "     credential = ManagedIdentityCredential()\n",
       "     client = SecretClient(vault_url=\"https://<keyvault-name>.vault.azure.net/\", credential=credential)\n",
       "\n",
       "     secret = client.get_secret(\"<secret-name>\")\n",
       "     print(\"The secret value is:\", secret.value)\n",
       "     ```\n",
       "\n",
       "By using Azure Key Vault with managed identities, you can securely retrieve secrets in Azure Container Apps without exposing sensitive information, leveraging Azure's identity and access management capabilities."
      ],
      "text/plain": [
       "<IPython.core.display.Markdown object>"
      ]
     },
     "metadata": {},
     "output_type": "display_data"
    }
   ],
   "source": [
    "%%question\n",
    "What if I want to use Azure Key Vault? Would this work similarly?"
   ]
  }
 ],
 "metadata": {
  "kernelspec": {
   "display_name": "Python 3",
   "language": "python",
   "name": "python3"
  },
  "language_info": {
   "codemirror_mode": {
    "name": "ipython",
    "version": 3
   },
   "file_extension": ".py",
   "mimetype": "text/x-python",
   "name": "python",
   "nbconvert_exporter": "python",
   "pygments_lexer": "ipython3",
   "version": "3.11.9"
  }
 },
 "nbformat": 4,
 "nbformat_minor": 2
}
